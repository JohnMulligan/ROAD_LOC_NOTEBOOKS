{
  "nbformat": 4,
  "nbformat_minor": 0,
  "metadata": {
    "colab": {
      "provenance": [],
      "authorship_tag": "ABX9TyOnNwiXsy+b/yYw+HoJTBo4",
      "include_colab_link": true
    },
    "kernelspec": {
      "name": "python3",
      "display_name": "Python 3"
    },
    "language_info": {
      "name": "python"
    }
  },
  "cells": [
    {
      "cell_type": "markdown",
      "metadata": {
        "id": "view-in-github",
        "colab_type": "text"
      },
      "source": [
        "<a href=\"https://colab.research.google.com/github/Iamthebarrow/ROAD_LOC_NOTEBOOKS/blob/main/Iamthebarrow_Collections.ipynb\" target=\"_parent\"><img src=\"https://colab.research.google.com/assets/colab-badge.svg\" alt=\"Open In Colab\"/></a>"
      ]
    },
    {
      "cell_type": "markdown",
      "source": [
        "# My Findings on \"American Colony in Jerusalem, 1870-2006\" Collection\n",
        "## The Normal Webpage view\n",
        "The website is structured to provide a comprehensive overview of the American Colony in Jerusalem collection. It features a clean and accessible layout, designed for easy navigation. Users can explore various sections such as an overview of the collection, its significance, and the types of materials included. The site utilizes both text, images, and  audio to showcase highlights and key items from the collection, allowing for an engaging and educational experience. The Library of Congress platform ensures visitors have access to a wealth of resources and tools to further their research or interest in the subject. This specific page can be found from this link to [American Colony in Jerusalem, 1870 to 2006](https://www.loc.gov/collections/american-colony-in-jerusalem/).\n",
        "\n",
        "In addition, it also provides the following materials and information:\n",
        "-   Collection spans from 1786 to 2007, focusing on the American Colony in Jerusalem.\n",
        "-   Includes 16,600 items like manuscripts, photos, and diaries.\n",
        "-   Documents life in Jerusalem and the Colony's impact on its social and religious life.\n",
        "-   Provides insights into the Middle East's complex history through personal accounts and visual archives.\n",
        "------\n",
        "## The JSON format\n",
        "The information regarding \"American Colony in Jerusalem, 1870-2006\" Collection is found listed under \"['results'],[29]\" of [the main collections view](https://www.loc.gov/collections/american-colony-in-jerusalem/about-this-collection/). Navigating the JSON format of the collection contrasts sharply with the user-friendly web interface, marked by an absence of visual aids and a minimalist text-centric presentation. This method inundates users with raw data, making it challenging to locate specific items due to the need to navigate through numerous textual elements and hyperlinks. Although the structure becomes more apparent, facilitating an understanding of the data organization, the utility of interacting with the JSON format seems limited mainly to those seeking a deeper comprehension of the data architecture, rather than a general exploration.\n",
        "\n",
        "## The Request format  \n",
        "\n",
        "Software strictly adheres to its instructions, which can result in both highly effective or problematic outcomes depending on the precision of those instructions. The ease of using JSON in Python, or any programming language, hinges on familiarity with the necessary commands to achieve a specific aim. My experience revealed a mix of frustration and satisfaction; frustration from the learning curve and satisfaction once mastery was achieved, underscoring the efficiency of tasks requiring repetition for those with the necessary skills.This format was accessed through the use of [Google Colab](https://colab.research.google.com/drive/1P56UDL9Nyy0A3dQONsLOOinUnP7kMDqO). It would not have been at all possible to learn how to access a specific collection without the help and collaboration of my peers.\n",
        "\n",
        "See below the code used to access collections:\n"
      ],
      "metadata": {
        "id": "wGOYtj0xTno1"
      }
    },
    {
      "cell_type": "code",
      "source": [
        "collections_json = requests.get(\"https://www.loc.gov/collections/?fo=json\").json()\n",
        "\n",
        "for collection in collections_json[\"results\"]:\n",
        "    print(collection[\"title\"])"
      ],
      "metadata": {
        "colab": {
          "base_uri": "https://localhost:8080/"
        },
        "id": "2E69wa7DbEJ6",
        "outputId": "d4b346d8-1d51-4518-b7c0-5c11ea948b8a"
      },
      "execution_count": null,
      "outputs": [
        {
          "output_type": "stream",
          "name": "stdout",
          "text": [
            "10th-16th Century Liturgical Chants\n",
            "A.P. Schmidt Company archives, 1869-1958\n",
            "Aaron Copland Collection\n",
            "Abdul Hamid II Collection\n",
            "Abdul-Hamid II Collection of Books and Serials Gifted to the Library of Congress\n",
            "Abraham Lincoln Papers at the Library of Congress\n",
            "Afghanistan Web Archive\n",
            "Afghanistan, Iran, Pakistan and Tajikistan Government Web Archive\n",
            "Afghanistan, Iran, Pakistan, and Tajikistan Elections Web Archive\n",
            "African American Perspectives: Materials Selected from the Rare Book Collection\n",
            "African American Photographs Assembled for 1900 Paris Exposition\n",
            "African Government Web Archive\n",
            "African-American Band Music & Recordings, 1883-1923\n",
            "Africana Historic Postcard Collection\n",
            "After the Day of Infamy: \"Man-on-the-Street\" Interviews Following the Attack on Pearl Harbor\n",
            "Ainu and Ezochi Rare Collection\n",
            "Alan Lomax Collection\n",
            "Alan Lomax Collection of Michigan and Wisconsin Recordings\n",
            "Albert Schatz Collection\n",
            "Alexander Graham Bell Family Papers at the Library of Congress\n",
            "Alexander Hamilton Papers\n",
            "Alexander Hamilton Stephens Papers\n",
            "The Alfred Whital Stern Collection of Lincolniana\n",
            "Amazing Grace\n",
            "America at Work, America at Leisure: Motion Pictures from 1894-1915\n",
            "America Singing: Nineteenth-Century Song Sheets\n",
            "An American Ballroom Companion: Dance Instruction Manuals, ca. 1490-1920\n",
            "American Choral Music\n",
            "American Civil War Sesquicentennial Web Archive\n",
            "American Colony in Jerusalem, 1870-2006\n",
            "American English Dialect Recordings: The Center for Applied Linguistics Collection\n",
            "American Federation of Labor Records\n",
            "American Leaders Speak: Recordings from World War I\n",
            "American Life Histories: Manuscripts from the Federal Writers' Project, 1936-1940\n",
            "American Music Creators Web Archive\n",
            "American Music Industry Web Archive\n",
            "American Notes: Travels in America, 1750-1920\n",
            "American Revolution and Its Era: Maps and Charts of North America and the West Indies, 1750-1789\n",
            "American Variety Stage: Vaudeville and Popular Entertainment, 1870-1920\n",
            "Ancestral Voices\n"
          ]
        }
      ]
    },
    {
      "cell_type": "code",
      "source": [
        "collections_json = requests.get(\"https://www.loc.gov/collections/?fo=json\").json()\n",
        "\n",
        "while True:\n",
        "    for collection in collections_json[\"results\"]:\n",
        "        print(collection[\"title\"])\n",
        "    next_page = collections_json[\"pagination\"][\"next\"]\n",
        "    if next_page is not None:\n",
        "        collections_json = requests.get(next_page).json()\n",
        "    else:\n",
        "        break"
      ],
      "metadata": {
        "colab": {
          "base_uri": "https://localhost:8080/"
        },
        "id": "hxZ-SS2abWX1",
        "outputId": "6d9e3024-8f3a-4954-b0a7-eb280a98ad33"
      },
      "execution_count": null,
      "outputs": [
        {
          "output_type": "stream",
          "name": "stdout",
          "text": [
            "10th-16th Century Liturgical Chants\n",
            "A.P. Schmidt Company archives, 1869-1958\n",
            "Aaron Copland Collection\n",
            "Abdul Hamid II Collection\n",
            "Abdul-Hamid II Collection of Books and Serials Gifted to the Library of Congress\n",
            "Abraham Lincoln Papers at the Library of Congress\n",
            "Afghanistan Web Archive\n",
            "Afghanistan, Iran, Pakistan and Tajikistan Government Web Archive\n",
            "Afghanistan, Iran, Pakistan, and Tajikistan Elections Web Archive\n",
            "African American Perspectives: Materials Selected from the Rare Book Collection\n",
            "African American Photographs Assembled for 1900 Paris Exposition\n",
            "African Government Web Archive\n",
            "African-American Band Music & Recordings, 1883-1923\n",
            "Africana Historic Postcard Collection\n",
            "After the Day of Infamy: \"Man-on-the-Street\" Interviews Following the Attack on Pearl Harbor\n",
            "Ainu and Ezochi Rare Collection\n",
            "Alan Lomax Collection\n",
            "Alan Lomax Collection of Michigan and Wisconsin Recordings\n",
            "Albert Schatz Collection\n",
            "Alexander Graham Bell Family Papers at the Library of Congress\n",
            "Alexander Hamilton Papers\n",
            "Alexander Hamilton Stephens Papers\n",
            "The Alfred Whital Stern Collection of Lincolniana\n",
            "Amazing Grace\n",
            "America at Work, America at Leisure: Motion Pictures from 1894-1915\n",
            "America Singing: Nineteenth-Century Song Sheets\n",
            "An American Ballroom Companion: Dance Instruction Manuals, ca. 1490-1920\n",
            "American Choral Music\n",
            "American Civil War Sesquicentennial Web Archive\n",
            "American Colony in Jerusalem, 1870-2006\n",
            "American English Dialect Recordings: The Center for Applied Linguistics Collection\n",
            "American Federation of Labor Records\n",
            "American Leaders Speak: Recordings from World War I\n",
            "American Life Histories: Manuscripts from the Federal Writers' Project, 1936-1940\n",
            "American Music Creators Web Archive\n",
            "American Music Industry Web Archive\n",
            "American Notes: Travels in America, 1750-1920\n",
            "American Revolution and Its Era: Maps and Charts of North America and the West Indies, 1750-1789\n",
            "American Variety Stage: Vaudeville and Popular Entertainment, 1870-1920\n",
            "Ancestral Voices\n",
            "Andre Kostelanetz Collection\n",
            "Andrew Jackson Papers\n",
            "Andrew Johnson Papers\n",
            "Anna E. Dickinson Papers\n",
            "Anna Maria Brodeau Thornton Papers\n",
            "Ansel Adams's Photographs of Japanese-American Internment at Manzanar\n",
            "Architecture, Design & Engineering Drawings\n",
            "Archive of Recorded Poetry and Literature\n",
            "Armenian Rarities Collection\n",
            "Associated Press News Dispatches, 1915-1930\n",
            "The Atlantic World: America and the Netherlands\n",
            "Author Websites Web Archive\n",
            "Bain Collection\n",
            "Ballets Russes de Serge Diaghilev\n",
            "Band Music from the Civil War Era\n",
            "Bangladeshi Elections Web Archive\n",
            "Baseball Cards\n",
            "Baseball Sheet Music\n",
            "Before and After the Great Earthquake and Fire: Early Films of San Francisco, 1897-1916\n",
            "Benjamin Franklin Papers\n",
            "Benjamin Harrison Papers\n",
            "Bess Lomax Hawes Collection\n",
            "Betty Herndon Maury Maury Papers\n",
            "Blackwell Family Papers\n",
            "Blair Family Papers\n",
            "Blue Ridge Parkway Folklife Project\n",
            "Books About Music Before 1800\n",
            "Born in Slavery: Slave Narratives from the Federal Writers' Project, 1936-1938\n",
            "Bosnian Political and Social Issues Web Archive\n",
            "Brady-Handy Collection\n",
            "Branch Rickey Papers\n",
            "Brazil Cordel Literature Web Archive\n",
            "Brazilian Elections Web Archive\n",
            "Brazilian Environmental Policy Web Archive\n",
            "Bronislava Nijinska Collection\n",
            "Brumfield Collection\n",
            "Buckaroos in Paradise: Ranching Culture in Northern Nevada, 1945-1982\n",
            "Bulgarian Political and Social Issues Web Archive\n",
            "Burma/Myanmar Elections Web Archive\n",
            "Business in America Web Archive\n",
            "By Popular Demand: Jackie Robinson and Other Baseball Highlights, 1860s-1960s\n",
            "Cabinet of American Illustration\n",
            "California as I Saw It: First-Person Narratives of California's Early Years, 1849-1900\n",
            "California Gold: Northern California Folk Music from the Thirties Collected by Sidney Robertson Cowell\n",
            "Calvin Coolidge Papers\n",
            "Cambini Quintets\n",
            "Cambodian Elections Web Archive\n",
            "Capital and the Bay: Narratives of Washington and the Chesapeake Bay Region, 1600-1925\n",
            "Captain Pearl R. Nye: Life on the Ohio and Erie Canal\n",
            "The Carnegie Hall Collection of Conversations with Composers\n",
            "Carnegie Survey of the Architecture of the South\n",
            "Carpenter Collection\n",
            "Carrie Chapman Catt Papers\n",
            "Cartoon Drawings\n",
            "Cartoon Drawings: Herblock Collection\n",
            "Cartoon Drawings: Swann Collection of Caricature and Cartoon\n",
            "Cartoon Prints, American\n",
            "Cartoon Prints, British\n",
            "Case Books\n",
            "A Century of Lawmaking for a New Nation: U.S. Congressional Documents and Debates 1774-1875\n",
            "Charles S. Hamlin Papers\n",
            "Charles Wellington Reed Papers, 1776 to 1926\n",
            "Charles William Le Gendre Papers\n",
            "Chester Alan Arthur Papers\n",
            "Chicago Ethnic Arts Project Collection\n",
            "Children's Book Selections\n",
            "China-Pakistan Economic Corridor (CPEC) 2018-2021 Web Archive\n",
            "Chinese Rare Book Digital Collection\n",
            "Chronicling America\n",
            "Cities and Towns\n",
            "Civil Rights History Project\n",
            "Civil War\n",
            "Civil War Glass Negatives and Related Prints\n",
            "Civil War Maps\n",
            "Civil War Sheet Music Collection\n",
            "Civil War Soldier in the Wild Cat Regiment: Selections from the Tilton C. Reynolds Papers\n",
            "Clara Barton Papers\n",
            "Code of Federal Regulations\n",
            "College Women's Association of Japan Print Show Collection\n",
            "Colorado Folklife Project Collection\n",
            "Comics Literature and Criticism Web Archive\n",
            "Confederate States of America Records\n",
            "Coptic Orthodox Liturgical Chant and Hymnody\n",
            "Copyright Historical Record Books Collection, 1870-1977 (Preview)\n",
            "Coronavirus Web Archive\n",
            "Country Profiles\n",
            "Country Studies\n",
            "Crisis in Darfur 2006 Web Archive\n",
            "Cuneiform Tablets: From the Reign of Gudea of Lagash to Shalmanassar III\n",
            "Curtis (Edward S.) Collection\n",
            "Daguerreotypes\n",
            "The Danny Kaye and Sylvia Fine Collection\n",
            "Dayton C. Miller Collection\n",
            "Department of Defense Annual Reports (1948-1996) and Military Branch Budget Justification Books (1980-1996)\n",
            "Detroit Publishing Company\n",
            "The Different Faces of Nationalism in Pakistan Web Archive\n",
            "Directory of U.S. Newspapers in American Libraries\n",
            "Discovery and Exploration\n",
            "Documents from the Continental Congress and the Constitutional Convention, 1774-1789\n",
            "Dolly Parton and the Roots of Country Music\n",
            "Donald Benham Civil War Collection\n",
            "Drawings (Documentary)\n",
            "Drawings (Master)\n",
            "Dun & Bradstreet Reference Book Collection\n",
            "Dwight D. Eisenhower Memorial Web Archive\n",
            "E. B. Washburne Papers\n",
            "Early American Sheet Music\n",
            "Early Baseball Publications\n",
            "Early Copyright Records Collection, 1790 to 1870\n",
            "Earth Day 2020 Web Archive\n",
            "East European Government Ministries Web Archive\n",
            "East Florida Papers\n",
            "Economics Blogs Web Archive\n",
            "Edward F. Edinger Papers\n",
            "Edwin McMasters Stanton Papers, 1818-1921\n",
            "Egypt 2008 Web Archive\n",
            "Egyptian Elections Web Archive\n",
            "Elizabeth Cady Stanton Papers\n",
            "Elliott Carter Collection\n",
            "Eltaher Collection\n",
            "Emile Berliner and the Birth of the Recording Industry\n",
            "Ernest Bloch Collection\n",
            "Ethnic Heritage and Language Schools in America Project\n",
            "Eugene Meyer Papers\n",
            "Event Videos\n",
            "The Evolution of the Conservation Movement\n",
            "Executive Branch Federal Government Web Archive\n",
            "Farm Security Administration/Office of War Information Black-and-White Negatives\n",
            "Farm Security Administration/Office of War Information Color Photographs\n",
            "Federal Advisory Committee Web Archive\n",
            "Federal Courts Web Archive\n",
            "Federal Register\n",
            "Federal Theatre Project, 1935 to 1939\n",
            "Felix Mendelssohn at the Library of Congress\n",
            "Fenton Crimean War Photographs\n",
            "Fiddle Tunes of the Old Frontier: The Henry Reed Collection\n",
            "Finding Our Place in the Cosmos: From Galileo to Sagan and Beyond\n",
            "Fine Prints\n",
            "Fine Prints: Japanese, pre-1915\n",
            "Florida Folklife from the WPA Collections, 1937-1942\n",
            "Food and Foodways Web Archive\n",
            "Foreign Law Web Archive\n",
            "Foreign Legal Gazettes in the Law Library of Congress\n",
            "France in America\n",
            "Franklin Pierce Papers\n",
            "Franz Liszt at the Library of Congress\n",
            "Frederick Douglass Newspapers, 1847-1874\n",
            "Frederick Douglass Papers at the Library of Congress\n",
            "Frederick Law Olmsted Papers\n",
            "Freedom's Fortress: The Library of Congress, 1939-1953\n",
            "Frontline Diplomacy: The Foreign Affairs Oral History Collection of the Association for Diplomatic Studies and Training\n",
            "Gaetano Brunetti Manuscript Scores\n",
            "Garden and Forest\n",
            "General Maps\n",
            "General News on the Internet Web Archive\n",
            "Genthe Collection\n",
            "Geographers on Film\n",
            "George Brinton McClellan Papers\n",
            "George S. Patton Papers: Diaries, 1910-1945\n",
            "George Washington Papers\n",
            "Georgia O'Keeffe and Alfred Stieglitz Correspondence\n",
            "Geospatial Applications\n",
            "The Gerry Mulligan Collection\n",
            "Gideon Welles Papers\n",
            "Gisella Selden-Goth Collection\n",
            "Gladstone Collection of African American Photographs\n",
            "Global Legal Monitor\n",
            "Goldstein Foundation Collection--Prints and Drawings\n",
            "Gottscho-Schleisner Collection\n",
            "Grabill Collection\n",
            "Great Conversations in Music\n",
            "Groups of Images (LOTs)\n",
            "Grover Cleveland Papers\n",
            "Guide Records\n",
            "Hannah Arendt Papers\n",
            "Hans Peter Kraus Collection of Spanish American Documents, 1433-1877\n",
            "Harris & Ewing Collection\n",
            "Hebraic Manuscripts\n",
            "Herndon-Weik Collection of Lincolniana\n",
            "Hidden Treasures at the Library of Congress\n",
            "Highsmith (Carol M.) Archive\n",
            "Hispano Music and Culture of the Northern Rio Grande: The Juan B. Rael Collection\n",
            "Historic American Buildings Survey/Historic American Engineering Record/Historic American Landscapes Survey\n",
            "Historic Sheet Music Collection, 1800-1922\n",
            "Historic Sources of Brazilian Law\n",
            "Home Sweet Home: Life in Nineteenth-Century Ohio\n",
            "Horace Greeley Papers\n",
            "Horace H. Lurton Papers\n",
            "Horydczak Collection\n",
            "Hotchkiss Map Collection\n",
            "Ilka Kolsky Artwork\n",
            "Indian Elections Web Archive\n",
            "Indian Government Web Archive\n",
            "Indian Political and Social Issues Web Archive\n",
            "Indigenous Law Web Archive\n",
            "Indonesian Elections Web Archive\n",
            "Inside an American Factory: Films of the Westinghouse Works, 1904\n",
            "Intergovernmental Organizations Web Archive\n",
            "International Tribunals Web Archive\n",
            "Inventing Entertainment: The Early Motion Pictures and Sound Recordings of the Edison Companies\n",
            "Iraq War 2003 Web Archive\n",
            "Irving Fine Collection, ca. 1914-1962\n",
            "Islamic Manuscripts from Mali\n",
            "Italian Americans in the West Project\n",
            "James A. Garfield Papers\n",
            "James Buchanan and Harriet Lane Johnston Papers\n",
            "James K. Polk Papers\n",
            "James Madison Papers, 1723-1859\n",
            "James Monroe Papers\n",
            "January 6th Attack on the U.S. Capitol Web Archive\n",
            "Japanese Censorship Collection\n",
            "Japanese Rare Book Digital Collection\n",
            "Japanese-American Internment Camp Newspapers, 1942-1946\n",
            "Jay I. Kislak Collection\n",
            "Jazz on the Screen Filmography\n",
            "Jean Lafitte National Historical Park and Preserve Collection\n",
            "Jedediah Hotchkiss Papers\n",
            "Joe Smith\n",
            "John A. Lomax and Alan Lomax Papers\n",
            "John Adams and the Boston Massacre Trial of 1770\n",
            "John Carvel Arnold Papers\n",
            "John G. Nicolay Papers\n",
            "John J. Pershing Papers\n",
            "John Tyler Papers\n",
            "Johnston (Frances Benjamin) Collection\n",
            "Joseph Holt Papers\n",
            "Jubal Anderson Early Papers\n",
            "Kashmir Legal Status 2019 Web Archive\n",
            "Korab Collection\n",
            "Korean Rare Book Digital Collection\n",
            "Lamb Studios Archive\n",
            "Laotian Elections Web Archive\n",
            "Larry Colwell Dance Photographs, 1944-1966\n",
            "Lars Schmidt Collection\n",
            "Last Days of a President: Films of McKinley and the Pan-American Exposition, 1901\n",
            "Lawrence & Houseworth Collection\n",
            "LC Commissioned Composers Web Archive\n",
            "Legal Blawgs Web Archive\n",
            "Legal Reports (Publications of the Law Library of Congress)\n",
            "Legislative Branch Web Archive\n",
            "Leonard Bernstein\n",
            "Lessing J. Rosenwald Collection\n",
            "Lewis Carroll Scrapbook\n",
            "Lewis H. Machen Family Papers\n",
            "LGBTQ+ Politics and Political Candidates Web Archive\n",
            "LGBTQ+ Studies Web Archive\n",
            "The Library of Congress Celebrates the Songs of America\n",
            "Library of Congress Concerts\n",
            "Library of Congress Websites Web Archive\n",
            "The Life of a City: Early Films of New York, 1898-1906\n",
            "Liljenquist Family Collection of Civil War Photographs\n",
            "Lincoln and the Law\n",
            "Living Nations, Living Words\n",
            "Lomax Collection\n",
            "Look Collection\n",
            "Louis Malesherbes Goldsborough Papers\n",
            "Louisiana: European Explorations and the Louisiana Purchase\n",
            "Lowell Folklife Project Collection\n",
            "Macedonian Political and Social Issues Web Archive\n",
            "Maine Acadian Cultural Survey Collection\n",
            "Malaysian Elections Web Archive\n",
            "Mangyan bamboo collection from Mindoro, Philippines, circa 1900-1939\n",
            "Manuscript Division Web Archive\n",
            "Manuscripts from the Monasteries of Mt. Athos\n",
            "Manuscripts in St. Catherine's Monastery, Mount Sinai\n",
            "Manuscripts in the Libraries of the Greek and Armenian Patriarchates in Jerusalem\n",
            "Mapping the National Parks\n",
            "Maps of Liberia, 1830-1870\n",
            "The March King: John Philip Sousa\n",
            "Margaret Bayard Smith Papers\n",
            "Margaret Mead Papers and the South Pacific Ethnographic Archives\n",
            "Martha Graham at the Library of Congress\n",
            "Martin Van Buren Papers, 1787 to 1910\n",
            "Martorell Collection\n",
            "Mary Ann Bickerdyke Papers\n",
            "Mary Church Terrell Papers\n",
            "Matson (G. Eric and Edith) Photograph Collection\n",
            "Matthew Fontaine Maury Papers\n",
            "Meeting of Frontiers\n",
            "Middle East/North Africa Government Institutions Web Archive\n",
            "Military Battles and Campaigns\n",
            "Military Legal Resources\n",
            "Millard Fillmore Papers\n",
            "The Moldenhauer Archives - The Rosaleen Moldenhauer Memorial\n",
            "Montana Folklife Survey Collection\n",
            "Montgomery C. Meigs Papers\n",
            "Motion Picture Copyright Descriptions Collection\n",
            "Music for the Nation: American Sheet Music, ca. 1820-1860\n",
            "Music for the Nation: American Sheet Music, ca. 1870-1885\n",
            "Music Treasures Consortium\n",
            "Musical Instruments at the Library of Congress\n",
            "Nathan W. Daniels Diary and Scrapbook\n",
            "National American Woman Suffrage Association Collection\n",
            "National American Woman Suffrage Association Records\n",
            "National Child Labor Committee Collection\n",
            "National Jukebox\n",
            "National Photo Company Collection\n",
            "National Screening Room\n",
            "National Transportation Safety Board Orders, Petitions, and Decisions\n",
            "Native American Constitutions and Legal Materials\n",
            "Nelson W. Aldrich Papers\n",
            "New Mexico Folklife Project Collection\n",
            "New York Journal and Related Titles, 1896-1899\n",
            "Newspaper Pictorials: World War I Rotogravures, 1914-1919\n",
            "North Korean Serials\n",
            "Now What a Time: Blues, Gospel, and the Fort Valley Music Festivals, 1938-1943\n",
            "Occupational Folklife Project\n",
            "Office of Scientific Research and Development (OSRD) Reports\n",
            "Olmsted Associates Records\n",
            "Omaha Indian Music\n",
            "Omar Ibn Said Collection\n",
            "Open Access Books\n",
            "Openly Available Serials Web Archive\n",
            "Origins of American Animation\n",
            "The PALABRA Archive\n",
            "Panoramic Maps\n",
            "Panoramic Photographs\n",
            "Papal Transition 2005 Web Archive\n",
            "Papal Transition 2013 Web Archive\n",
            "Parallel Histories: Spain, the United States, and the American Frontier\n",
            "Patriotic Melodies\n",
            "Performing Arts Web Archive\n",
            "Persian Language Rare Materials\n",
            "PH Filing Series Photographs\n",
            "Philip Henry Sheridan Papers\n",
            "Philippine Elections Web Archive\n",
            "Phillips/Mathée Collection\n",
            "Photochrom Prints\n",
            "Pinelands Folklife Project\n",
            "Pioneering the Upper Midwest: Books from Michigan, Minnesota, and Wisconsin, ca. 1820-1910\n",
            "Piracy Trials\n",
            "Polish Declarations of Admiration and Friendship for the United States, 1926\n",
            "Political Islam Web Archive\n",
            "Popular Graphic Arts\n",
            "Posters: Artist Posters\n",
            "Posters: Performing Arts Posters\n",
            "Posters: Spanish Civil War Posters\n",
            "Posters: World War I Posters\n",
            "Posters: WPA Posters\n",
            "Posters: Yanker Poster Collection\n",
            "Prairie Settlement: Nebraska Photographs and Family Letters, 1862-1912\n",
            "Pre-1700 Musical Treasures: Manuscript and Print Collection\n",
            "Princess Marie Bonaparte Papers\n",
            "Printed Ephemera: Three Centuries of Broadsides and Other Printed Ephemera\n",
            "Professional Organizations for Performing Arts Web Archive\n",
            "Prokudin-Gorskii Collection\n",
            "Prosperity and Thrift: The Coolidge Era and the Consumer Economy, 1921-1929\n",
            "Protests Against Racism Web Archive\n",
            "Public Broadcasting Web Archive\n",
            "Public Policy Topics Web Archive\n",
            "Puerto Rico at the Dawn of the Modern Age: Nineteenth- and Early-Twentieth-Century Perspectives\n",
            "Quilts and Quiltmaking in America, 1978-1996\n",
            "Radio Research Project Manuscript Collection\n",
            "Ragtime\n",
            "Railroad Maps, 1828-1900\n",
            "Rare Book Selections\n",
            "Rare Illustrated Children's Books in Hebrew and Yiddish, 1900 - 1929\n",
            "Rhode Island Folklife Project Collection\n",
            "Robert Lansing Papers\n",
            "Robert Winslow Gordon Songsters\n",
            "Rochambeau Map Collection\n",
            "The Roger Reynolds Collection\n",
            "Roman Totenberg Papers\n",
            "Roman Totenberg Papers: Totenberg-Wilk Holocaust Material\n",
            "Rosa Parks Papers\n",
            "Royal Cremation Ceremony for H.M. King Bhumibol Adulyadej of Thailand Web Archive\n",
            "Russian Independent Media Web Archive\n",
            "Russian Political Parties Web Archive\n",
            "Salmon P. Chase Papers\n",
            "Samuel Barber at the Library of Congress\n",
            "Samuel F. B. Morse Papers at the Library of Congress, 1793-1919\n",
            "Samuel J. Gibson Diary and Correspondence\n",
            "Sanborn Maps\n",
            "Science Blogs Web Archive\n",
            "Selected Datasets\n",
            "Selected Digitized Books\n",
            "Selections from the Katherine Dunham Collection\n",
            "Selections from the National Film Registry\n",
            "Selections from the Naxi Manuscript Collection\n",
            "Selections of Arabic, Persian, and Ottoman Calligraphy\n",
            "Selections of Prayer Materials from Africa, the Middle East and Central Asia\n",
            "September 11, 2001 Web Archive\n",
            "September 11, 2001, Documentary Project\n",
            "Serbian Political and Social Issues Web Archive\n",
            "Sheet Music of the Musical Theater\n",
            "Shippen Family Papers\n",
            "Sigmund Freud Papers\n",
            "Sikkim Photos (Kandell Collection)\n",
            "Silent Film Scores and Arrangements\n",
            "Singaporean Elections Web Archive\n",
            "Single Sheet Maps, Title Collection\n",
            "Sir Francis Drake (Kraus Collection)\n",
            "Slaves and the Courts, 1740-1860\n",
            "Small Press Expo Comic and Comic Art Web Archive\n",
            "South Pacific Islands Web Archive\n",
            "South-Central Georgia Folklife Project Collection\n",
            "Southeast Asia Banking and Finance Web Archive\n",
            "Southern Mosaic: The John and Ruby Lomax 1939 Southern States Recording Trip\n",
            "The Spalding Base Ball Guides, 1889-1939\n",
            "Spanish Legal Documents (15th-19th Centuries)\n",
            "The Spanish-American War in Motion Pictures\n",
            "Sports Byline\n",
            "Sri Lankan Elections Web Archive\n",
            "St. Mark's Poetry Project Audio Archive\n",
            "Stars and Stripes: The American Soldiers' Newspaper of World War I, 1918-1919\n",
            "State Government Websites of the United States Web Archive\n",
            "Stereograph Cards\n",
            "Susan B. Anthony Papers\n",
            "Tending the Commons: Folklife and Landscape in Southern West Virginia\n",
            "Thaddeus Stevens Papers\n",
            "Thai Elections Web Archive\n",
            "Theodore Roosevelt Papers\n",
            "Theodore Roosevelt: His Life and Times on Film\n",
            "Thomas Biggs Harned Collection of Walt Whitman Papers\n",
            "Thomas Jefferson Papers, 1606-1827\n",
            "Tibetan Oral History Archive Project\n",
            "Timor-Leste 2010-2011 Web Archive\n",
            "Timor-Leste Elections Web Archive\n",
            "Tissandier Collection\n",
            "Today in History\n",
            "Traditional Music and Spoken Word\n",
            "Transit of Venus March\n",
            "Transportation and Communication\n",
            "U.S. Code\n",
            "U.S. Telephone Directory Collection\n",
            "Ulysses S. Grant Papers\n",
            "The United States and Brazil: Expanding Frontiers, Comparing Cultures\n",
            "United States Congressional Serial Set (Bound House and Senate Documents and Reports)\n",
            "United States Congressional Web Archive\n",
            "United States Elections Web Archive\n",
            "United States Reports (Official opinions of the U.S. Supreme Court)\n",
            "United States Statutes at Large\n",
            "United States Supreme Court Nominations Web Archive\n",
            "United States Treaties and Other International Agreements\n",
            "Van Vechten Collection\n",
            "Variety Stage Sound Recordings and Motion Pictures\n",
            "Veterans History Project Collection\n",
            "Veterans History Project Web Archive\n",
            "Vietnam-Era Prisoner-of-War/Missing-in-Action Database\n",
            "Vietnamese Elections Web Archive\n",
            "Visual Image Web Archive\n",
            "Voices from the Dust Bowl: the Charles L. Todd and Robert Sonkin Migrant Worker Collection, 1940-1941\n",
            "Voices Remembering Slavery: Freed People Tell Their Stories\n",
            "Walt Whitman Papers (Miscellaneous Manuscript Collection)\n",
            "Walt Whitman Papers in the Charles E. Feinberg Collection\n",
            "War of 1812 Bicentennial Web Archive\n",
            "Warren G. Harding-Carrie Fulton Phillips Correspondence\n",
            "Washington During the Civil War: The Diary of Horatio Nelson Taft, 1861-1865\n",
            "Web Cultures Web Archive\n",
            "Webcomics Web Archive\n",
            "Webinars\n",
            "Wilbur and Orville Wright Papers at the Library of Congress\n",
            "William A. Gladstone Afro-American Military Collection\n",
            "William Alexander Marshall Papers\n",
            "William Farquhar Correspondence\n",
            "William H. Taft Papers\n",
            "William Henry Harrison Papers\n",
            "William McKinley Papers\n",
            "William P. Gottlieb Collection\n",
            "William Speiden Journals\n",
            "William T. Sherman Papers\n",
            "Winter Olympic Games 2002 Web Archive\n",
            "Wm. Oland Bourne Papers\n",
            "Women of Protest: Photographs from the Records of the National Woman's Party\n",
            "Women's and Gender Studies Web Archive\n",
            "Women's Suffrage in Sheet Music\n",
            "Woodrow Wilson Papers\n",
            "Woody Guthrie and the Archive of American Folk Song: Correspondence, 1940-1950\n",
            "Working in Paterson: Occupational Heritage in an Urban Setting\n",
            "World Digital Library\n",
            "World War History: Newspaper Clippings, 1914-1926\n",
            "World War I Centennial Web Archive\n",
            "World War I Sheet Music\n",
            "World War II Military Situation Maps\n",
            "World War II Rumor Project\n",
            "World's Transportation Commission\n",
            "Wright Brothers Negatives\n",
            "Yiddish American Popular Sheet Music\n",
            "Yiddish Language Play Scripts from the Lawrence Marwick Collection\n",
            "Yongle Da Dian\n",
            "Yudin Collection of Russian-American Company Records, 1783-1946\n",
            "Zachary Taylor Papers\n",
            "Zine Web Archive\n",
            "Zora Neale Hurston Plays at the Library of Congress\n"
          ]
        }
      ]
    },
    {
      "cell_type": "markdown",
      "source": [
        "\n",
        "## Looking more closely at our Collection\n",
        "We can now reuse some of the code above to access ouur collection of interest. In this case, The American Colony in Jerusalem collection. Lets take look below at house would would access images and their accompanied descriptions:"
      ],
      "metadata": {
        "id": "uq4SFQfjhBzu"
      }
    },
    {
      "cell_type": "code",
      "source": [
        "from IPython.display import Image, display\n",
        "\n",
        "american_colony_in_jerusalem = requests.get(\"https://www.loc.gov/collections/american-colony-in-jerusalem/?fo=json\").json()\n",
        "for item in american_colony_in_jerusalem[\"results\"]:\n",
        "    print(item[\"title\"])\n",
        "    display(Image(url=item[\"image_url\"][0]))"
      ],
      "metadata": {
        "colab": {
          "base_uri": "https://localhost:8080/",
          "height": 1000
        },
        "id": "_nEyAtFBbekp",
        "outputId": "5f937b53-7ddd-4d8b-a573-31d82ae67b41"
      },
      "execution_count": null,
      "outputs": [
        {
          "output_type": "stream",
          "name": "stdout",
          "text": [
            "American Colony in Jerusalem Collection: Part I: Photograph album, Christian Herald Orphanage\n"
          ]
        },
        {
          "output_type": "display_data",
          "data": {
            "text/html": [
              "<img src=\"https://tile.loc.gov/image-services/iiif/service:mss:mamcol:091:0001/full/pct:6.25/0/default.jpg#h=348&w=245\"/>"
            ],
            "text/plain": [
              "<IPython.core.display.Image object>"
            ]
          },
          "metadata": {}
        },
        {
          "output_type": "stream",
          "name": "stdout",
          "text": [
            "American Colony in Jerusalem Collection: Part I: Record book listing girls receiving support through the Christian Herald Orphanage, as supervised by the American Colony\n"
          ]
        },
        {
          "output_type": "display_data",
          "data": {
            "text/html": [
              "<img src=\"https://tile.loc.gov/image-services/iiif/service:mss:mamcol:092:0001/full/pct:12.5/0/default.jpg#h=506&w=325\"/>"
            ],
            "text/plain": [
              "<IPython.core.display.Image object>"
            ]
          },
          "metadata": {}
        },
        {
          "output_type": "stream",
          "name": "stdout",
          "text": [
            "American Colony in Jerusalem Collection: Part I: Photograph, Dr. Sami Nabulsi of the Spafford Children's Center examining a baby with the mother looking on, Jerusalem\n"
          ]
        },
        {
          "output_type": "display_data",
          "data": {
            "text/html": [
              "<img src=\"https://tile.loc.gov/image-services/iiif/service:mss:mamcol:094:0001/full/pct:12.5/0/default.jpg#h=314&w=463\"/>"
            ],
            "text/plain": [
              "<IPython.core.display.Image object>"
            ]
          },
          "metadata": {}
        },
        {
          "output_type": "stream",
          "name": "stdout",
          "text": [
            "American Colony in Jerusalem Collection: Part I: Photograph, Play therapy class at the Spafford Children's Center, Jerusalem\n"
          ]
        },
        {
          "output_type": "display_data",
          "data": {
            "text/html": [
              "<img src=\"https://tile.loc.gov/image-services/iiif/service:mss:mamcol:105:0001/full/pct:12.5/0/default.jpg#h=316&w=467\"/>"
            ],
            "text/plain": [
              "<IPython.core.display.Image object>"
            ]
          },
          "metadata": {}
        },
        {
          "output_type": "stream",
          "name": "stdout",
          "text": [
            "American Colony in Jerusalem Collection: Part I: Photograph, Drama class with children and youth performing as clowns, Spafford Children's Center, Jerusalem\n"
          ]
        },
        {
          "output_type": "display_data",
          "data": {
            "text/html": [
              "<img src=\"https://tile.loc.gov/image-services/iiif/service:mss:mamcol:099:0001/full/pct:12.5/0/default.jpg#h=319&w=464\"/>"
            ],
            "text/plain": [
              "<IPython.core.display.Image object>"
            ]
          },
          "metadata": {}
        },
        {
          "output_type": "stream",
          "name": "stdout",
          "text": [
            "American Colony in Jerusalem Collection: Part I: Photograph, Mother and child in the waiting room of the Spafford Children's Center, Jerusalem\n"
          ]
        },
        {
          "output_type": "display_data",
          "data": {
            "text/html": [
              "<img src=\"https://tile.loc.gov/image-services/iiif/service:mss:mamcol:101:0001/full/pct:12.5/0/default.jpg#h=318&w=464\"/>"
            ],
            "text/plain": [
              "<IPython.core.display.Image object>"
            ]
          },
          "metadata": {}
        },
        {
          "output_type": "stream",
          "name": "stdout",
          "text": [
            "American Colony in Jerusalem Collection: Part I: Photograph, Chess class at the Spafford Children's Center, Jerusalem\n"
          ]
        },
        {
          "output_type": "display_data",
          "data": {
            "text/html": [
              "<img src=\"https://tile.loc.gov/image-services/iiif/service:mss:mamcol:102:0001/full/pct:12.5/0/default.jpg#h=464&w=324\"/>"
            ],
            "text/plain": [
              "<IPython.core.display.Image object>"
            ]
          },
          "metadata": {}
        },
        {
          "output_type": "stream",
          "name": "stdout",
          "text": [
            "American Colony in Jerusalem Collection: Part I: Photograph, Youth demonstrating their national dance, the dabke, on a boat in the Sea of Galilee\n"
          ]
        },
        {
          "output_type": "display_data",
          "data": {
            "text/html": [
              "<img src=\"https://tile.loc.gov/image-services/iiif/service:mss:mamcol:095:0001/full/pct:12.5/0/default.jpg#h=318&w=461\"/>"
            ],
            "text/plain": [
              "<IPython.core.display.Image object>"
            ]
          },
          "metadata": {}
        },
        {
          "output_type": "stream",
          "name": "stdout",
          "text": [
            "American Colony in Jerusalem Collection: Part I: Photograph, Art class at the Spafford Children's Center, Jerusalem\n"
          ]
        },
        {
          "output_type": "display_data",
          "data": {
            "text/html": [
              "<img src=\"https://tile.loc.gov/image-services/iiif/service:mss:mamcol:097:0001/full/pct:12.5/0/default.jpg#h=308&w=455\"/>"
            ],
            "text/plain": [
              "<IPython.core.display.Image object>"
            ]
          },
          "metadata": {}
        },
        {
          "output_type": "stream",
          "name": "stdout",
          "text": [
            "American Colony in Jerusalem Collection: Part I: Photograph, Music therapy class at the Spafford Children's Center, Jerusalem\n"
          ]
        },
        {
          "output_type": "display_data",
          "data": {
            "text/html": [
              "<img src=\"https://tile.loc.gov/image-services/iiif/service:mss:mamcol:098:0001/full/pct:12.5/0/default.jpg#h=310&w=453\"/>"
            ],
            "text/plain": [
              "<IPython.core.display.Image object>"
            ]
          },
          "metadata": {}
        },
        {
          "output_type": "stream",
          "name": "stdout",
          "text": [
            "American Colony in Jerusalem Collection: Part I: Photograph, Youth from the Spafford Children's Center visiting a cultural heritage site, Jerusalem\n"
          ]
        },
        {
          "output_type": "display_data",
          "data": {
            "text/html": [
              "<img src=\"https://tile.loc.gov/image-services/iiif/service:mss:mamcol:100:0001/full/pct:12.5/0/default.jpg#h=317&w=466\"/>"
            ],
            "text/plain": [
              "<IPython.core.display.Image object>"
            ]
          },
          "metadata": {}
        },
        {
          "output_type": "stream",
          "name": "stdout",
          "text": [
            "American Colony in Jerusalem Collection: Part I: Photograph, Youth and volunteers from the Spafford Children's Center picnic in a park on the way to the Golan during summer camp\n"
          ]
        },
        {
          "output_type": "display_data",
          "data": {
            "text/html": [
              "<img src=\"https://tile.loc.gov/image-services/iiif/service:mss:mamcol:103:0001/full/pct:12.5/0/default.jpg#h=319&w=460\"/>"
            ],
            "text/plain": [
              "<IPython.core.display.Image object>"
            ]
          },
          "metadata": {}
        },
        {
          "output_type": "stream",
          "name": "stdout",
          "text": [
            "American Colony in Jerusalem Collection: Part I: Letter from R. H. Glover, Foreign Secretary, Christian and Missionary Alliance, to Dr. W. W. Peet, American Legation, Switzerland\n"
          ]
        },
        {
          "output_type": "display_data",
          "data": {
            "text/html": [
              "<img src=\"https://tile.loc.gov/image-services/iiif/service:mss:mamcol:086:0001/full/pct:12.5/0/default.jpg#h=425&w=330\"/>"
            ],
            "text/plain": [
              "<IPython.core.display.Image object>"
            ]
          },
          "metadata": {}
        },
        {
          "output_type": "stream",
          "name": "stdout",
          "text": [
            "American Colony in Jerusalem Collection: Part I: Letter from Irene M. Givenwilson, Curator, American Red Cross Museum, to Bertha Spafford Vester\n"
          ]
        },
        {
          "output_type": "display_data",
          "data": {
            "text/html": [
              "<img src=\"https://tile.loc.gov/image-services/iiif/service:mss:mamcol:087:0001/full/pct:12.5/0/default.jpg#h=426&w=331\"/>"
            ],
            "text/plain": [
              "<IPython.core.display.Image object>"
            ]
          },
          "metadata": {}
        },
        {
          "output_type": "stream",
          "name": "stdout",
          "text": [
            "American Colony in Jerusalem Collection: Part I: Notes by Bertha Spafford Vester on sewing work begun February 19, 1918\n"
          ]
        },
        {
          "output_type": "display_data",
          "data": {
            "text/html": [
              "<img src=\"https://tile.loc.gov/image-services/iiif/service:mss:mamcol:088:0001/full/pct:12.5/0/default.jpg#h=339&w=264\"/>"
            ],
            "text/plain": [
              "<IPython.core.display.Image object>"
            ]
          },
          "metadata": {}
        },
        {
          "output_type": "stream",
          "name": "stdout",
          "text": [
            "American Colony in Jerusalem Collection: Part I: Receipt signed by Mary A. Butterfield for furniture received from the American Colony\n"
          ]
        },
        {
          "output_type": "display_data",
          "data": {
            "text/html": [
              "<img src=\"https://tile.loc.gov/image-services/iiif/service:mss:mamcol:089:0001/full/pct:12.5/0/default.jpg#h=351&w=234\"/>"
            ],
            "text/plain": [
              "<IPython.core.display.Image object>"
            ]
          },
          "metadata": {}
        },
        {
          "output_type": "stream",
          "name": "stdout",
          "text": [
            "American Colony in Jerusalem Collection: Part I: List of effects belonging to Friends Ramallah Mission at Grand Hotel\n"
          ]
        },
        {
          "output_type": "display_data",
          "data": {
            "text/html": [
              "<img src=\"https://tile.loc.gov/image-services/iiif/service:mss:mamcol:090:0001/full/pct:12.5/0/default.jpg#h=332&w=216\"/>"
            ],
            "text/plain": [
              "<IPython.core.display.Image object>"
            ]
          },
          "metadata": {}
        },
        {
          "output_type": "stream",
          "name": "stdout",
          "text": [
            "American Colony in Jerusalem Collection: Part I: Photograph of Mr. and Mrs. Edward F. Loud at their island home, Michigan\n"
          ]
        },
        {
          "output_type": "display_data",
          "data": {
            "text/html": [
              "<img src=\"https://tile.loc.gov/image-services/iiif/service:mss:mamcol:076:0001/full/pct:12.5/0/default.jpg#h=313&w=458\"/>"
            ],
            "text/plain": [
              "<IPython.core.display.Image object>"
            ]
          },
          "metadata": {}
        },
        {
          "output_type": "stream",
          "name": "stdout",
          "text": [
            "American Colony in Jerusalem Collection: Part I: Photograph album, Locust plague of 1915\n"
          ]
        },
        {
          "output_type": "display_data",
          "data": {
            "text/html": [
              "<img src=\"https://tile.loc.gov/image-services/iiif/service:mss:mamcol:058:0001/full/pct:6.25/0/default.jpg#h=342&w=258\"/>"
            ],
            "text/plain": [
              "<IPython.core.display.Image object>"
            ]
          },
          "metadata": {}
        },
        {
          "output_type": "stream",
          "name": "stdout",
          "text": [
            "American Colony in Jerusalem Collection: Part I: Photograph album, World War I, Palestine and Sinai\n"
          ]
        },
        {
          "output_type": "display_data",
          "data": {
            "text/html": [
              "<img src=\"https://tile.loc.gov/image-services/iiif/service:mss:mamcol:059:0001/full/pct:6.25/0/default.jpg#h=404&w=307\"/>"
            ],
            "text/plain": [
              "<IPython.core.display.Image object>"
            ]
          },
          "metadata": {}
        },
        {
          "output_type": "stream",
          "name": "stdout",
          "text": [
            "American Colony in Jerusalem Collection: Part I: Scrapbook compiled by Fannie L. Koster and given to Bertha Spafford Vester\n"
          ]
        },
        {
          "output_type": "display_data",
          "data": {
            "text/html": [
              "<img src=\"https://tile.loc.gov/image-services/iiif/service:mss:mamcol:022_3:0001/full/pct:6.25/0/default.jpg#h=311&w=259\"/>"
            ],
            "text/plain": [
              "<IPython.core.display.Image object>"
            ]
          },
          "metadata": {}
        },
        {
          "output_type": "stream",
          "name": "stdout",
          "text": [
            "American Colony in Jerusalem Collection: Part I: Photographic portrait of Horatio Gates Spafford, Jerusalem\n"
          ]
        },
        {
          "output_type": "display_data",
          "data": {
            "text/html": [
              "<img src=\"https://tile.loc.gov/image-services/iiif/service:mss:mamcol:015:0001/full/pct:12.5/0/default.jpg#h=314&w=215\"/>"
            ],
            "text/plain": [
              "<IPython.core.display.Image object>"
            ]
          },
          "metadata": {}
        },
        {
          "output_type": "stream",
          "name": "stdout",
          "text": [
            "American Colony in Jerusalem Collection: Part I: Draft manuscript copy of hymn \"It is Well With My Soul\" by Horatio Gates Spafford\n"
          ]
        },
        {
          "output_type": "display_data",
          "data": {
            "text/html": [
              "<img src=\"https://tile.loc.gov/image-services/iiif/service:mss:mamcol:016:0001/full/pct:12.5/0/default.jpg#h=400&w=304\"/>"
            ],
            "text/plain": [
              "<IPython.core.display.Image object>"
            ]
          },
          "metadata": {}
        },
        {
          "output_type": "stream",
          "name": "stdout",
          "text": [
            "American Colony in Jerusalem Collection: Part I: Draft manuscript copy of hymn \"How Long Oh Lord\" by Horatio Gates Spafford\n"
          ]
        },
        {
          "output_type": "display_data",
          "data": {
            "text/html": [
              "<img src=\"https://tile.loc.gov/image-services/iiif/service:mss:mamcol:003:0001/full/pct:12.5/0/default.jpg#h=403&w=307\"/>"
            ],
            "text/plain": [
              "<IPython.core.display.Image object>"
            ]
          },
          "metadata": {}
        },
        {
          "output_type": "stream",
          "name": "stdout",
          "text": [
            "American Colony in Jerusalem Collection: Part I: Draft manuscript of hymn \"Next Year at Jerusalem\" by Horatio Gates Spafford\n"
          ]
        },
        {
          "output_type": "display_data",
          "data": {
            "text/html": [
              "<img src=\"https://tile.loc.gov/image-services/iiif/service:mss:mamcol:004:0001/full/pct:6.25/0/default.jpg#h=328&w=159\"/>"
            ],
            "text/plain": [
              "<IPython.core.display.Image object>"
            ]
          },
          "metadata": {}
        }
      ]
    },
    {
      "cell_type": "markdown",
      "source": [
        "## Delving further into our results\n",
        "Now that you have the list of who published the sheet music and when, you might want to learn where they were published. Let's create a graph of the places where the sheet music was published for the first 25 items. Note, pieces of this collection can have relevance to our colletion but might com from multiple places in the world:"
      ],
      "metadata": {
        "id": "l9qIGWlhhXzA"
      }
    },
    {
      "cell_type": "code",
      "source": [
        "import pandas as pd\n",
        "%matplotlib inline\n",
        "from collections import Counter\n",
        "location_counter = Counter()\n",
        "american_colony_in_jerusalem = requests.get(\"https://www.loc.gov/collections/american-colony-in-jerusalem/?fo=json\").json()\n",
        "\n",
        "for item in american_colony_in_jerusalem[\"results\"]:\n",
        "    if item['location'] is not None:\n",
        "        for location in item['location']:\n",
        "            location_counter[location] += 1\n",
        "\n",
        "locations = pd.Series(location_counter)\n",
        "locations.sort_values(ascending=True).plot(kind='barh', figsize=(9,9))"
      ],
      "metadata": {
        "colab": {
          "base_uri": "https://localhost:8080/",
          "height": 770
        },
        "id": "kDDOeBGdbx9i",
        "outputId": "828d1568-1444-4bc7-e309-7b7353849673"
      },
      "execution_count": null,
      "outputs": [
        {
          "output_type": "execute_result",
          "data": {
            "text/plain": [
              "<Axes: >"
            ]
          },
          "metadata": {},
          "execution_count": 16
        },
        {
          "output_type": "display_data",
          "data": {
            "text/plain": [
              "<Figure size 900x900 with 1 Axes>"
            ],
            "image/png": "[encoded data removed]"
          },
          "metadata": {}
        }
      ]
    }
  ]
}