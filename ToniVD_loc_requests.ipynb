{
  "nbformat": 4,
  "nbformat_minor": 0,
  "metadata": {
    "colab": {
      "provenance": []
    },
    "kernelspec": {
      "name": "python3",
      "display_name": "Python 3"
    },
    "language_info": {
      "name": "python"
    }
  },
  "cells": [
    {
      "cell_type": "markdown",
      "source": [
        "#         JSON Format API: Garden and Forest Collection\n",
        "\n",
        "*A Journal of Horticulture, Landscape Art, and Forestry*\n",
        "\n"
      ],
      "metadata": {
        "id": "x7pVuwHTQfCG"
      }
    },
    {
      "cell_type": "markdown",
      "source": [
        "Import the requests module to make HTTP requests to the LOC JSON API:"
      ],
      "metadata": {
        "id": "jdVmo1FtU5KT"
      }
    },
    {
      "cell_type": "code",
      "source": [
        "import requests\n"
      ],
      "metadata": {
        "id": "EHLH6g_4QuA4"
      },
      "execution_count": 1,
      "outputs": []
    },
    {
      "cell_type": "markdown",
      "source": [
        "Request JSON data and check status:"
      ],
      "metadata": {
        "id": "__tFoLtmVPKS"
      }
    },
    {
      "cell_type": "code",
      "source": [
        "r = requests.get(\"https://www.loc.gov/collections/garden-and-forest/?fo=json\")\n",
        "r.status_code"
      ],
      "metadata": {
        "colab": {
          "base_uri": "https://localhost:8080/"
        },
        "id": "0_8DmAKDRRwk",
        "outputId": "5da3c51d-e97d-4e6d-8aef-dd747485a8d1"
      },
      "execution_count": 2,
      "outputs": [
        {
          "output_type": "execute_result",
          "data": {
            "text/plain": [
              "200"
            ]
          },
          "metadata": {},
          "execution_count": 2
        }
      ]
    },
    {
      "cell_type": "markdown",
      "source": [
        "Assign re reponse data type:"
      ],
      "metadata": {
        "id": "VAGj-eTRVsJ5"
      }
    },
    {
      "cell_type": "code",
      "source": [
        "garden_forest = r.json()\n",
        "type(garden_forest)\n"
      ],
      "metadata": {
        "colab": {
          "base_uri": "https://localhost:8080/"
        },
        "id": "OgWDPU3EU0FC",
        "outputId": "766074e1-43bb-4924-e5f0-3f4c282ee790"
      },
      "execution_count": 3,
      "outputs": [
        {
          "output_type": "execute_result",
          "data": {
            "text/plain": [
              "dict"
            ]
          },
          "metadata": {},
          "execution_count": 3
        }
      ]
    },
    {
      "cell_type": "markdown",
      "source": [
        "Display the JSON reponse to the request:\n"
      ],
      "metadata": {
        "id": "OpGElVFe8WYX"
      }
    },
    {
      "cell_type": "code",
      "source": [
        "garden_forest"
      ],
      "metadata": {
        "id": "aEwcdfjk7Jim"
      },
      "execution_count": null,
      "outputs": []
    },
    {
      "cell_type": "markdown",
      "source": [
        "Number of items that were digitized in this colelction:"
      ],
      "metadata": {
        "id": "zlSUhxJXHzFO"
      }
    },
    {
      "cell_type": "code",
      "source": [
        "print(garden_forest[\"digitized\"])"
      ],
      "metadata": {
        "colab": {
          "base_uri": "https://localhost:8080/"
        },
        "id": "6ETMr3i5HlTP",
        "outputId": "9f68367c-f909-4e1e-f430-13d8eea80fdb"
      },
      "execution_count": 5,
      "outputs": [
        {
          "output_type": "stream",
          "name": "stdout",
          "text": [
            "117\n"
          ]
        }
      ]
    },
    {
      "cell_type": "markdown",
      "source": [
        "The division does this collection belong to:"
      ],
      "metadata": {
        "id": "SIoP9vP-JcFe"
      }
    },
    {
      "cell_type": "code",
      "source": [
        "print(garden_forest[\"partof\"])"
      ],
      "metadata": {
        "colab": {
          "base_uri": "https://localhost:8080/"
        },
        "id": "xUB25_DBJfj8",
        "outputId": "1177aadd-4027-4408-d450-b09c1072ffdd"
      },
      "execution_count": 6,
      "outputs": [
        {
          "output_type": "stream",
          "name": "stdout",
          "text": [
            "['Science, Technology and Business Division']\n"
          ]
        }
      ]
    },
    {
      "cell_type": "markdown",
      "source": [
        "Display subjects within the collection:"
      ],
      "metadata": {
        "id": "0t15xrrcD4gI"
      }
    },
    {
      "cell_type": "code",
      "source": [
        "for item in garden_forest[\"subjects\"]:\n",
        "  print(item)"
      ],
      "metadata": {
        "id": "R8foxzsYDMml"
      },
      "execution_count": null,
      "outputs": []
    },
    {
      "cell_type": "markdown",
      "source": [
        "Display the titles within the collection:"
      ],
      "metadata": {
        "id": "-j7Zr8c-Ap_O"
      }
    },
    {
      "cell_type": "code",
      "source": [
        "for item in garden_forest[\"results\"]:\n",
        "  print(item[\"title\"])"
      ],
      "metadata": {
        "id": "fagtvjxt9qAN"
      },
      "execution_count": null,
      "outputs": []
    },
    {
      "cell_type": "markdown",
      "source": [
        "Display the descriptions of collection items:"
      ],
      "metadata": {
        "id": "5ETWoC_SDfsJ"
      }
    },
    {
      "cell_type": "code",
      "source": [
        "for item in garden_forest[\"results\"]:\n",
        "  print(item[\"title\"])\n",
        "  print(item[\"description\"], \"\\n\")"
      ],
      "metadata": {
        "id": "RnwqQndUA-NG"
      },
      "execution_count": null,
      "outputs": []
    },
    {
      "cell_type": "markdown",
      "source": [
        "Import module to display images:"
      ],
      "metadata": {
        "id": "wX-lJxMMGdKK"
      }
    },
    {
      "cell_type": "code",
      "source": [
        "from IPython.display import Image, display"
      ],
      "metadata": {
        "id": "NeSPn_hmFhxG"
      },
      "execution_count": 10,
      "outputs": []
    },
    {
      "cell_type": "markdown",
      "source": [
        "Display front cover of collection items:"
      ],
      "metadata": {
        "id": "aJYCMHxNGx6i"
      }
    },
    {
      "cell_type": "code",
      "source": [
        "for item in garden_forest[\"results\"]:\n",
        "  print(item[\"title\"])\n",
        "  display(Image(url=item[\"image_url\"][0]))\n"
      ],
      "metadata": {
        "id": "ESpqoKmxHBXB"
      },
      "execution_count": null,
      "outputs": []
    },
    {
      "cell_type": "markdown",
      "source": [
        "This collection has 11 items so all the items fit on one page. There is no next page in pagination:"
      ],
      "metadata": {
        "id": "Iq8BOWMlgrZ5"
      }
    },
    {
      "cell_type": "code",
      "source": [
        "for item in garden_forest[\"results\"]:\n",
        "  print(item[\"title\"], \"\\n\")\n",
        "next_page = garden_forest[\"pagination\"][\"next\"]\n",
        "if next_page is not None:\n",
        "  garden_forest = requests.get(next_page).json()\n",
        "else:\n",
        "  print(\"\\n There is no next page this collection only has:\", len(garden_forest[\"results\"]), \"items\")\n",
        "\n"
      ],
      "metadata": {
        "id": "T7cRC1ucIocf"
      },
      "execution_count": null,
      "outputs": []
    },
    {
      "cell_type": "markdown",
      "source": [
        "Checking collection items with dates:"
      ],
      "metadata": {
        "id": "2EZkTjfbkkdu"
      }
    },
    {
      "cell_type": "code",
      "source": [
        "date_counter = 0\n",
        "for item in garden_forest[\"results\"]:\n",
        "  if  \"date\" in item :\n",
        "      date_counter += 1\n",
        "      print(item[\"title\"], item[\"date\"])\n",
        "\n",
        "print(\"The collection has\", date_counter, \"items with dates\")"
      ],
      "metadata": {
        "colab": {
          "base_uri": "https://localhost:8080/"
        },
        "id": "i3sbk92hkX7S",
        "outputId": "0d3c786b-ebcb-4bc7-d17d-429b1a4e6d4d"
      },
      "execution_count": 32,
      "outputs": [
        {
          "output_type": "stream",
          "name": "stdout",
          "text": [
            "Garden and forest 1888\n",
            "Garden and Forest 1888\n",
            "The collection has 2 items with dates\n"
          ]
        }
      ]
    },
    {
      "cell_type": "code",
      "source": [],
      "metadata": {
        "id": "Nf4bO7Ako307"
      },
      "execution_count": null,
      "outputs": []
    }
  ]
}