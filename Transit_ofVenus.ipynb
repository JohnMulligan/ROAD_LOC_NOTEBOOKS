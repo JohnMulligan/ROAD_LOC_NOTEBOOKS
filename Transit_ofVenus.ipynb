{
  "nbformat": 4,
  "nbformat_minor": 0,
  "metadata": {
    "colab": {
      "provenance": []
    },
    "kernelspec": {
      "name": "python3",
      "display_name": "Python 3"
    },
    "language_info": {
      "name": "python"
    }
  },
  "cells": [
    {
      "cell_type": "markdown",
      "source": [
        "# **Transit of Venus March**\n",
        "##What is this collection?\n",
        "This collaboration between the Library of Congress and NASA commemorates the occurrence of the second \"transit of Venus\" since December 6, 1882. As part of this celebration, they offer access to John Philip Sousa's \"Transit of Venus March,\" including the score and band parts, which are readily printable from their website. Furthermore, they provide an exquisite recording of the march, supplementary sheet music, and a variety of additional materials related to Venus for exploration.\n",
        "\n",
        "Here is the link to this collections about page;\n",
        "https://www.loc.gov/collections/transit-of-venus-march/about-this-collection/\n",
        "\n",
        "Here is a link to some more detailed information about the \"Transit of Venus\";\n",
        "https://www.loc.gov/item/ihas.200152682/\n",
        "\n"
      ],
      "metadata": {
        "id": "Gvb-HkPVE4ES"
      }
    },
    {
      "cell_type": "markdown",
      "source": [
        "Let's dive into this collection.\n",
        "First lets import the data we need and create some supporting functions"
      ],
      "metadata": {
        "id": "E48azxwGHKzo"
      }
    },
    {
      "cell_type": "code",
      "execution_count": 1,
      "metadata": {
        "id": "RKT_IflUE2aH"
      },
      "outputs": [],
      "source": [
        "import requests\n",
        "import json\n",
        "from PIL import Image\n",
        "from io import BytesIO"
      ]
    },
    {
      "cell_type": "code",
      "source": [
        "siteinfo=requests.get(\"https://www.loc.gov/collections/transit-of-venus-march/?fo=json&at=results\")"
      ],
      "metadata": {
        "id": "mONW8U_uIfye"
      },
      "execution_count": 2,
      "outputs": []
    },
    {
      "cell_type": "code",
      "source": [
        "sitejson=siteinfo.json()"
      ],
      "metadata": {
        "id": "ZFkM_lieKhsc"
      },
      "execution_count": 3,
      "outputs": []
    },
    {
      "cell_type": "code",
      "source": [
        "type(sitejson)"
      ],
      "metadata": {
        "colab": {
          "base_uri": "https://localhost:8080/"
        },
        "id": "vdHrLl1uKiuQ",
        "outputId": "50bf0cf2-b896-4556-fd1c-16a63c1bbf65"
      },
      "execution_count": 4,
      "outputs": [
        {
          "output_type": "execute_result",
          "data": {
            "text/plain": [
              "dict"
            ]
          },
          "metadata": {},
          "execution_count": 4
        }
      ]
    },
    {
      "cell_type": "code",
      "source": [
        "type(sitejson['results'])"
      ],
      "metadata": {
        "colab": {
          "base_uri": "https://localhost:8080/"
        },
        "id": "ZgNE3fuZKmXb",
        "outputId": "b6a709a3-4bad-4769-b989-66977b14b0f2"
      },
      "execution_count": 5,
      "outputs": [
        {
          "output_type": "execute_result",
          "data": {
            "text/plain": [
              "list"
            ]
          },
          "metadata": {},
          "execution_count": 5
        }
      ]
    },
    {
      "cell_type": "markdown",
      "source": [
        "How many items are there?"
      ],
      "metadata": {
        "id": "OwXsUWSLMll7"
      }
    },
    {
      "cell_type": "code",
      "source": [
        "(len(sitejson['results']))"
      ],
      "metadata": {
        "colab": {
          "base_uri": "https://localhost:8080/"
        },
        "id": "7Xp_QogiL7PF",
        "outputId": "49fe9e08-7dad-44a1-9f1c-6ed9bac89744"
      },
      "execution_count": 7,
      "outputs": [
        {
          "output_type": "execute_result",
          "data": {
            "text/plain": [
              "12"
            ]
          },
          "metadata": {},
          "execution_count": 7
        }
      ]
    },
    {
      "cell_type": "markdown",
      "source": [
        "What is there?"
      ],
      "metadata": {
        "id": "XoO_0AFBMsOJ"
      }
    },
    {
      "cell_type": "code",
      "source": [
        "for i in range(len(sitejson['results'])):\n",
        "  print(f\"{sitejson['results'][i]['title']} {sitejson['results'][i]['url']}\")"
      ],
      "metadata": {
        "colab": {
          "base_uri": "https://localhost:8080/"
        },
        "id": "pZxb161oKpdb",
        "outputId": "2ec640b5-e699-4fd2-e56e-974322c281e4"
      },
      "execution_count": 6,
      "outputs": [
        {
          "output_type": "stream",
          "name": "stdout",
          "text": [
            "Transit of Venus march https://www.loc.gov/item/2018563915/\n",
            "Transit of Venus march https://www.loc.gov/item/ihas.100010996/\n",
            "Transit of Venus march https://www.loc.gov/item/ihas.100010999/\n",
            "Venus march https://www.loc.gov/item/ihas.100011000/\n",
            "Transit of Venus march https://www.loc.gov/item/ihas.200002625/\n",
            "What is the Transit of Venus? https://www.loc.gov/item/ihas.200152682/\n",
            "Transit of Venus March https://www.loc.gov/collections/transit-of-venus-march/about-this-collection/\n",
            "Related Resources https://www.loc.gov/collections/transit-of-venus-march/about-this-collection/related-resources/\n",
            "Rights and Access https://www.loc.gov/collections/transit-of-venus-march/about-this-collection/rights-and-access/\n",
            "Articles and Essays https://www.loc.gov/collections/transit-of-venus-march/articles-and-essays/\n",
            "Image Gallery https://www.loc.gov/collections/transit-of-venus-march/articles-and-essays/image-gallery/?st=slideshow\n",
            "Benjamin Franklin's Royal Society of London Article https://www.loc.gov/collections/transit-of-venus-march/articles-and-essays/image-gallery/franklins-royal-society-of-london-article/?st=slideshow\n"
          ]
        }
      ]
    },
    {
      "cell_type": "markdown",
      "source": [
        "Let's see some of these items"
      ],
      "metadata": {
        "id": "IztGjbRWNCon"
      }
    },
    {
      "cell_type": "code",
      "source": [
        "from IPython.display import Image, display #tell python that we want to reuse some code to display the images for us\n",
        "\n",
        "wwi_sheet_music = requests.get(\"https://www.loc.gov/collections/transit-of-venus-march/?fo=json&at=results\").json() #get the JSON data\n",
        "for item in sitejson['results']:\n",
        "    print(item[\"title\"]) #print out the title\n",
        "    display(Image(url=item[\"image_url\"][1])) #display the front cover art"
      ],
      "metadata": {
        "colab": {
          "base_uri": "https://localhost:8080/",
          "height": 1000
        },
        "id": "aLemKdc9NMEC",
        "outputId": "bc1b1121-1d34-4b5a-9698-0cfa5e8720e2"
      },
      "execution_count": 25,
      "outputs": [
        {
          "output_type": "stream",
          "name": "stdout",
          "text": [
            "Transit of Venus march\n"
          ]
        },
        {
          "output_type": "display_data",
          "data": {
            "text/html": [
              "<img src=\"https://tile.loc.gov/image-services/iiif/public:music:musihas-100010997:musihas-100010997.0001/full/pct:25.0/0/default.jpg#h=984&w=792\"/>"
            ],
            "text/plain": [
              "<IPython.core.display.Image object>"
            ]
          },
          "metadata": {}
        },
        {
          "output_type": "stream",
          "name": "stdout",
          "text": [
            "Transit of Venus march\n"
          ]
        },
        {
          "output_type": "display_data",
          "data": {
            "text/html": [
              "<img src=\"https://lcweb2.loc.gov/diglib/media/loc.natlib.ihas.100010996/parts/p0001/0001.tif/164#h=212&w=164\"/>"
            ],
            "text/plain": [
              "<IPython.core.display.Image object>"
            ]
          },
          "metadata": {}
        },
        {
          "output_type": "stream",
          "name": "stdout",
          "text": [
            "Transit of Venus march\n"
          ]
        },
        {
          "output_type": "display_data",
          "data": {
            "text/html": [
              "<img src=\"https://lcweb2.loc.gov/diglib/media/loc.natlib.ihas.100010999/parts/p0001/0001.tif/281#h=206&w=281\"/>"
            ],
            "text/plain": [
              "<IPython.core.display.Image object>"
            ]
          },
          "metadata": {}
        },
        {
          "output_type": "stream",
          "name": "stdout",
          "text": [
            "Venus march\n"
          ]
        },
        {
          "output_type": "display_data",
          "data": {
            "text/html": [
              "<img src=\"https://lcweb2.loc.gov/diglib/media/loc.natlib.ihas.100011000/parts/p0001/0001.tif/161#h=211&w=161\"/>"
            ],
            "text/plain": [
              "<IPython.core.display.Image object>"
            ]
          },
          "metadata": {}
        },
        {
          "output_type": "stream",
          "name": "stdout",
          "text": [
            "Transit of Venus march\n"
          ]
        },
        {
          "output_type": "error",
          "ename": "IndexError",
          "evalue": "list index out of range",
          "traceback": [
            "\u001b[0;31m---------------------------------------------------------------------------\u001b[0m",
            "\u001b[0;31mIndexError\u001b[0m                                Traceback (most recent call last)",
            "\u001b[0;32m<ipython-input-25-4dfd42e73829>\u001b[0m in \u001b[0;36m<cell line: 4>\u001b[0;34m()\u001b[0m\n\u001b[1;32m      4\u001b[0m \u001b[0;32mfor\u001b[0m \u001b[0mitem\u001b[0m \u001b[0;32min\u001b[0m \u001b[0msitejson\u001b[0m\u001b[0;34m[\u001b[0m\u001b[0;34m'results'\u001b[0m\u001b[0;34m]\u001b[0m\u001b[0;34m:\u001b[0m\u001b[0;34m\u001b[0m\u001b[0;34m\u001b[0m\u001b[0m\n\u001b[1;32m      5\u001b[0m     \u001b[0mprint\u001b[0m\u001b[0;34m(\u001b[0m\u001b[0mitem\u001b[0m\u001b[0;34m[\u001b[0m\u001b[0;34m\"title\"\u001b[0m\u001b[0;34m]\u001b[0m\u001b[0;34m)\u001b[0m \u001b[0;31m#print out the title\u001b[0m\u001b[0;34m\u001b[0m\u001b[0;34m\u001b[0m\u001b[0m\n\u001b[0;32m----> 6\u001b[0;31m     \u001b[0mdisplay\u001b[0m\u001b[0;34m(\u001b[0m\u001b[0mImage\u001b[0m\u001b[0;34m(\u001b[0m\u001b[0murl\u001b[0m\u001b[0;34m=\u001b[0m\u001b[0mitem\u001b[0m\u001b[0;34m[\u001b[0m\u001b[0;34m\"image_url\"\u001b[0m\u001b[0;34m]\u001b[0m\u001b[0;34m[\u001b[0m\u001b[0;36m1\u001b[0m\u001b[0;34m]\u001b[0m\u001b[0;34m)\u001b[0m\u001b[0;34m)\u001b[0m \u001b[0;31m#display the front cover art\u001b[0m\u001b[0;34m\u001b[0m\u001b[0;34m\u001b[0m\u001b[0m\n\u001b[0m",
            "\u001b[0;31mIndexError\u001b[0m: list index out of range"
          ]
        }
      ]
    }
  ]
}