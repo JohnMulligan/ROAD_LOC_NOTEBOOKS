{
  "nbformat": 4,
  "nbformat_minor": 0,
  "metadata": {
    "colab": {
      "provenance": []
    },
    "kernelspec": {
      "name": "python3",
      "display_name": "Python 3"
    },
    "language_info": {
      "name": "python"
    }
  },
  "cells": [
    {
      "cell_type": "markdown",
      "source": [
        "# Google Colab Exercise\n",
        "For this exercise I chose the \"Baseball Cards\" Collection\n",
        "\n",
        "## About this Collection\n",
        "The Benjamin K. Edwards Collection includes 2,100 early baseball cards dating from 1887 to 1914. Distributed in cigarette packs, these cards were the forerunners of modern sports trading cards. They portray such legendary figures of the game as Ty Cobb stealing third base for Detroit, Tris Speaker batting for Boston, and pitcher Cy Young posing in his Cleveland uniform. Although many of the greatest players from the first decades of professional baseball are represented, the collection does not include individual cards for either Honus Wagner or Babe Ruth.\n",
        "\n",
        "The collection consists of:\n",
        "\n",
        "Original Format:\n",
        "* Photo, Print, Drawing - 2123\n",
        "* Web Page - 6\n",
        "\n",
        "Online Format:\n",
        "* Image - 2125\n",
        "\n",
        "Date:\n",
        "* 2000 to 2025 - 10\n",
        "* 1900 to 1999 - 1505\n",
        "* 1800 to 1899 - 613\n",
        "\n",
        "##Web Page View\n",
        "Overall the website was easy to navigate since individual items are clearly seperated and the filters along the side such as date and contributor would be very helpful for persons who know specifically what they want.\n",
        "\n",
        "The items listed displayed the image on the left, with the item details on the right, specifically the original format, title, other title, description, contributor and date.\n",
        "\n",
        "## Using JSON Data\n",
        "The below code was used to display the following information for the first 8 pages of the collection:\n",
        "* index\n",
        "* title\n",
        "* other item title\n",
        "* contributor\n",
        "* date\n",
        "* item image"
      ],
      "metadata": {
        "id": "LRVMg5v_-uAT"
      }
    },
    {
      "cell_type": "code",
      "source": [
        "import requests\n",

        "from IPython.display import Image, display\n",

        "\n",

        "for i in range(1,9): #loop to iterate through first 8 pages in the collection\n",

        "  collections_json = requests.get('https://www.loc.gov/collections/baseball-cards/?fo=json&sp=%d&at=results' % i).json() #get JSON data from page which matches i in the current iteration(\"sp=%d\" = sp = i)\n",
        
        "  for collection in collections_json[\"results\"]:\n",

        "    print(\"Index:\", collection[\"index\"],'\\n', \"Title:\", collection[\"title\"], '\\n', \"Other Title:\", collection[\"other_title\"], '\\n',\n",

        "          \"Contributor:\", collection[\"contributor\"], '\\n', \"Date:\", collection[\"date\"], '\\n') #prints collection index, title, other title, contributor and date\n",

        "    display(Image(url=collection[\"image_url\"][0]))\n",

        "    print('\\n','\\n')"
      ],
      "metadata": {
        "colab": {
          "base_uri": "https://localhost:8080/",
          "height": 1000
        },
        "id": "Zt5ogRayoHrk",
        "outputId": "26faff01-ea54-468e-f370-209c9c6cd24f"
      },
      "execution_count": 5,
      "outputs": [
        {
          "output_type": "stream",
          "name": "stdout",
          "text": [
            "Index: 1 \n",
            " Title: [John Clarkson, Boston Beaneaters, baseball card portrait] \n",
            " Other Title: [\"Allen & Ginter World's Champions (N28)\"] \n",
            " Contributor: ['allen & ginter'] \n",
            " Date: 1887-01-01 \n",
            "\n"
          ]
        },
        {
          "output_type": "display_data",
          "data": {
            "text/html": [
              "<img src=\"https://tile.loc.gov/storage-services/service/pnp/bbc/0000/0000/0001f_150px.jpg#h=150&w=84\"/>"
            ],
            "text/plain": [
              "<IPython.core.display.Image object>"
            ]
          },
          "metadata": {}
        },
        {
          "output_type": "stream",
          "name": "stdout",
          "text": [
            "\n",
            " \n",
            "\n",
            "Index: 2 \n",
            " Title: [Adrian C. Anson, Chicago White Stockings, baseball card portrait] \n",
            " Other Title: [\"Allen & Ginter World's Champions (N28)\"] \n",
            " Contributor: ['allen & ginter'] \n",
            " Date: 1887-01-01 \n",
            "\n"
          ]
        },
        {
          "output_type": "display_data",
          "data": {
            "text/html": [
              "<img src=\"https://tile.loc.gov/storage-services/service/pnp/bbc/0000/0000/0002f_150px.jpg#h=150&w=83\"/>"
            ],
            "text/plain": [
              "<IPython.core.display.Image object>"
            ]
          },
          "metadata": {}
        },
        {
          "output_type": "stream",
          "name": "stdout",
          "text": [
            "\n",
            " \n",
            "\n",
            "Index: 3 \n",
            " Title: [Chas. W. Bennett, Detroit Wolverines, baseball card portrait] \n",
            " Other Title: [\"Allen & Ginter World's Champions (N28)\"] \n",
            " Contributor: ['allen & ginter'] \n",
            " Date: 1887-01-01 \n",
            "\n"
          ]
        },
        {
          "output_type": "display_data",
          "data": {
            "text/html": [
              "<img src=\"https://tile.loc.gov/storage-services/service/pnp/bbc/0000/0000/0003f_150px.jpg#h=150&w=79\"/>"
            ],
            "text/plain": [
              "<IPython.core.display.Image object>"
            ]
          },
          "metadata": {}
        },
        {
          "output_type": "stream",
          "name": "stdout",
          "text": [
            "\n",
            " \n",
            "\n",
            "Index: 4 \n",
            " Title: [Capt. Jack Glasscock, Indianapolis Hoosiers, baseball card portrait] \n",
            " Other Title: [\"Allen & Ginter World's Champions (N28)\"] \n",
            " Contributor: ['allen & ginter'] \n",
            " Date: 1887-01-01 \n",
            "\n"
          ]
        },
        {
          "output_type": "display_data",
          "data": {
            "text/html": [
              "<img src=\"https://tile.loc.gov/storage-services/service/pnp/bbc/0000/0000/0004f_150px.jpg#h=150&w=83\"/>"
            ],
            "text/plain": [
              "<IPython.core.display.Image object>"
            ]
          },
          "metadata": {}
        },
        {
          "output_type": "stream",
          "name": "stdout",
          "text": [
            "\n",
            " \n",
            "\n",
            "Index: 5 \n",
            " Title: [Timothy Keefe, New York Giants, baseball card portrait] \n",
            " Other Title: [\"Allen & Ginter World's Champions (N28)\"] \n",
            " Contributor: ['allen & ginter'] \n",
            " Date: 1887-01-01 \n",
            "\n"
          ]
        },
        {
          "output_type": "display_data",
          "data": {
            "text/html": [
              "<img src=\"https://tile.loc.gov/storage-services/service/pnp/bbc/0000/0000/0005f_150px.jpg#h=150&w=79\"/>"
            ],
            "text/plain": [
              "<IPython.core.display.Image object>"
            ]
          },
          "metadata": {}
        },
        {
          "output_type": "stream",
          "name": "stdout",
          "text": [
            "\n",
            " \n",
            "\n",
            "Index: 6 \n",
            " Title: [John M. Ward, New York Giants, baseball card portrait] \n",
            " Other Title: [\"Allen & Ginter World's Champions (N28)\"] \n",
            " Contributor: ['allen & ginter'] \n",
            " Date: 1887-01-01 \n",
            "\n"
          ]
        },
        {
          "output_type": "display_data",
          "data": {
            "text/html": [
              "<img src=\"https://tile.loc.gov/storage-services/service/pnp/bbc/0000/0000/0006f_150px.jpg#h=150&w=80\"/>"
            ],
            "text/plain": [
              "<IPython.core.display.Image object>"
            ]
          },
          "metadata": {}
        },
        {
          "output_type": "stream",
          "name": "stdout",
          "text": [
            "\n",
            " \n",
            "\n",
            "Index: 7 \n",
            " Title: [Joseph Mulvey, Philadelphia Quakers, baseball card portrait] \n",
            " Other Title: [\"Allen & Ginter World's Champions (N28)\"] \n",
            " Contributor: ['allen & ginter'] \n",
            " Date: 1887-01-01 \n",
            "\n"
          ]
        },
        {
          "output_type": "display_data",
          "data": {
            "text/html": [
              "<img src=\"https://tile.loc.gov/storage-services/service/pnp/bbc/0000/0000/0007f_150px.jpg#h=150&w=82\"/>"
            ],
            "text/plain": [
              "<IPython.core.display.Image object>"
            ]
          },
          "metadata": {}
        },
        {
          "output_type": "stream",
          "name": "stdout",
          "text": [
            "\n",
            " \n",
            "\n",
            "Index: 8 \n",
            " Title: [R. L. Caruthers, St. Louis Browns, baseball card portrait] \n",
            " Other Title: [\"Allen & Ginter World's Champions (N28)\"] \n",
            " Contributor: ['allen & ginter'] \n",
            " Date: 1887-01-01 \n",
            "\n"
          ]
        },
        {
          "output_type": "display_data",
          "data": {
            "text/html": [
              "<img src=\"https://tile.loc.gov/storage-services/service/pnp/bbc/0000/0000/0008f_150px.jpg#h=150&w=83\"/>"
            ],
            "text/plain": [
              "<IPython.core.display.Image object>"
            ]
          },
          "metadata": {}
        },
        {
          "output_type": "stream",
          "name": "stdout",
          "text": [
            "\n",
            " \n",
            "\n",
            "Index: 9 \n",
            " Title: [Charles Comiskey, St. Louis Browns, baseball card portrait] \n",
            " Other Title: [\"Allen & Ginter World's Champions (N28)\"] \n",
            " Contributor: ['allen & ginter'] \n",
            " Date: 1887-01-01 \n",
            "\n"
          ]
        },
        {
          "output_type": "display_data",
          "data": {
            "text/html": [
              "<img src=\"https://tile.loc.gov/storage-services/service/pnp/bbc/0000/0000/0009f_150px.jpg#h=150&w=82\"/>"
            ],
            "text/plain": [
              "<IPython.core.display.Image object>"
            ]
          },
          "metadata": {}
        },
        {
          "output_type": "stream",
          "name": "stdout",
          "text": [
            "\n",
            " \n",
            "\n",
            "Index: 10 \n",
            " Title: [Dick Johnston, Boston Beaneaters, baseball card portrait] \n",
            " Other Title: ['Buchner Gold Coin (N284)'] \n",
            " Contributor: ['d. buchner & company'] \n",
            " Date: 1887-01-01 \n",
            "\n"
          ]
        },
        {
          "output_type": "display_data",
          "data": {
            "text/html": [
              "<img src=\"https://tile.loc.gov/storage-services/service/pnp/bbc/0000/0010/0010f_150px.jpg#h=150&w=90\"/>"
            ],
            "text/plain": [
              "<IPython.core.display.Image object>"
            ]
          },
          "metadata": {}
        },
        {
          "output_type": "stream",
          "name": "stdout",
          "text": [
            "\n",
            " \n",
            "\n",
            "Index: 11 \n",
            " Title: [Sam Thompson, Detroit Wolverines, baseball card portrait] \n",
            " Other Title: ['Buchner Gold Coin (N284)'] \n",
            " Contributor: ['d. buchner & company'] \n",
            " Date: 1887-01-01 \n",
            "\n"
          ]
        },
        {
          "output_type": "display_data",
          "data": {
            "text/html": [
              "<img src=\"https://tile.loc.gov/storage-services/service/pnp/bbc/0000/0010/0019f_150px.jpg#h=150&w=88\"/>"
            ],
            "text/plain": [
              "<IPython.core.display.Image object>"
            ]
          },
          "metadata": {}
        },
        {
          "output_type": "stream",
          "name": "stdout",
          "text": [
            "\n",
            " \n",
            "\n",
            "Index: 12 \n",
            " Title: [Deacon White, Detroit Wolverines, baseball card portrait] \n",
            " Other Title: ['Buchner Gold Coin (N284)'] \n",
            " Contributor: ['d. buchner & company'] \n",
            " Date: 1887-01-01 \n",
            "\n"
          ]
        },
        {
          "output_type": "display_data",
          "data": {
            "text/html": [
              "<img src=\"https://tile.loc.gov/storage-services/service/pnp/bbc/0000/0020/0020f_150px.jpg#h=150&w=87\"/>"
            ],
            "text/plain": [
              "<IPython.core.display.Image object>"
            ]
          },
          "metadata": {}
        },
        {
          "output_type": "stream",
          "name": "stdout",
          "text": [
            "\n",
            " \n",
            "\n",
            "Index: 13 \n",
            " Title: [Handsome Henry Boyle, Indianapolis Hoosiers, baseball card portrait] \n",
            " Other Title: ['Buchner Gold Coin (N284)'] \n",
            " Contributor: ['d. buchner & company'] \n",
            " Date: 1887-01-01 \n",
            "\n"
          ]
        },
        {
          "output_type": "display_data",
          "data": {
            "text/html": [
              "<img src=\"https://tile.loc.gov/storage-services/service/pnp/bbc/0000/0020/0021f_150px.jpg#h=150&w=88\"/>"
            ],
            "text/plain": [
              "<IPython.core.display.Image object>"
            ]
          },
          "metadata": {}
        },
        {
          "output_type": "stream",
          "name": "stdout",
          "text": [
            "\n",
            " \n",
            "\n",
            "Index: 14 \n",
            " Title: [John Cahill, Indianapolis Hoosiers, baseball card portrait] \n",
            " Other Title: ['Buchner Gold Coin (N284)'] \n",
            " Contributor: ['d. buchner & company'] \n",
            " Date: 1887-01-01 \n",
            "\n"
          ]
        },
        {
          "output_type": "display_data",
          "data": {
            "text/html": [
              "<img src=\"https://tile.loc.gov/storage-services/service/pnp/bbc/0000/0020/0022f_150px.jpg#h=150&w=94\"/>"
            ],
            "text/plain": [
              "<IPython.core.display.Image object>"
            ]
          },
          "metadata": {}
        },
        {
          "output_type": "stream",
          "name": "stdout",
          "text": [
            "\n",
            " \n",
            "\n",
            "Index: 15 \n",
            " Title: [Jerry Denny, Indianapolis Hoosiers, baseball card portrait] \n",
            " Other Title: ['Buchner Gold Coin (N284)'] \n",
            " Contributor: ['d. buchner & company'] \n",
            " Date: 1887-01-01 \n",
            "\n"
          ]
        },
        {
          "output_type": "display_data",
          "data": {
            "text/html": [
              "<img src=\"https://tile.loc.gov/storage-services/service/pnp/bbc/0000/0020/0023f_150px.jpg#h=150&w=89\"/>"
            ],
            "text/plain": [
              "<IPython.core.display.Image object>"
            ]
          },
          "metadata": {}
        },
        {
          "output_type": "stream",
          "name": "stdout",
          "text": [
            "\n",
            " \n",
            "\n",
            "Index: 16 \n",
            " Title: [Jack Glasscock, Indianapolis Hoosiers, baseball card portrait] \n",
            " Other Title: ['Buchner Gold Coin (N284)'] \n",
            " Contributor: ['d. buchner & company'] \n",
            " Date: 1887-01-01 \n",
            "\n"
          ]
        },
        {
          "output_type": "display_data",
          "data": {
            "text/html": [
              "<img src=\"https://tile.loc.gov/storage-services/service/pnp/bbc/0000/0020/0024f_150px.jpg#h=150&w=91\"/>"
            ],
            "text/plain": [
              "<IPython.core.display.Image object>"
            ]
          },
          "metadata": {}
        },
        {
          "output_type": "stream",
          "name": "stdout",
          "text": [
            "\n",
            " \n",
            "\n",
            "Index: 17 \n",
            " Title: [Jack Glasscock, Indianapolis Hoosiers, baseball card portrait] \n",
            " Other Title: ['Buchner Gold Coin (N284)'] \n",
            " Contributor: ['d. buchner & company'] \n",
            " Date: 1887-01-01 \n",
            "\n"
          ]
        },
        {
          "output_type": "display_data",
          "data": {
            "text/html": [
              "<img src=\"https://tile.loc.gov/storage-services/service/pnp/bbc/0000/0020/0025f_150px.jpg#h=150&w=92\"/>"
            ],
            "text/plain": [
              "<IPython.core.display.Image object>"
            ]
          },
          "metadata": {}
        },
        {
          "output_type": "stream",
          "name": "stdout",
          "text": [
            "\n",
            " \n",
            "\n",
            "Index: 18 \n",
            " Title: [Jack McGeachy, Indianapolis Hoosiers, baseball card portrait] \n",
            " Other Title: ['Buchner Gold Coin (N284)'] \n",
            " Contributor: ['d. buchner & company'] \n",
            " Date: 1887-01-01 \n",
            "\n"
          ]
        },
        {
          "output_type": "display_data",
          "data": {
            "text/html": [
              "<img src=\"https://tile.loc.gov/storage-services/service/pnp/bbc/0000/0020/0026f_150px.jpg#h=150&w=90\"/>"
            ],
            "text/plain": [
              "<IPython.core.display.Image object>"
            ]
          },
          "metadata": {}
        },
        {
          "output_type": "stream",
          "name": "stdout",
          "text": [
            "\n",
            " \n",
            "\n",
            "Index: 19 \n",
            " Title: [Mark Polhemus, Indianapolis Hoosiers, baseball card portrait] \n",
            " Other Title: ['Buchner Gold Coin (N284)'] \n",
            " Contributor: ['d. buchner & company'] \n",
            " Date: 1887-01-01 \n",
            "\n"
          ]
        },
        {
          "output_type": "display_data",
          "data": {
            "text/html": [
              "<img src=\"https://tile.loc.gov/storage-services/service/pnp/bbc/0000/0020/0027f_150px.jpg#h=150&w=91\"/>"
            ],
            "text/plain": [
              "<IPython.core.display.Image object>"
            ]
          },
          "metadata": {}
        },
        {
          "output_type": "stream",
          "name": "stdout",
          "text": [
            "\n",
            " \n",
            "\n",
            "Index: 20 \n",
            " Title: [Shomberg, Indianapolis Hoosiers, baseball card portrait] \n",
            " Other Title: ['Buchner Gold Coin (N284)'] \n",
            " Contributor: ['d. buchner & company'] \n",
            " Date: 1887-01-01 \n",
            "\n"
          ]
        },
        {
          "output_type": "display_data",
          "data": {
            "text/html": [
              "<img src=\"https://tile.loc.gov/storage-services/service/pnp/bbc/0000/0020/0028f_150px.jpg#h=150&w=89\"/>"
            ],
            "text/plain": [
              "<IPython.core.display.Image object>"
            ]
          },
          "metadata": {}
        },
        {
          "output_type": "stream",
          "name": "stdout",
          "text": [
            "\n",
            " \n",
            "\n",
            "Index: 21 \n",
            " Title: [King Kelly, Boston Beaneaters, baseball card portrait] \n",
            " Other Title: ['Buchner Gold Coin (N284)'] \n",
            " Contributor: ['d. buchner & company'] \n",
            " Date: 1887-01-01 \n",
            "\n"
          ]
        },
        {
          "output_type": "display_data",
          "data": {
            "text/html": [
              "<img src=\"https://tile.loc.gov/storage-services/service/pnp/bbc/0000/0010/0011f_150px.jpg#h=150&w=89\"/>"
            ],
            "text/plain": [
              "<IPython.core.display.Image object>"
            ]
          },
          "metadata": {}
        },
        {
          "output_type": "stream",
          "name": "stdout",
          "text": [
            "\n",
            " \n",
            "\n",
            "Index: 22 \n",
            " Title: [Mike Dorgan, New York Giants, baseball card portrait] \n",
            " Other Title: ['Buchner Gold Coin (N284)'] \n",
            " Contributor: ['d. buchner & company'] \n",
            " Date: 1887-01-01 \n",
            "\n"
          ]
        },
        {
          "output_type": "display_data",
          "data": {
            "text/html": [
              "<img src=\"https://tile.loc.gov/storage-services/service/pnp/bbc/0000/0020/0029f_150px.jpg#h=150&w=88\"/>"
            ],
            "text/plain": [
              "<IPython.core.display.Image object>"
            ]
          },
          "metadata": {}
        },
        {
          "output_type": "stream",
          "name": "stdout",
          "text": [
            "\n",
            " \n",
            "\n",
            "Index: 23 \n",
            " Title: [Buck Ewing, New York Giants, baseball card portrait] \n",
            " Other Title: ['Buchner Gold Coin (N284)'] \n",
            " Contributor: ['d. buchner & company'] \n",
            " Date: 1887-01-01 \n",
            "\n"
          ]
        },
        {
          "output_type": "display_data",
          "data": {
            "text/html": [
              "<img src=\"https://tile.loc.gov/storage-services/service/pnp/bbc/0000/0030/0030f_150px.jpg#h=150&w=88\"/>"
            ],
            "text/plain": [
              "<IPython.core.display.Image object>"
            ]
          },
          "metadata": {}
        },
        {
          "output_type": "stream",
          "name": "stdout",
          "text": [
            "\n",
            " \n",
            "\n",
            "Index: 24 \n",
            " Title: [Pete Gillespie, New York Giants, baseball card portrait] \n",
            " Other Title: ['Buchner Gold Coin (N284)'] \n",
            " Contributor: ['d. buchner & company'] \n",
            " Date: 1887-01-01 \n",
            "\n"
          ]
        },
        {
          "output_type": "display_data",
          "data": {
            "text/html": [
              "<img src=\"https://tile.loc.gov/storage-services/service/pnp/bbc/0000/0030/0031f_150px.jpg#h=150&w=90\"/>"
            ],
            "text/plain": [
              "<IPython.core.display.Image object>"
            ]
          },
          "metadata": {}
        },
        {
          "output_type": "stream",
          "name": "stdout",
          "text": [
            "\n",
            " \n",
            "\n",
            "Index: 25 \n",
            " Title: [Jim O'Rourke, New York Giants, baseball card portrait] \n",
            " Other Title: ['Buchner Gold Coin (N284)'] \n",
            " Contributor: ['d. buchner & company'] \n",
            " Date: 1887-01-01 \n",
            "\n"
          ]
        },
        {
          "output_type": "display_data",
          "data": {
            "text/html": [
              "<img src=\"https://tile.loc.gov/storage-services/service/pnp/bbc/0000/0030/0032f_150px.jpg#h=150&w=89\"/>"
            ],
            "text/plain": [
              "<IPython.core.display.Image object>"
            ]
          },
          "metadata": {}
        },
        {
          "output_type": "stream",
          "name": "stdout",
          "text": [
            "\n",
            " \n",
            "\n",
            "Index: 26 \n",
            " Title: [Danny Richardson, New York Giants, baseball card portrait] \n",
            " Other Title: ['Buchner Gold Coin (N284)'] \n",
            " Contributor: ['d. buchner & company'] \n",
            " Date: 1887-01-01 \n",
            "\n"
          ]
        },
        {
          "output_type": "display_data",
          "data": {
            "text/html": [
              "<img src=\"https://tile.loc.gov/storage-services/service/pnp/bbc/0000/0030/0033f_150px.jpg#h=150&w=90\"/>"
            ],
            "text/plain": [
              "<IPython.core.display.Image object>"
            ]
          },
          "metadata": {}
        },
        {
          "output_type": "stream",
          "name": "stdout",
          "text": [
            "\n",
            " \n",
            "\n",
            "Index: 27 \n",
            " Title: [Monte Ward, New York Giants, baseball card portrait] \n",
            " Other Title: ['Buchner Gold Coin (N284)'] \n",
            " Contributor: ['d. buchner & company'] \n",
            " Date: 1887-01-01 \n",
            "\n"
          ]
        },
        {
          "output_type": "display_data",
          "data": {
            "text/html": [
              "<img src=\"https://tile.loc.gov/storage-services/service/pnp/bbc/0000/0030/0034f_150px.jpg#h=150&w=89\"/>"
            ],
            "text/plain": [
              "<IPython.core.display.Image object>"
            ]
          },
          "metadata": {}
        },
        {
          "output_type": "stream",
          "name": "stdout",
          "text": [
            "\n",
            " \n",
            "\n",
            "Index: 28 \n",
            " Title: [Ed Andrews, Philadelphia Quakers, baseball card portrait] \n",
            " Other Title: ['Buchner Gold Coin (N284)'] \n",
            " Contributor: ['d. buchner & company'] \n",
            " Date: 1887-01-01 \n",
            "\n"
          ]
        },
        {
          "output_type": "display_data",
          "data": {
            "text/html": [
              "<img src=\"https://tile.loc.gov/storage-services/service/pnp/bbc/0000/0030/0035f_150px.jpg#h=150&w=90\"/>"
            ],
            "text/plain": [
              "<IPython.core.display.Image object>"
            ]
          },
          "metadata": {}
        },
        {
          "output_type": "stream",
          "name": "stdout",
          "text": [
            "\n",
            " \n",
            "\n",
            "Index: 29 \n",
            " Title: [Dan Casey, Philadelphia Quakers, baseball card portrait] \n",
            " Other Title: ['Buchner Gold Coin (N284)'] \n",
            " Contributor: ['d. buchner & company'] \n",
            " Date: 1887-01-01 \n",
            "\n"
          ]
        },
        {
          "output_type": "display_data",
          "data": {
            "text/html": [
              "<img src=\"https://tile.loc.gov/storage-services/service/pnp/bbc/0000/0030/0036f_150px.jpg#h=150&w=89\"/>"
            ],
            "text/plain": [
              "<IPython.core.display.Image object>"
            ]
          },
          "metadata": {}
        },
        {
          "output_type": "stream",
          "name": "stdout",
          "text": [
            "\n",
            " \n",
            "\n",
            "Index: 30 \n",
            " Title: [Jim Fogarty, Philadelphia Quakers, baseball card portrait] \n",
            " Other Title: ['Buchner Gold Coin (N284)'] \n",
            " Contributor: ['d. buchner & company'] \n",
            " Date: 1887-01-01 \n",
            "\n"
          ]
        },
        {
          "output_type": "display_data",
          "data": {
            "text/html": [
              "<img src=\"https://tile.loc.gov/storage-services/service/pnp/bbc/0000/0030/0037f_150px.jpg#h=150&w=89\"/>"
            ],
            "text/plain": [
              "<IPython.core.display.Image object>"
            ]
          },
          "metadata": {}
        },
        {
          "output_type": "stream",
          "name": "stdout",
          "text": [
            "\n",
            " \n",
            "\n",
            "Index: 31 \n",
            " Title: [Joe Mulvey, Philadelphia Quakers, baseball card portrait] \n",
            " Other Title: ['Buchner Gold Coin (N284)'] \n",
            " Contributor: ['d. buchner & company'] \n",
            " Date: 1887-01-01 \n",
            "\n"
          ]
        },
        {
          "output_type": "display_data",
          "data": {
            "text/html": [
              "<img src=\"https://tile.loc.gov/storage-services/service/pnp/bbc/0000/0030/0038f_150px.jpg#h=150&w=88\"/>"
            ],
            "text/plain": [
              "<IPython.core.display.Image object>"
            ]
          },
          "metadata": {}
        },
        {
          "output_type": "stream",
          "name": "stdout",
          "text": [
            "\n",
            " \n",
            "\n",
            "Index: 32 \n",
            " Title: [John Morrill, Boston Beaneaters, baseball card portrait] \n",
            " Other Title: ['Buchner Gold Coin (N284)'] \n",
            " Contributor: ['d. buchner & company'] \n",
            " Date: 1887-01-01 \n",
            "\n"
          ]
        },
        {
          "output_type": "display_data",
          "data": {
            "text/html": [
              "<img src=\"https://tile.loc.gov/storage-services/service/pnp/bbc/0000/0010/0012f_150px.jpg#h=150&w=89\"/>"
            ],
            "text/plain": [
              "<IPython.core.display.Image object>"
            ]
          },
          "metadata": {}
        },
        {
          "output_type": "stream",
          "name": "stdout",
          "text": [
            "\n",
            " \n",
            "\n",
            "Index: 33 \n",
            " Title: [Dandy Wood, Philadelphia Quakers, baseball card portrait] \n",
            " Other Title: ['Buchner Gold Coin (N284)'] \n",
            " Contributor: ['d. buchner & company'] \n",
            " Date: 1887-01-01 \n",
            "\n"
          ]
        },
        {
          "output_type": "display_data",
          "data": {
            "text/html": [
              "<img src=\"https://tile.loc.gov/storage-services/service/pnp/bbc/0000/0030/0039f_150px.jpg#h=150&w=89\"/>"
            ],
            "text/plain": [
              "<IPython.core.display.Image object>"
            ]
          },
          "metadata": {}
        },
        {
          "output_type": "stream",
          "name": "stdout",
          "text": [
            "\n",
            " \n",
            "\n",
            "Index: 34 \n",
            " Title: [Tom Brown, Pittsburgh Alleghenys, baseball card portrait] \n",
            " Other Title: ['Buchner Gold Coin (N284)'] \n",
            " Contributor: ['d. buchner & company'] \n",
            " Date: 1887-01-01 \n",
            "\n"
          ]
        },
        {
          "output_type": "display_data",
          "data": {
            "text/html": [
              "<img src=\"https://tile.loc.gov/storage-services/service/pnp/bbc/0000/0040/0040f_150px.jpg#h=150&w=87\"/>"
            ],
            "text/plain": [
              "<IPython.core.display.Image object>"
            ]
          },
          "metadata": {}
        },
        {
          "output_type": "stream",
          "name": "stdout",
          "text": [
            "\n",
            " \n",
            "\n",
            "Index: 35 \n",
            " Title: [Fred Carroll, Pittsburgh Alleghenys, baseball card portrait] \n",
            " Other Title: ['Buchner Gold Coin (N284)'] \n",
            " Contributor: ['d. buchner & company'] \n",
            " Date: 1887-01-01 \n",
            "\n"
          ]
        },
        {
          "output_type": "display_data",
          "data": {
            "text/html": [
              "<img src=\"https://tile.loc.gov/storage-services/service/pnp/bbc/0000/0040/0041f_150px.jpg#h=150&w=88\"/>"
            ],
            "text/plain": [
              "<IPython.core.display.Image object>"
            ]
          },
          "metadata": {}
        },
        {
          "output_type": "stream",
          "name": "stdout",
          "text": [
            "\n",
            " \n",
            "\n",
            "Index: 36 \n",
            " Title: [Ed Dailey, Washington Statesmen, baseball card portrait] \n",
            " Other Title: ['Buchner Gold Coin (N284)'] \n",
            " Contributor: ['d. buchner & company'] \n",
            " Date: 1887-01-01 \n",
            "\n"
          ]
        },
        {
          "output_type": "display_data",
          "data": {
            "text/html": [
              "<img src=\"https://tile.loc.gov/storage-services/service/pnp/bbc/0000/0040/0042ft.gif#h=150&w=91\"/>"
            ],
            "text/plain": [
              "<IPython.core.display.Image object>"
            ]
          },
          "metadata": {}
        },
        {
          "output_type": "stream",
          "name": "stdout",
          "text": [
            "\n",
            " \n",
            "\n",
            "Index: 37 \n",
            " Title: [Jim Donnelly, Washington Statesmen, baseball card portrait] \n",
            " Other Title: ['Buchner Gold Coin (N284)'] \n",
            " Contributor: ['d. buchner & company'] \n",
            " Date: 1887-01-01 \n",
            "\n"
          ]
        },
        {
          "output_type": "display_data",
          "data": {
            "text/html": [
              "<img src=\"https://tile.loc.gov/storage-services/service/pnp/bbc/0000/0040/0043f_150px.jpg#h=150&w=88\"/>"
            ],
            "text/plain": [
              "<IPython.core.display.Image object>"
            ]
          },
          "metadata": {}
        },
        {
          "output_type": "stream",
          "name": "stdout",
          "text": [
            "\n",
            " \n",
            "\n",
            "Index: 38 \n",
            " Title: [Jack Farrell, Washington Statesmen, baseball card portrait] \n",
            " Other Title: ['Buchner Gold Coin (N284)'] \n",
            " Contributor: ['d. buchner & company'] \n",
            " Date: 1887-01-01 \n",
            "\n"
          ]
        },
        {
          "output_type": "display_data",
          "data": {
            "text/html": [
              "<img src=\"https://tile.loc.gov/storage-services/service/pnp/bbc/0000/0040/0044f_150px.jpg#h=150&w=91\"/>"
            ],
            "text/plain": [
              "<IPython.core.display.Image object>"
            ]
          },
          "metadata": {}
        },
        {
          "output_type": "stream",
          "name": "stdout",
          "text": [
            "\n",
            " \n",
            "\n",
            "Index: 39 \n",
            " Title: [Jack Farrell, Washington Statesmen, baseball card portrait] \n",
            " Other Title: ['Buchner Gold Coin (N284)'] \n",
            " Contributor: ['d. buchner & company'] \n",
            " Date: 1887-01-01 \n",
            "\n"
          ]
        },
        {
          "output_type": "display_data",
          "data": {
            "text/html": [
              "<img src=\"https://tile.loc.gov/storage-services/service/pnp/bbc/0000/0040/0045f_150px.jpg#h=150&w=90\"/>"
            ],
            "text/plain": [
              "<IPython.core.display.Image object>"
            ]
          },
          "metadata": {}
        },
        {
          "output_type": "stream",
          "name": "stdout",
          "text": [
            "\n",
            " \n",
            "\n",
            "Index: 40 \n",
            " Title: [Paul Hines, Washington Statesmen, baseball card portrait] \n",
            " Other Title: ['Buchner Gold Coin (N284)'] \n",
            " Contributor: ['d. buchner & company'] \n",
            " Date: 1887-01-01 \n",
            "\n"
          ]
        },
        {
          "output_type": "display_data",
          "data": {
            "text/html": [
              "<img src=\"https://tile.loc.gov/storage-services/service/pnp/bbc/0000/0040/0046f_150px.jpg#h=150&w=90\"/>"
            ],
            "text/plain": [
              "<IPython.core.display.Image object>"
            ]
          },
          "metadata": {}
        },
        {
          "output_type": "stream",
          "name": "stdout",
          "text": [
            "\n",
            " \n",
            "\n",
            "Index: 41 \n",
            " Title: [Billy O'Brien, Washington Statesmen, baseball card portrait] \n",
            " Other Title: ['Buchner Gold Coin (N284)'] \n",
            " Contributor: ['d. buchner & company'] \n",
            " Date: 1887-01-01 \n",
            "\n"
          ]
        },
        {
          "output_type": "display_data",
          "data": {
            "text/html": [
              "<img src=\"https://tile.loc.gov/storage-services/service/pnp/bbc/0000/0040/0047f_150px.jpg#h=150&w=88\"/>"
            ],
            "text/plain": [
              "<IPython.core.display.Image object>"
            ]
          },
          "metadata": {}
        },
        {
          "output_type": "stream",
          "name": "stdout",
          "text": [
            "\n",
            " \n",
            "\n",
            "Index: 42 \n",
            " Title: [Oyster Burns, Baltimore Orioles, baseball card portrait] \n",
            " Other Title: ['Buchner Gold Coin (N284)'] \n",
            " Contributor: ['d. buchner & company'] \n",
            " Date: 1887-01-01 \n",
            "\n"
          ]
        },
        {
          "output_type": "display_data",
          "data": {
            "text/html": [
              "<img src=\"https://tile.loc.gov/storage-services/service/pnp/bbc/0000/0040/0048f_150px.jpg#h=150&w=92\"/>"
            ],
            "text/plain": [
              "<IPython.core.display.Image object>"
            ]
          },
          "metadata": {}
        },
        {
          "output_type": "stream",
          "name": "stdout",
          "text": [
            "\n",
            " \n",
            "\n",
            "Index: 43 \n",
            " Title: [John Morrill, Boston Beaneaters, baseball card portrait] \n",
            " Other Title: ['Buchner Gold Coin (N284)'] \n",
            " Contributor: ['d. buchner & company'] \n",
            " Date: 1887-01-01 \n",
            "\n"
          ]
        },
        {
          "output_type": "display_data",
          "data": {
            "text/html": [
              "<img src=\"https://tile.loc.gov/storage-services/service/pnp/bbc/0000/0010/0013f_150px.jpg#h=150&w=89\"/>"
            ],
            "text/plain": [
              "<IPython.core.display.Image object>"
            ]
          },
          "metadata": {}
        },
        {
          "output_type": "stream",
          "name": "stdout",
          "text": [
            "\n",
            " \n",
            "\n",
            "Index: 44 \n",
            " Title: [Matt Kilroy, Baltimore Orioles, baseball card portrait] \n",
            " Other Title: ['Buchner Gold Coin (N284)'] \n",
            " Contributor: ['d. buchner & company'] \n",
            " Date: 1887-01-01 \n",
            "\n"
          ]
        },
        {
          "output_type": "display_data",
          "data": {
            "text/html": [
              "<img src=\"https://tile.loc.gov/storage-services/service/pnp/bbc/0000/0040/0049f_150px.jpg#h=150&w=87\"/>"
            ],
            "text/plain": [
              "<IPython.core.display.Image object>"
            ]
          },
          "metadata": {}
        },
        {
          "output_type": "stream",
          "name": "stdout",
          "text": [
            "\n",
            " \n",
            "\n",
            "Index: 45 \n",
            " Title: [Jim Donahue, New York Metropolitans, baseball card portrait] \n",
            " Other Title: ['Buchner Gold Coin (N284)'] \n",
            " Contributor: ['d. buchner & company'] \n",
            " Date: 1887-01-01 \n",
            "\n"
          ]
        },
        {
          "output_type": "display_data",
          "data": {
            "text/html": [
              "<img src=\"https://tile.loc.gov/storage-services/service/pnp/bbc/0000/0050/0050f_150px.jpg#h=150&w=93\"/>"
            ],
            "text/plain": [
              "<IPython.core.display.Image object>"
            ]
          },
          "metadata": {}
        },
        {
          "output_type": "stream",
          "name": "stdout",
          "text": [
            "\n",
            " \n",
            "\n",
            "Index: 46 \n",
            " Title: [Dave Orr, New York Metropolitans, baseball card portrait] \n",
            " Other Title: ['Buchner Gold Coin (N284)'] \n",
            " Contributor: ['d. buchner & company'] \n",
            " Date: 1887-01-01 \n",
            "\n"
          ]
        },
        {
          "output_type": "display_data",
          "data": {
            "text/html": [
              "<img src=\"https://tile.loc.gov/storage-services/service/pnp/bbc/0000/0050/0051f_150px.jpg#h=150&w=92\"/>"
            ],
            "text/plain": [
              "<IPython.core.display.Image object>"
            ]
          },
          "metadata": {}
        },
        {
          "output_type": "stream",
          "name": "stdout",
          "text": [
            "\n",
            " \n",
            "\n",
            "Index: 47 \n",
            " Title: [Roseman, New York Metropolitans, baseball card portrait] \n",
            " Other Title: ['Buchner Gold Coin (N284)'] \n",
            " Contributor: ['d. buchner & company'] \n",
            " Date: 1887-01-01 \n",
            "\n"
          ]
        },
        {
          "output_type": "display_data",
          "data": {
            "text/html": [
              "<img src=\"https://tile.loc.gov/storage-services/service/pnp/bbc/0000/0050/0052f_150px.jpg#h=150&w=90\"/>"
            ],
            "text/plain": [
              "<IPython.core.display.Image object>"
            ]
          },
          "metadata": {}
        },
        {
          "output_type": "stream",
          "name": "stdout",
          "text": [
            "\n",
            " \n",
            "\n",
            "Index: 48 \n",
            " Title: [Sam Barkley, St. Louis Browns, baseball card portrait] \n",
            " Other Title: ['Buchner Gold Coin (N284)'] \n",
            " Contributor: ['d. buchner & company'] \n",
            " Date: 1887-01-01 \n",
            "\n"
          ]
        },
        {
          "output_type": "display_data",
          "data": {
            "text/html": [
              "<img src=\"https://tile.loc.gov/storage-services/service/pnp/bbc/0000/0050/0053ft.gif#h=150&w=87\"/>"
            ],
            "text/plain": [
              "<IPython.core.display.Image object>"
            ]
          },
          "metadata": {}
        },
        {
          "output_type": "stream",
          "name": "stdout",
          "text": [
            "\n",
            " \n",
            "\n",
            "Index: 49 \n",
            " Title: [Doc Bushong, catcher for the St. Louis Browns, baseball card portrait] \n",
            " Other Title: ['Buchner Gold Coin (N284)'] \n",
            " Contributor: ['d. buchner & company'] \n",
            " Date: 1887-01-01 \n",
            "\n"
          ]
        },
        {
          "output_type": "display_data",
          "data": {
            "text/html": [
              "<img src=\"https://tile.loc.gov/storage-services/service/pnp/bbc/0000/0050/0054f_150px.jpg#h=150&w=89\"/>"
            ],
            "text/plain": [
              "<IPython.core.display.Image object>"
            ]
          },
          "metadata": {}
        },
        {
          "output_type": "stream",
          "name": "stdout",
          "text": [
            "\n",
            " \n",
            "\n",
            "Index: 50 \n",
            " Title: [Caruthers, St. Louis Browns, baseball card portrait] \n",
            " Other Title: ['Buchner Gold Coin (N284)'] \n",
            " Contributor: ['d. buchner & company'] \n",
            " Date: 1887-01-01 \n",
            "\n"
          ]
        },
        {
          "output_type": "display_data",
          "data": {
            "text/html": [
              "<img src=\"https://tile.loc.gov/storage-services/service/pnp/bbc/0000/0050/0055f_150px.jpg#h=150&w=89\"/>"
            ],
            "text/plain": [
              "<IPython.core.display.Image object>"
            ]
          },
          "metadata": {}
        },
        {
          "output_type": "stream",
          "name": "stdout",
          "text": [
            "\n",
            " \n",
            "\n",
            "Index: 51 \n",
            " Title: [Charles Comiskey, St. Louis Browns, baseball card portrait] \n",
            " Other Title: ['Buchner Gold Coin (N284)'] \n",
            " Contributor: ['d. buchner & company'] \n",
            " Date: 1887-01-01 \n",
            "\n"
          ]
        },
        {
          "output_type": "display_data",
          "data": {
            "text/html": [
              "<img src=\"https://tile.loc.gov/storage-services/service/pnp/bbc/0000/0050/0056f_150px.jpg#h=150&w=89\"/>"
            ],
            "text/plain": [
              "<IPython.core.display.Image object>"
            ]
          },
          "metadata": {}
        },
        {
          "output_type": "stream",
          "name": "stdout",
          "text": [
            "\n",
            " \n",
            "\n",
            "Index: 52 \n",
            " Title: [Dave Foutz, St. Louis Browns, baseball card portrait] \n",
            " Other Title: ['Buchner Gold Coin (N284)'] \n",
            " Contributor: ['d. buchner & company'] \n",
            " Date: 1887-01-01 \n",
            "\n"
          ]
        },
        {
          "output_type": "display_data",
          "data": {
            "text/html": [
              "<img src=\"https://tile.loc.gov/storage-services/service/pnp/bbc/0000/0050/0057f_150px.jpg#h=150&w=89\"/>"
            ],
            "text/plain": [
              "<IPython.core.display.Image object>"
            ]
          },
          "metadata": {}
        },
        {
          "output_type": "stream",
          "name": "stdout",
          "text": [
            "\n",
            " \n",
            "\n",
            "Index: 53 \n",
            " Title: [Bill Gleason, St. Louis Browns, baseball card portrait] \n",
            " Other Title: ['Buchner Gold Coin (N284)'] \n",
            " Contributor: ['d. buchner & company'] \n",
            " Date: 1887-01-01 \n",
            "\n"
          ]
        },
        {
          "output_type": "display_data",
          "data": {
            "text/html": [
              "<img src=\"https://tile.loc.gov/storage-services/service/pnp/bbc/0000/0050/0058f_150px.jpg#h=150&w=93\"/>"
            ],
            "text/plain": [
              "<IPython.core.display.Image object>"
            ]
          },
          "metadata": {}
        },
        {
          "output_type": "stream",
          "name": "stdout",
          "text": [
            "\n",
            " \n",
            "\n",
            "Index: 54 \n",
            " Title: [Jimmy Ryan, Chicago White Stockings, baseball card portrait] \n",
            " Other Title: ['Buchner Gold Coin (N284)'] \n",
            " Contributor: ['d. buchner & company'] \n",
            " Date: 1887-01-01 \n",
            "\n"
          ]
        },
        {
          "output_type": "display_data",
          "data": {
            "text/html": [
              "<img src=\"https://tile.loc.gov/storage-services/service/pnp/bbc/0000/0010/0014f_150px.jpg#h=150&w=81\"/>"
            ],
            "text/plain": [
              "<IPython.core.display.Image object>"
            ]
          },
          "metadata": {}
        },
        {
          "output_type": "stream",
          "name": "stdout",
          "text": [
            "\n",
            " \n",
            "\n",
            "Index: 55 \n",
            " Title: [Jumbo McGinnis, St. Louis Browns, baseball card portrait] \n",
            " Other Title: ['Buchner Gold Coin (N284)'] \n",
            " Contributor: ['d. buchner & company'] \n",
            " Date: 1887-01-01 \n",
            "\n"
          ]
        },
        {
          "output_type": "display_data",
          "data": {
            "text/html": [
              "<img src=\"https://tile.loc.gov/storage-services/service/pnp/bbc/0000/0050/0059f_150px.jpg#h=150&w=89\"/>"
            ],
            "text/plain": [
              "<IPython.core.display.Image object>"
            ]
          },
          "metadata": {}
        },
        {
          "output_type": "stream",
          "name": "stdout",
          "text": [
            "\n",
            " \n",
            "\n",
            "Index: 56 \n",
            " Title: [Tip O'Neill, St. Louis Browns, baseball card portrait] \n",
            " Other Title: ['Buchner Gold Coin (N284)'] \n",
            " Contributor: ['d. buchner & company'] \n",
            " Date: 1887-01-01 \n",
            "\n"
          ]
        },
        {
          "output_type": "display_data",
          "data": {
            "text/html": [
              "<img src=\"https://tile.loc.gov/storage-services/service/pnp/bbc/0000/0060/0060f_150px.jpg#h=150&w=87\"/>"
            ],
            "text/plain": [
              "<IPython.core.display.Image object>"
            ]
          },
          "metadata": {}
        },
        {
          "output_type": "stream",
          "name": "stdout",
          "text": [
            "\n",
            " \n",
            "\n",
            "Index: 57 \n",
            " Title: [Dan Sullivan, St. Louis Browns, baseball card portrait] \n",
            " Other Title: ['Buchner Gold Coin (N284)'] \n",
            " Contributor: ['d. buchner & company'] \n",
            " Date: 1887-01-01 \n",
            "\n"
          ]
        },
        {
          "output_type": "display_data",
          "data": {
            "text/html": [
              "<img src=\"https://tile.loc.gov/storage-services/service/pnp/bbc/0000/0060/0061f_150px.jpg#h=150&w=88\"/>"
            ],
            "text/plain": [
              "<IPython.core.display.Image object>"
            ]
          },
          "metadata": {}
        },
        {
          "output_type": "stream",
          "name": "stdout",
          "text": [
            "\n",
            " \n",
            "\n",
            "Index: 58 \n",
            " Title: [Chris Von Der Ahe, St. Louis Browns, baseball card portrait] \n",
            " Other Title: ['Buchner Gold Coin (N284)'] \n",
            " Contributor: ['d. buchner & company'] \n",
            " Date: 1887-01-01 \n",
            "\n"
          ]
        },
        {
          "output_type": "display_data",
          "data": {
            "text/html": [
              "<img src=\"https://tile.loc.gov/storage-services/service/pnp/bbc/0000/0060/0062f_150px.jpg#h=150&w=91\"/>"
            ],
            "text/plain": [
              "<IPython.core.display.Image object>"
            ]
          },
          "metadata": {}
        },
        {
          "output_type": "stream",
          "name": "stdout",
          "text": [
            "\n",
            " \n",
            "\n",
            "Index: 59 \n",
            " Title: [Curt Welch, St. Louis Browns, baseball card portrait] \n",
            " Other Title: ['Buchner Gold Coin (N284)'] \n",
            " Contributor: ['d. buchner & company'] \n",
            " Date: 1887-01-01 \n",
            "\n"
          ]
        },
        {
          "output_type": "display_data",
          "data": {
            "text/html": [
              "<img src=\"https://tile.loc.gov/storage-services/service/pnp/bbc/0000/0060/0063f_150px.jpg#h=150&w=90\"/>"
            ],
            "text/plain": [
              "<IPython.core.display.Image object>"
            ]
          },
          "metadata": {}
        },
        {
          "output_type": "stream",
          "name": "stdout",
          "text": [
            "\n",
            " \n",
            "\n",
            "Index: 60 \n",
            " Title: [Kennedy, LaCrosse Team, baseball card portrait] \n",
            " Other Title: ['Buchner Gold Coin (N284)'] \n",
            " Contributor: ['d. buchner & company'] \n",
            " Date: 1887-01-01 \n",
            "\n"
          ]
        },
        {
          "output_type": "display_data",
          "data": {
            "text/html": [
              "<img src=\"https://tile.loc.gov/storage-services/service/pnp/bbc/0000/0060/0064f_150px.jpg#h=150&w=89\"/>"
            ],
            "text/plain": [
              "<IPython.core.display.Image object>"
            ]
          },
          "metadata": {}
        },
        {
          "output_type": "stream",
          "name": "stdout",
          "text": [
            "\n",
            " \n",
            "\n",
            "Index: 61 \n",
            " Title: [Tom Forster, Milwaukee Team, baseball card portrait] \n",
            " Other Title: ['Buchner Gold Coin (N284)'] \n",
            " Contributor: ['d. buchner & company'] \n",
            " Date: 1887-01-01 \n",
            "\n"
          ]
        },
        {
          "output_type": "display_data",
          "data": {
            "text/html": [
              "<img src=\"https://tile.loc.gov/storage-services/service/pnp/bbc/0000/0060/0065f_150px.jpg#h=150&w=93\"/>"
            ],
            "text/plain": [
              "<IPython.core.display.Image object>"
            ]
          },
          "metadata": {}
        },
        {
          "output_type": "stream",
          "name": "stdout",
          "text": [
            "\n",
            " \n",
            "\n",
            "Index: 62 \n",
            " Title: [Bill Hart, Milwaukee Brewers, baseball card portrait] \n",
            " Other Title: ['Card set: Buchner Gold Coin (N284)'] \n",
            " Contributor: ['d. buchner & company'] \n",
            " Date: 1887 \n",
            "\n"
          ]
        },
        {
          "output_type": "display_data",
          "data": {
            "text/html": [
              "<img src=\"https://tile.loc.gov/storage-services/service/pnp/bbc/0000/0060/0066f_150px.jpg#h=150&w=89\"/>"
            ],
            "text/plain": [
              "<IPython.core.display.Image object>"
            ]
          },
          "metadata": {}
        },
        {
          "output_type": "stream",
          "name": "stdout",
          "text": [
            "\n",
            " \n",
            "\n",
            "Index: 63 \n",
            " Title: [Morrissey, Milwaukee Team, baseball card portrait] \n",
            " Other Title: ['Buchner Gold Coin (N284)'] \n",
            " Contributor: ['d. buchner & company'] \n",
            " Date: 1887-01-01 \n",
            "\n"
          ]
        },
        {
          "output_type": "display_data",
          "data": {
            "text/html": [
              "<img src=\"https://tile.loc.gov/storage-services/service/pnp/bbc/0000/0060/0067f_150px.jpg#h=150&w=88\"/>"
            ],
            "text/plain": [
              "<IPython.core.display.Image object>"
            ]
          },
          "metadata": {}
        },
        {
          "output_type": "stream",
          "name": "stdout",
          "text": [
            "\n",
            " \n",
            "\n",
            "Index: 64 \n",
            " Title: [Ned Williamson, Chicago White Stockings, baseball card portrait] \n",
            " Other Title: ['Buchner Gold Coin (N284)'] \n",
            " Contributor: ['d. buchner & company'] \n",
            " Date: 1887-01-01 \n",
            "\n"
          ]
        },
        {
          "output_type": "display_data",
          "data": {
            "text/html": [
              "<img src=\"https://tile.loc.gov/storage-services/service/pnp/bbc/0000/0010/0015f_150px.jpg#h=150&w=91\"/>"
            ],
            "text/plain": [
              "<IPython.core.display.Image object>"
            ]
          },
          "metadata": {}
        },
        {
          "output_type": "stream",
          "name": "stdout",
          "text": [
            "\n",
            " \n",
            "\n",
            "Index: 65 \n",
            " Title: [Charlie Bennett, Detroit Wolverines, baseball card portrait] \n",
            " Other Title: ['Buchner Gold Coin (N284)'] \n",
            " Contributor: ['d. buchner & company'] \n",
            " Date: 1887-01-01 \n",
            "\n"
          ]
        },
        {
          "output_type": "display_data",
          "data": {
            "text/html": [
              "<img src=\"https://tile.loc.gov/storage-services/service/pnp/bbc/0000/0010/0016f_150px.jpg#h=150&w=90\"/>"
            ],
            "text/plain": [
              "<IPython.core.display.Image object>"
            ]
          },
          "metadata": {}
        },
        {
          "output_type": "stream",
          "name": "stdout",
          "text": [
            "\n",
            " \n",
            "\n",
            "Index: 66 \n",
            " Title: [Ned Hanlon, Detroit Wolverines, baseball card portrait] \n",
            " Other Title: ['Buchner Gold Coin (N284)'] \n",
            " Contributor: ['d. buchner & company'] \n",
            " Date: 1887-01-01 \n",
            "\n"
          ]
        },
        {
          "output_type": "display_data",
          "data": {
            "text/html": [
              "<img src=\"https://tile.loc.gov/storage-services/service/pnp/bbc/0000/0010/0017f_150px.jpg#h=150&w=88\"/>"
            ],
            "text/plain": [
              "<IPython.core.display.Image object>"
            ]
          },
          "metadata": {}
        },
        {
          "output_type": "stream",
          "name": "stdout",
          "text": [
            "\n",
            " \n",
            "\n",
            "Index: 67 \n",
            " Title: [Hardy Richardson, Detroit Wolverines, baseball card portrait] \n",
            " Other Title: ['Buchner Gold Coin (N284)'] \n",
            " Contributor: ['d. buchner & company'] \n",
            " Date: 1887-01-01 \n",
            "\n"
          ]
        },
        {
          "output_type": "display_data",
          "data": {
            "text/html": [
              "<img src=\"https://tile.loc.gov/storage-services/service/pnp/bbc/0000/0010/0018f_150px.jpg#h=150&w=88\"/>"
            ],
            "text/plain": [
              "<IPython.core.display.Image object>"
            ]
          },
          "metadata": {}
        },
        {
          "output_type": "stream",
          "name": "stdout",
          "text": [
            "\n",
            " \n",
            "\n",
            "Index: 68 \n",
            " Title: [Ezra Sutton, Boston Beaneaters, baseball card portrait] \n",
            " Other Title: ['Gypsy Queens'] \n",
            " Contributor: ['goodwin & co.'] \n",
            " Date: 1887-01-01 \n",
            "\n"
          ]
        },
        {
          "output_type": "display_data",
          "data": {
            "text/html": [
              "<img src=\"https://tile.loc.gov/storage-services/service/pnp/bbc/0000/0060/0068f_150px.jpg#h=150&w=85\"/>"
            ],
            "text/plain": [
              "<IPython.core.display.Image object>"
            ]
          },
          "metadata": {}
        },
        {
          "output_type": "stream",
          "name": "stdout",
          "text": [
            "\n",
            " \n",
            "\n",
            "Index: 69 \n",
            " Title: [Tug Arundel, Indianapolis Hoosiers, baseball card portrait] \n",
            " Other Title: ['Gypsy Queens'] \n",
            " Contributor: ['goodwin & co.'] \n",
            " Date: 1887-01-01 \n",
            "\n"
          ]
        },
        {
          "output_type": "display_data",
          "data": {
            "text/html": [
              "<img src=\"https://tile.loc.gov/storage-services/service/pnp/bbc/0000/0060/0069f_150px.jpg#h=150&w=85\"/>"
            ],
            "text/plain": [
              "<IPython.core.display.Image object>"
            ]
          },
          "metadata": {}
        },
        {
          "output_type": "stream",
          "name": "stdout",
          "text": [
            "\n",
            " \n",
            "\n",
            "Index: 70 \n",
            " Title: [Jack Glasscock, Indianapolis Hoosiers, baseball card portrait] \n",
            " Other Title: ['Gypsy Queens'] \n",
            " Contributor: ['goodwin & co.'] \n",
            " Date: 1887-01-01 \n",
            "\n"
          ]
        },
        {
          "output_type": "display_data",
          "data": {
            "text/html": [
              "<img src=\"https://tile.loc.gov/storage-services/service/pnp/bbc/0000/0070/0070ft.gif#h=150&w=90\"/>"
            ],
            "text/plain": [
              "<IPython.core.display.Image object>"
            ]
          },
          "metadata": {}
        },
        {
          "output_type": "stream",
          "name": "stdout",
          "text": [
            "\n",
            " \n",
            "\n",
            "Index: 71 \n",
            " Title: [Sam Barkley, Pittsburgh Alleghenys, baseball card portrait] \n",
            " Other Title: ['Gypsy Queens'] \n",
            " Contributor: ['goodwin & co.'] \n",
            " Date: 1887-01-01 \n",
            "\n"
          ]
        },
        {
          "output_type": "display_data",
          "data": {
            "text/html": [
              "<img src=\"https://tile.loc.gov/storage-services/service/pnp/bbc/0000/0070/0071f_150px.jpg#h=150&w=84\"/>"
            ],
            "text/plain": [
              "<IPython.core.display.Image object>"
            ]
          },
          "metadata": {}
        },
        {
          "output_type": "stream",
          "name": "stdout",
          "text": [
            "\n",
            " \n",
            "\n",
            "Index: 72 \n",
            " Title: [Harry Lyons and Billy Taylor, Philadelphia Quakers, baseball card portrait] \n",
            " Other Title: ['Kalamazoo Bats (N690)'] \n",
            " Contributor: ['charles gross & co.'] \n",
            " Date: 1887-01-01 \n",
            "\n"
          ]
        },
        {
          "output_type": "display_data",
          "data": {
            "text/html": [
              "<img src=\"https://tile.loc.gov/storage-services/service/pnp/bbc/0000/0070/0072f_150px.jpg#h=150&w=93\"/>"
            ],
            "text/plain": [
              "<IPython.core.display.Image object>"
            ]
          },
          "metadata": {}
        },
        {
          "output_type": "stream",
          "name": "stdout",
          "text": [
            "\n",
            " \n",
            "\n",
            "Index: 73 \n",
            " Title: [Black Jack Burdock, Boston Beaneaters, baseball card portrait] \n",
            " Other Title: ['Old Judge (N172)'] \n",
            " Contributor: ['goodwin & co.'] \n",
            " Date: 1887-01-01 \n",
            "\n"
          ]
        },
        {
          "output_type": "display_data",
          "data": {
            "text/html": [
              "<img src=\"https://tile.loc.gov/storage-services/service/pnp/bbc/0000/0070/0073f_150px.jpg#h=150&w=85\"/>"
            ],
            "text/plain": [
              "<IPython.core.display.Image object>"
            ]
          },
          "metadata": {}
        },
        {
          "output_type": "stream",
          "name": "stdout",
          "text": [
            "\n",
            " \n",
            "\n",
            "Index: 74 \n",
            " Title: [Kid Madden, Boston Beaneaters, baseball card portrait] \n",
            " Other Title: ['Old Judge (N172)'] \n",
            " Contributor: ['goodwin & co.'] \n",
            " Date: 1887-01-01 \n",
            "\n"
          ]
        },
        {
          "output_type": "display_data",
          "data": {
            "text/html": [
              "<img src=\"https://tile.loc.gov/storage-services/service/pnp/bbc/0000/0080/0082f_150px.jpg#h=150&w=84\"/>"
            ],
            "text/plain": [
              "<IPython.core.display.Image object>"
            ]
          },
          "metadata": {}
        },
        {
          "output_type": "stream",
          "name": "stdout",
          "text": [
            "\n",
            " \n",
            "\n",
            "Index: 75 \n",
            " Title: [Jimmy McAleer, Cleveland Spiders, baseball card portrait] \n",
            " Other Title: ['Old Judge (N172)'] \n",
            " Contributor: ['goodwin & co.'] \n",
            " Date: 1887-01-01 \n",
            "\n"
          ]
        },
        {
          "output_type": "display_data",
          "data": {
            "text/html": [
              "<img src=\"https://tile.loc.gov/storage-services/service/pnp/bbc/0100/0170/0172f_150px.jpg#h=150&w=85\"/>"
            ],
            "text/plain": [
              "<IPython.core.display.Image object>"
            ]
          },
          "metadata": {}
        },
        {
          "output_type": "stream",
          "name": "stdout",
          "text": [
            "\n",
            " \n",
            "\n",
            "Index: 76 \n",
            " Title: [John McGlone, Cleveland Spiders, baseball card portrait] \n",
            " Other Title: ['Old Judge (N172)'] \n",
            " Contributor: ['goodwin & co.'] \n",
            " Date: 1887-01-01 \n",
            "\n"
          ]
        },
        {
          "output_type": "display_data",
          "data": {
            "text/html": [
              "<img src=\"https://tile.loc.gov/storage-services/service/pnp/bbc/0100/0170/0173f_150px.jpg#h=150&w=80\"/>"
            ],
            "text/plain": [
              "<IPython.core.display.Image object>"
            ]
          },
          "metadata": {}
        },
        {
          "output_type": "stream",
          "name": "stdout",
          "text": [
            "\n",
            " \n",
            "\n",
            "Index: 77 \n",
            " Title: [Paul Radford, Cleveland Spiders, baseball card portrait] \n",
            " Other Title: ['Old Judge (N172)'] \n",
            " Contributor: ['goodwin & co.'] \n",
            " Date: 1887-01-01 \n",
            "\n"
          ]
        },
        {
          "output_type": "display_data",
          "data": {
            "text/html": [
              "<img src=\"https://tile.loc.gov/storage-services/service/pnp/bbc/0100/0170/0174f_150px.jpg#h=150&w=84\"/>"
            ],
            "text/plain": [
              "<IPython.core.display.Image object>"
            ]
          },
          "metadata": {}
        },
        {
          "output_type": "stream",
          "name": "stdout",
          "text": [
            "\n",
            " \n",
            "\n",
            "Index: 78 \n",
            " Title: [Sy Sutcliffe, Cleveland Spiders, baseball card portrait] \n",
            " Other Title: ['Old Judge (N172)'] \n",
            " Contributor: ['goodwin & co.'] \n",
            " Date: 1887-01-01 \n",
            "\n"
          ]
        },
        {
          "output_type": "display_data",
          "data": {
            "text/html": [
              "<img src=\"https://tile.loc.gov/storage-services/service/pnp/bbc/0100/0170/0175f_150px.jpg#h=150&w=79\"/>"
            ],
            "text/plain": [
              "<IPython.core.display.Image object>"
            ]
          },
          "metadata": {}
        },
        {
          "output_type": "stream",
          "name": "stdout",
          "text": [
            "\n",
            " \n",
            "\n",
            "Index: 79 \n",
            " Title: [Patsy Tebeau, Cleveland Spiders, baseball card portrait] \n",
            " Other Title: ['Old Judge (N172)'] \n",
            " Contributor: ['goodwin & co.'] \n",
            " Date: 1887-01-01 \n",
            "\n"
          ]
        },
        {
          "output_type": "display_data",
          "data": {
            "text/html": [
              "<img src=\"https://tile.loc.gov/storage-services/service/pnp/bbc/0100/0170/0176f_150px.jpg#h=150&w=78\"/>"
            ],
            "text/plain": [
              "<IPython.core.display.Image object>"
            ]
          },
          "metadata": {}
        },
        {
          "output_type": "stream",
          "name": "stdout",
          "text": [
            "\n",
            " \n",
            "\n",
            "Index: 80 \n",
            " Title: [Chief Zimmer, Cleveland Spiders, baseball card portrait] \n",
            " Other Title: ['Old Judge (N172)'] \n",
            " Contributor: ['goodwin & co.'] \n",
            " Date: 1887-01-01 \n",
            "\n"
          ]
        },
        {
          "output_type": "display_data",
          "data": {
            "text/html": [
              "<img src=\"https://tile.loc.gov/storage-services/service/pnp/bbc/0100/0170/0177f_150px.jpg#h=150&w=77\"/>"
            ],
            "text/plain": [
              "<IPython.core.display.Image object>"
            ]
          },
          "metadata": {}
        },
        {
          "output_type": "stream",
          "name": "stdout",
          "text": [
            "\n",
            " \n",
            "\n",
            "Index: 81 \n",
            " Title: [Lady Baldwin, Detroit Wolverines, baseball card portrait] \n",
            " Other Title: ['Old Judge (N172)'] \n",
            " Contributor: ['goodwin & co.'] \n",
            " Date: 1887-01-01 \n",
            "\n"
          ]
        },
        {
          "output_type": "display_data",
          "data": {
            "text/html": [
              "<img src=\"https://tile.loc.gov/storage-services/service/pnp/bbc/0100/0170/0178f_150px.jpg#h=150&w=84\"/>"
            ],
            "text/plain": [
              "<IPython.core.display.Image object>"
            ]
          },
          "metadata": {}
        },
        {
          "output_type": "stream",
          "name": "stdout",
          "text": [
            "\n",
            " \n",
            "\n",
            "Index: 82 \n",
            " Title: [Dan Brouthers, Detroit Wolverines, baseball card portrait] \n",
            " Other Title: ['Old Judge (N172)'] \n",
            " Contributor: ['goodwin & co.'] \n",
            " Date: 1887-01-01 \n",
            "\n"
          ]
        },
        {
          "output_type": "display_data",
          "data": {
            "text/html": [
              "<img src=\"https://tile.loc.gov/storage-services/service/pnp/bbc/0100/0170/0179f_150px.jpg#h=150&w=81\"/>"
            ],
            "text/plain": [
              "<IPython.core.display.Image object>"
            ]
          },
          "metadata": {}
        },
        {
          "output_type": "stream",
          "name": "stdout",
          "text": [
            "\n",
            " \n",
            "\n",
            "Index: 83 \n",
            " Title: [Dan Brouthers, Detroit Wolverines, baseball card portrait] \n",
            " Other Title: ['Old Judge (N172)'] \n",
            " Contributor: ['goodwin & co.'] \n",
            " Date: 1887-01-01 \n",
            "\n"
          ]
        },
        {
          "output_type": "display_data",
          "data": {
            "text/html": [
              "<img src=\"https://tile.loc.gov/storage-services/service/pnp/bbc/0100/0180/0180f_150px.jpg#h=150&w=84\"/>"
            ],
            "text/plain": [
              "<IPython.core.display.Image object>"
            ]
          },
          "metadata": {}
        },
        {
          "output_type": "stream",
          "name": "stdout",
          "text": [
            "\n",
            " \n",
            "\n",
            "Index: 84 \n",
            " Title: [Dan Brouthers, Detroit Wolverines, baseball card portrait] \n",
            " Other Title: ['Old Judge (N172)'] \n",
            " Contributor: ['goodwin & co.'] \n",
            " Date: 1887-01-01 \n",
            "\n"
          ]
        },
        {
          "output_type": "display_data",
          "data": {
            "text/html": [
              "<img src=\"https://tile.loc.gov/storage-services/service/pnp/bbc/0100/0180/0181f_150px.jpg#h=150&w=85\"/>"
            ],
            "text/plain": [
              "<IPython.core.display.Image object>"
            ]
          },
          "metadata": {}
        },
        {
          "output_type": "stream",
          "name": "stdout",
          "text": [
            "\n",
            " \n",
            "\n",
            "Index: 85 \n",
            " Title: [Honest John Morrill, Boston Beaneaters, baseball card portrait] \n",
            " Other Title: ['Old Judge (N172)'] \n",
            " Contributor: ['goodwin & co.'] \n",
            " Date: 1887-01-01 \n",
            "\n"
          ]
        },
        {
          "output_type": "display_data",
          "data": {
            "text/html": [
              "<img src=\"https://tile.loc.gov/storage-services/service/pnp/bbc/0000/0080/0083f_150px.jpg#h=150&w=86\"/>"
            ],
            "text/plain": [
              "<IPython.core.display.Image object>"
            ]
          },
          "metadata": {}
        },
        {
          "output_type": "stream",
          "name": "stdout",
          "text": [
            "\n",
            " \n",
            "\n",
            "Index: 86 \n",
            " Title: [Count Campau, Detroit Wolverines, baseball card portrait] \n",
            " Other Title: ['Old Judge (N172)'] \n",
            " Contributor: ['goodwin & co.'] \n",
            " Date: 1887-01-01 \n",
            "\n"
          ]
        },
        {
          "output_type": "display_data",
          "data": {
            "text/html": [
              "<img src=\"https://tile.loc.gov/storage-services/service/pnp/bbc/0100/0180/0182f_150px.jpg#h=150&w=82\"/>"
            ],
            "text/plain": [
              "<IPython.core.display.Image object>"
            ]
          },
          "metadata": {}
        },
        {
          "output_type": "stream",
          "name": "stdout",
          "text": [
            "\n",
            " \n",
            "\n",
            "Index: 87 \n",
            " Title: [Pete Conway, Detroit Wolverines, baseball card portrait] \n",
            " Other Title: ['Old Judge (N172)'] \n",
            " Contributor: ['goodwin & co.'] \n",
            " Date: 1887-01-01 \n",
            "\n"
          ]
        },
        {
          "output_type": "display_data",
          "data": {
            "text/html": [
              "<img src=\"https://tile.loc.gov/storage-services/service/pnp/bbc/0100/0180/0183f_150px.jpg#h=150&w=82\"/>"
            ],
            "text/plain": [
              "<IPython.core.display.Image object>"
            ]
          },
          "metadata": {}
        },
        {
          "output_type": "stream",
          "name": "stdout",
          "text": [
            "\n",
            " \n",
            "\n",
            "Index: 88 \n",
            " Title: [Pete Conway, Detroit Wolverines, baseball card portrait] \n",
            " Other Title: ['Old Judge (N172)'] \n",
            " Contributor: ['goodwin & co.'] \n",
            " Date: 1887-01-01 \n",
            "\n"
          ]
        },
        {
          "output_type": "display_data",
          "data": {
            "text/html": [
              "<img src=\"https://tile.loc.gov/storage-services/service/pnp/bbc/0100/0180/0184f_150px.jpg#h=150&w=92\"/>"
            ],
            "text/plain": [
              "<IPython.core.display.Image object>"
            ]
          },
          "metadata": {}
        },
        {
          "output_type": "stream",
          "name": "stdout",
          "text": [
            "\n",
            " \n",
            "\n",
            "Index: 89 \n",
            " Title: [Charlie Ganzel, Detroit Wolverines, baseball card portrait] \n",
            " Other Title: ['Old Judge (N172)'] \n",
            " Contributor: ['goodwin & co.'] \n",
            " Date: 1887-01-01 \n",
            "\n"
          ]
        },
        {
          "output_type": "display_data",
          "data": {
            "text/html": [
              "<img src=\"https://tile.loc.gov/storage-services/service/pnp/bbc/0100/0180/0185f_150px.jpg#h=150&w=82\"/>"
            ],
            "text/plain": [
              "<IPython.core.display.Image object>"
            ]
          },
          "metadata": {}
        },
        {
          "output_type": "stream",
          "name": "stdout",
          "text": [
            "\n",
            " \n",
            "\n",
            "Index: 90 \n",
            " Title: [Charlie Ganzel, Detroit Wolverines, baseball card portrait] \n",
            " Other Title: ['Old Judge (N172)'] \n",
            " Contributor: ['goodwin & co.'] \n",
            " Date: 1887-01-01 \n",
            "\n"
          ]
        },
        {
          "output_type": "display_data",
          "data": {
            "text/html": [
              "<img src=\"https://tile.loc.gov/storage-services/service/pnp/bbc/0100/0180/0186f_150px.jpg#h=150&w=86\"/>"
            ],
            "text/plain": [
              "<IPython.core.display.Image object>"
            ]
          },
          "metadata": {}
        },
        {
          "output_type": "stream",
          "name": "stdout",
          "text": [
            "\n",
            " \n",
            "\n",
            "Index: 91 \n",
            " Title: [Ned Hanlon, Detroit Wolverines, baseball card portrait] \n",
            " Other Title: ['Old Judge (N172)'] \n",
            " Contributor: ['goodwin & co.'] \n",
            " Date: 1887-01-01 \n",
            "\n"
          ]
        },
        {
          "output_type": "display_data",
          "data": {
            "text/html": [
              "<img src=\"https://tile.loc.gov/storage-services/service/pnp/bbc/0100/0180/0188f_150px.jpg#h=150&w=83\"/>"
            ],
            "text/plain": [
              "<IPython.core.display.Image object>"
            ]
          },
          "metadata": {}
        },
        {
          "output_type": "stream",
          "name": "stdout",
          "text": [
            "\n",
            " \n",
            "\n",
            "Index: 92 \n",
            " Title: [Ned Hanlon, Detroit Wolverines, baseball card portrait] \n",
            " Other Title: ['Old Judge (N172)'] \n",
            " Contributor: ['goodwin & co.'] \n",
            " Date: 1887-01-01 \n",
            "\n"
          ]
        },
        {
          "output_type": "display_data",
          "data": {
            "text/html": [
              "<img src=\"https://tile.loc.gov/storage-services/service/pnp/bbc/0100/0180/0189f_150px.jpg#h=150&w=82\"/>"
            ],
            "text/plain": [
              "<IPython.core.display.Image object>"
            ]
          },
          "metadata": {}
        },
        {
          "output_type": "stream",
          "name": "stdout",
          "text": [
            "\n",
            " \n",
            "\n",
            "Index: 93 \n",
            " Title: [Ned Hanlon, Detroit Wolverines, baseball card portrait] \n",
            " Other Title: ['Old Judge (N172)'] \n",
            " Contributor: ['goodwin & co.'] \n",
            " Date: 1887-01-01 \n",
            "\n"
          ]
        },
        {
          "output_type": "display_data",
          "data": {
            "text/html": [
              "<img src=\"https://tile.loc.gov/storage-services/service/pnp/bbc/0100/0190/0190f_150px.jpg#h=150&w=84\"/>"
            ],
            "text/plain": [
              "<IPython.core.display.Image object>"
            ]
          },
          "metadata": {}
        },
        {
          "output_type": "stream",
          "name": "stdout",
          "text": [
            "\n",
            " \n",
            "\n",
            "Index: 94 \n",
            " Title: [Hardy Richardson, Detroit Wolverines, baseball card portrait] \n",
            " Other Title: ['Old Judge (N172)'] \n",
            " Contributor: ['goodwin & co.'] \n",
            " Date: 1887-01-01 \n",
            "\n"
          ]
        },
        {
          "output_type": "display_data",
          "data": {
            "text/html": [
              "<img src=\"https://tile.loc.gov/storage-services/service/pnp/bbc/0100/0190/0191f_150px.jpg#h=150&w=88\"/>"
            ],
            "text/plain": [
              "<IPython.core.display.Image object>"
            ]
          },
          "metadata": {}
        },
        {
          "output_type": "stream",
          "name": "stdout",
          "text": [
            "\n",
            " \n",
            "\n",
            "Index: 95 \n",
            " Title: [Honest John Morrill, Boston Beaneaters, baseball card portrait] \n",
            " Other Title: ['Old Judge (N172)'] \n",
            " Contributor: ['goodwin & co.'] \n",
            " Date: 1887-01-01 \n",
            "\n"
          ]
        },
        {
          "output_type": "display_data",
          "data": {
            "text/html": [
              "<img src=\"https://tile.loc.gov/storage-services/service/pnp/bbc/0000/0080/0084f_150px.jpg#h=150&w=84\"/>"
            ],
            "text/plain": [
              "<IPython.core.display.Image object>"
            ]
          },
          "metadata": {}
        },
        {
          "output_type": "stream",
          "name": "stdout",
          "text": [
            "\n",
            " \n",
            "\n",
            "Index: 96 \n",
            " Title: [Hardy Richardson, Detroit Wolverines, baseball card portrait] \n",
            " Other Title: ['Old Judge (N172)'] \n",
            " Contributor: ['goodwin & co.'] \n",
            " Date: 1887-01-01 \n",
            "\n"
          ]
        },
        {
          "output_type": "display_data",
          "data": {
            "text/html": [
              "<img src=\"https://tile.loc.gov/storage-services/service/pnp/bbc/0100/0190/0192f_150px.jpg#h=150&w=88\"/>"
            ],
            "text/plain": [
              "<IPython.core.display.Image object>"
            ]
          },
          "metadata": {}
        },
        {
          "output_type": "stream",
          "name": "stdout",
          "text": [
            "\n",
            " \n",
            "\n",
            "Index: 97 \n",
            " Title: [Jack Rowe, Detroit Wolverines, baseball card portrait] \n",
            " Other Title: ['Old Judge (N172)'] \n",
            " Contributor: ['goodwin & co.'] \n",
            " Date: 1887-01-01 \n",
            "\n"
          ]
        },
        {
          "output_type": "display_data",
          "data": {
            "text/html": [
              "<img src=\"https://tile.loc.gov/storage-services/service/pnp/bbc/0100/0190/0193f_150px.jpg#h=150&w=82\"/>"
            ],
            "text/plain": [
              "<IPython.core.display.Image object>"
            ]
          },
          "metadata": {}
        },
        {
          "output_type": "stream",
          "name": "stdout",
          "text": [
            "\n",
            " \n",
            "\n",
            "Index: 98 \n",
            " Title: [Sam Thompson, Detroit Wolverines, baseball card portrait] \n",
            " Other Title: ['Old Judge (N172)'] \n",
            " Contributor: ['goodwin & co.'] \n",
            " Date: 1887-01-01 \n",
            "\n"
          ]
        },
        {
          "output_type": "display_data",
          "data": {
            "text/html": [
              "<img src=\"https://tile.loc.gov/storage-services/service/pnp/bbc/0100/0190/0194f_150px.jpg#h=150&w=83\"/>"
            ],
            "text/plain": [
              "<IPython.core.display.Image object>"
            ]
          },
          "metadata": {}
        },
        {
          "output_type": "stream",
          "name": "stdout",
          "text": [
            "\n",
            " \n",
            "\n",
            "Index: 99 \n",
            " Title: [Sam Thompson, Detroit Wolverines, baseball card portrait] \n",
            " Other Title: ['Old Judge (N172)'] \n",
            " Contributor: ['goodwin & co.'] \n",
            " Date: 1887-01-01 \n",
            "\n"
          ]
        },
        {
          "output_type": "display_data",
          "data": {
            "text/html": [
              "<img src=\"https://tile.loc.gov/storage-services/service/pnp/bbc/0100/0190/0195f_150px.jpg#h=150&w=82\"/>"
            ],
            "text/plain": [
              "<IPython.core.display.Image object>"
            ]
          },
          "metadata": {}
        },
        {
          "output_type": "stream",
          "name": "stdout",
          "text": [
            "\n",
            " \n",
            "\n",
            "Index: 100 \n",
            " Title: [Larry Twitchell, Detroit Wolverines, baseball card portrait] \n",
            " Other Title: ['Old Judge (N172)'] \n",
            " Contributor: ['goodwin & co.'] \n",
            " Date: 1887-01-01 \n",
            "\n"
          ]
        },
        {
          "output_type": "display_data",
          "data": {
            "text/html": [
              "<img src=\"https://tile.loc.gov/storage-services/service/pnp/bbc/0100/0190/0196f_150px.jpg#h=150&w=89\"/>"
            ],
            "text/plain": [
              "<IPython.core.display.Image object>"
            ]
          },
          "metadata": {}
        },
        {
          "output_type": "stream",
          "name": "stdout",
          "text": [
            "\n",
            " \n",
            "\n",
            "Index: 101 \n",
            " Title: [Larry Twitchell, Detroit Wolverines, baseball card portrait] \n",
            " Other Title: ['Old Judge (N172)'] \n",
            " Contributor: ['goodwin & co.'] \n",
            " Date: 1887-01-01 \n",
            "\n"
          ]
        },
        {
          "output_type": "display_data",
          "data": {
            "text/html": [
              "<img src=\"https://tile.loc.gov/storage-services/service/pnp/bbc/0100/0190/0197f_150px.jpg#h=150&w=85\"/>"
            ],
            "text/plain": [
              "<IPython.core.display.Image object>"
            ]
          },
          "metadata": {}
        },
        {
          "output_type": "stream",
          "name": "stdout",
          "text": [
            "\n",
            " \n",
            "\n",
            "Index: 102 \n",
            " Title: [Stump Weidman, Detroit Wolverines, baseball card portrait] \n",
            " Other Title: ['Old Judge (N172)'] \n",
            " Contributor: ['goodwin & co.'] \n",
            " Date: 1887-01-01 \n",
            "\n"
          ]
        },
        {
          "output_type": "display_data",
          "data": {
            "text/html": [
              "<img src=\"https://tile.loc.gov/storage-services/service/pnp/bbc/0100/0190/0198f_150px.jpg#h=150&w=86\"/>"
            ],
            "text/plain": [
              "<IPython.core.display.Image object>"
            ]
          },
          "metadata": {}
        },
        {
          "output_type": "stream",
          "name": "stdout",
          "text": [
            "\n",
            " \n",
            "\n",
            "Index: 103 \n",
            " Title: [Stump Weidman, Detroit Wolverines, baseball card portrait] \n",
            " Other Title: ['Old Judge (N172)'] \n",
            " Contributor: ['goodwin & co.'] \n",
            " Date: 1887-01-01 \n",
            "\n"
          ]
        },
        {
          "output_type": "display_data",
          "data": {
            "text/html": [
              "<img src=\"https://tile.loc.gov/storage-services/service/pnp/bbc/0100/0190/0199f_150px.jpg#h=150&w=85\"/>"
            ],
            "text/plain": [
              "<IPython.core.display.Image object>"
            ]
          },
          "metadata": {}
        },
        {
          "output_type": "stream",
          "name": "stdout",
          "text": [
            "\n",
            " \n",
            "\n",
            "Index: 104 \n",
            " Title: [Deacon White, Detroit Wolverines, baseball card portrait] \n",
            " Other Title: ['Old Judge (N172)'] \n",
            " Contributor: ['goodwin & co.'] \n",
            " Date: 1887-01-01 \n",
            "\n"
          ]
        },
        {
          "output_type": "display_data",
          "data": {
            "text/html": [
              "<img src=\"https://tile.loc.gov/storage-services/service/pnp/bbc/0200/0200/0200f_150px.jpg#h=150&w=87\"/>"
            ],
            "text/plain": [
              "<IPython.core.display.Image object>"
            ]
          },
          "metadata": {}
        },
        {
          "output_type": "stream",
          "name": "stdout",
          "text": [
            "\n",
            " \n",
            "\n",
            "Index: 105 \n",
            " Title: [Tug Arundel, Indianapolis Hoosiers, baseball card portrait] \n",
            " Other Title: ['Old Judge (N172)'] \n",
            " Contributor: ['goodwin & co.'] \n",
            " Date: 1887-01-01 \n",
            "\n"
          ]
        },
        {
          "output_type": "display_data",
          "data": {
            "text/html": [
              "<img src=\"https://tile.loc.gov/storage-services/service/pnp/bbc/0200/0200/0201f_150px.jpg#h=150&w=84\"/>"
            ],
            "text/plain": [
              "<IPython.core.display.Image object>"
            ]
          },
          "metadata": {}
        },
        {
          "output_type": "stream",
          "name": "stdout",
          "text": [
            "\n",
            " \n",
            "\n",
            "Index: 106 \n",
            " Title: [Billy Nash, Boston Beaneaters, baseball card portrait] \n",
            " Other Title: ['Old Judge (N172)'] \n",
            " Contributor: ['goodwin & co.'] \n",
            " Date: 1887-01-01 \n",
            "\n"
          ]
        },
        {
          "output_type": "display_data",
          "data": {
            "text/html": [
              "<img src=\"https://tile.loc.gov/storage-services/service/pnp/bbc/0000/0080/0085f_150px.jpg#h=150&w=82\"/>"
            ],
            "text/plain": [
              "<IPython.core.display.Image object>"
            ]
          },
          "metadata": {}
        },
        {
          "output_type": "stream",
          "name": "stdout",
          "text": [
            "\n",
            " \n",
            "\n",
            "Index: 107 \n",
            " Title: [Charley Bassett, Indianapolis Hoosiers, baseball card portrait] \n",
            " Other Title: ['Old Judge (N172)'] \n",
            " Contributor: ['goodwin & co.'] \n",
            " Date: 1887-01-01 \n",
            "\n"
          ]
        },
        {
          "output_type": "display_data",
          "data": {
            "text/html": [
              "<img src=\"https://tile.loc.gov/storage-services/service/pnp/bbc/0200/0200/0202f_150px.jpg#h=150&w=86\"/>"
            ],
            "text/plain": [
              "<IPython.core.display.Image object>"
            ]
          },
          "metadata": {}
        },
        {
          "output_type": "stream",
          "name": "stdout",
          "text": [
            "\n",
            " \n",
            "\n",
            "Index: 108 \n",
            " Title: [Henry Boyle, Indianapolis Hoosiers, baseball card portrait] \n",
            " Other Title: ['Old Judge (N172)'] \n",
            " Contributor: ['goodwin & co.'] \n",
            " Date: 1887-01-01 \n",
            "\n"
          ]
        },
        {
          "output_type": "display_data",
          "data": {
            "text/html": [
              "<img src=\"https://tile.loc.gov/storage-services/service/pnp/bbc/0200/0200/0203f_150px.jpg#h=150&w=83\"/>"
            ],
            "text/plain": [
              "<IPython.core.display.Image object>"
            ]
          },
          "metadata": {}
        },
        {
          "output_type": "stream",
          "name": "stdout",
          "text": [
            "\n",
            " \n",
            "\n",
            "Index: 109 \n",
            " Title: [Dick Buckley, Indianapolis Hoosiers, baseball card portrait] \n",
            " Other Title: ['Old Judge (N172)'] \n",
            " Contributor: ['goodwin & co.'] \n",
            " Date: 1887-01-01 \n",
            "\n"
          ]
        },
        {
          "output_type": "display_data",
          "data": {
            "text/html": [
              "<img src=\"https://tile.loc.gov/storage-services/service/pnp/bbc/0200/0200/0204f_150px.jpg#h=150&w=85\"/>"
            ],
            "text/plain": [
              "<IPython.core.display.Image object>"
            ]
          },
          "metadata": {}
        },
        {
          "output_type": "stream",
          "name": "stdout",
          "text": [
            "\n",
            " \n",
            "\n",
            "Index: 110 \n",
            " Title: [Watch Burnham, Indianapolis Hoosiers, baseball card portrait] \n",
            " Other Title: ['Old Judge (N172)'] \n",
            " Contributor: ['goodwin & co.'] \n",
            " Date: 1887-01-01 \n",
            "\n"
          ]
        },
        {
          "output_type": "display_data",
          "data": {
            "text/html": [
              "<img src=\"https://tile.loc.gov/storage-services/service/pnp/bbc/0200/0200/0205f_150px.jpg#h=150&w=86\"/>"
            ],
            "text/plain": [
              "<IPython.core.display.Image object>"
            ]
          },
          "metadata": {}
        },
        {
          "output_type": "stream",
          "name": "stdout",
          "text": [
            "\n",
            " \n",
            "\n",
            "Index: 111 \n",
            " Title: [John Cahill, Indianapolis Hoosiers, baseball card portrait] \n",
            " Other Title: ['Old Judge (N172)'] \n",
            " Contributor: ['goodwin & co.'] \n",
            " Date: 1887-01-01 \n",
            "\n"
          ]
        },
        {
          "output_type": "display_data",
          "data": {
            "text/html": [
              "<img src=\"https://tile.loc.gov/storage-services/service/pnp/bbc/0200/0200/0206f_150px.jpg#h=150&w=85\"/>"
            ],
            "text/plain": [
              "<IPython.core.display.Image object>"
            ]
          },
          "metadata": {}
        },
        {
          "output_type": "stream",
          "name": "stdout",
          "text": [
            "\n",
            " \n",
            "\n",
            "Index: 112 \n",
            " Title: [Larry Corcoran, Indianapolis Hoosiers, baseball card portrait] \n",
            " Other Title: ['Old Judge (N172)'] \n",
            " Contributor: ['goodwin & co.'] \n",
            " Date: 1887-01-01 \n",
            "\n"
          ]
        },
        {
          "output_type": "display_data",
          "data": {
            "text/html": [
              "<img src=\"https://tile.loc.gov/storage-services/service/pnp/bbc/0200/0200/0207f_150px.jpg#h=150&w=84\"/>"
            ],
            "text/plain": [
              "<IPython.core.display.Image object>"
            ]
          },
          "metadata": {}
        },
        {
          "output_type": "stream",
          "name": "stdout",
          "text": [
            "\n",
            " \n",
            "\n",
            "Index: 113 \n",
            " Title: [Jerry Denny, Indianapolis Hoosiers, baseball card portrait] \n",
            " Other Title: ['Old Judge (N172)'] \n",
            " Contributor: ['goodwin & co.'] \n",
            " Date: 1887-01-01 \n",
            "\n"
          ]
        },
        {
          "output_type": "display_data",
          "data": {
            "text/html": [
              "<img src=\"https://tile.loc.gov/storage-services/service/pnp/bbc/0200/0200/0208f_150px.jpg#h=150&w=87\"/>"
            ],
            "text/plain": [
              "<IPython.core.display.Image object>"
            ]
          },
          "metadata": {}
        },
        {
          "output_type": "stream",
          "name": "stdout",
          "text": [
            "\n",
            " \n",
            "\n",
            "Index: 114 \n",
            " Title: [Jerry Denny, Indianapolis Hoosiers, baseball card portrait] \n",
            " Other Title: ['Old Judge (N172)'] \n",
            " Contributor: ['goodwin & co.'] \n",
            " Date: 1887-01-01 \n",
            "\n"
          ]
        },
        {
          "output_type": "display_data",
          "data": {
            "text/html": [
              "<img src=\"https://tile.loc.gov/storage-services/service/pnp/bbc/0200/0200/0209f_150px.jpg#h=150&w=81\"/>"
            ],
            "text/plain": [
              "<IPython.core.display.Image object>"
            ]
          },
          "metadata": {}
        },
        {
          "output_type": "stream",
          "name": "stdout",
          "text": [
            "\n",
            " \n",
            "\n",
            "Index: 115 \n",
            " Title: [Dude Esterbrook, Indianapolis Hoosiers, baseball card portrait] \n",
            " Other Title: ['Old Judge (N172)'] \n",
            " Contributor: ['goodwin & co.'] \n",
            " Date: 1887-01-01 \n",
            "\n"
          ]
        },
        {
          "output_type": "display_data",
          "data": {
            "text/html": [
              "<img src=\"https://tile.loc.gov/storage-services/service/pnp/bbc/0200/0210/0210f_150px.jpg#h=150&w=83\"/>"
            ],
            "text/plain": [
              "<IPython.core.display.Image object>"
            ]
          },
          "metadata": {}
        },
        {
          "output_type": "stream",
          "name": "stdout",
          "text": [
            "\n",
            " \n",
            "\n",
            "Index: 116 \n",
            " Title: [Dude Esterbrook, Indianapolis Hoosiers, baseball card portrait] \n",
            " Other Title: ['Old Judge (N172)'] \n",
            " Contributor: ['goodwin & co.'] \n",
            " Date: 1887-01-01 \n",
            "\n"
          ]
        },
        {
          "output_type": "display_data",
          "data": {
            "text/html": [
              "<img src=\"https://tile.loc.gov/storage-services/service/pnp/bbc/0200/0210/0211f_150px.jpg#h=150&w=94\"/>"
            ],
            "text/plain": [
              "<IPython.core.display.Image object>"
            ]
          },
          "metadata": {}
        },
        {
          "output_type": "stream",
          "name": "stdout",
          "text": [
            "\n",
            " \n",
            "\n",
            "Index: 117 \n",
            " Title: [Billy Nash, Boston Beaneaters, baseball card portrait] \n",
            " Other Title: ['Old Judge (N172)'] \n",
            " Contributor: ['goodwin & co.'] \n",
            " Date: 1887-01-01 \n",
            "\n"
          ]
        },
        {
          "output_type": "display_data",
          "data": {
            "text/html": [
              "<img src=\"https://tile.loc.gov/storage-services/service/pnp/bbc/0000/0080/0086f_150px.jpg#h=150&w=88\"/>"
            ],
            "text/plain": [
              "<IPython.core.display.Image object>"
            ]
          },
          "metadata": {}
        },
        {
          "output_type": "stream",
          "name": "stdout",
          "text": [
            "\n",
            " \n",
            "\n",
            "Index: 118 \n",
            " Title: [Dude Esterbrook, Indianapolis Hoosiers, baseball card portrait] \n",
            " Other Title: ['Old Judge (N172)'] \n",
            " Contributor: ['goodwin & co.'] \n",
            " Date: 1887-01-01 \n",
            "\n"
          ]
        },
        {
          "output_type": "display_data",
          "data": {
            "text/html": [
              "<img src=\"https://tile.loc.gov/storage-services/service/pnp/bbc/0200/0210/0212f_150px.jpg#h=150&w=82\"/>"
            ],
            "text/plain": [
              "<IPython.core.display.Image object>"
            ]
          },
          "metadata": {}
        },
        {
          "output_type": "stream",
          "name": "stdout",
          "text": [
            "\n",
            " \n",
            "\n",
            "Index: 119 \n",
            " Title: [Charlie Getzien, Indianapolis Hoosiers, baseball card portrait] \n",
            " Other Title: ['Old Judge (N172)'] \n",
            " Contributor: ['goodwin & co.'] \n",
            " Date: 1887-01-01 \n",
            "\n"
          ]
        },
        {
          "output_type": "display_data",
          "data": {
            "text/html": [
              "<img src=\"https://tile.loc.gov/storage-services/service/pnp/bbc/0200/0210/0213f_150px.jpg#h=150&w=84\"/>"
            ],
            "text/plain": [
              "<IPython.core.display.Image object>"
            ]
          },
          "metadata": {}
        },
        {
          "output_type": "stream",
          "name": "stdout",
          "text": [
            "\n",
            " \n",
            "\n",
            "Index: 120 \n",
            " Title: [Jack Glasscock, Indianapolis Hoosiers, baseball card portrait] \n",
            " Other Title: ['Old Judge (N172)'] \n",
            " Contributor: ['goodwin & co.'] \n",
            " Date: 1887-01-01 \n",
            "\n"
          ]
        },
        {
          "output_type": "display_data",
          "data": {
            "text/html": [
              "<img src=\"https://tile.loc.gov/storage-services/service/pnp/bbc/0200/0210/0214f_150px.jpg#h=150&w=82\"/>"
            ],
            "text/plain": [
              "<IPython.core.display.Image object>"
            ]
          },
          "metadata": {}
        },
        {
          "output_type": "stream",
          "name": "stdout",
          "text": [
            "\n",
            " \n",
            "\n",
            "Index: 121 \n",
            " Title: [Jack Glasscock, Indianapolis Hoosiers, baseball card portrait] \n",
            " Other Title: ['Old Judge (N172)'] \n",
            " Contributor: ['goodwin & co.'] \n",
            " Date: 1887-01-01 \n",
            "\n"
          ]
        },
        {
          "output_type": "display_data",
          "data": {
            "text/html": [
              "<img src=\"https://tile.loc.gov/storage-services/service/pnp/bbc/0200/0210/0215f_150px.jpg#h=150&w=78\"/>"
            ],
            "text/plain": [
              "<IPython.core.display.Image object>"
            ]
          },
          "metadata": {}
        },
        {
          "output_type": "stream",
          "name": "stdout",
          "text": [
            "\n",
            " \n",
            "\n",
            "Index: 122 \n",
            " Title: [Jack Glasscock, Indianapolis Hoosiers, baseball card portrait] \n",
            " Other Title: ['Old Judge (N172)'] \n",
            " Contributor: ['goodwin & co.'] \n",
            " Date: 1887-01-01 \n",
            "\n"
          ]
        },
        {
          "output_type": "display_data",
          "data": {
            "text/html": [
              "<img src=\"https://tile.loc.gov/storage-services/service/pnp/bbc/0200/0210/0216f_150px.jpg#h=150&w=71\"/>"
            ],
            "text/plain": [
              "<IPython.core.display.Image object>"
            ]
          },
          "metadata": {}
        },
        {
          "output_type": "stream",
          "name": "stdout",
          "text": [
            "\n",
            " \n",
            "\n",
            "Index: 123 \n",
            " Title: [Jack Glasscock, Indianapolis Hoosiers, baseball card portrait] \n",
            " Other Title: ['Old Judge (N172)'] \n",
            " Contributor: ['goodwin & co.'] \n",
            " Date: 1887-01-01 \n",
            "\n"
          ]
        },
        {
          "output_type": "display_data",
          "data": {
            "text/html": [
              "<img src=\"https://tile.loc.gov/storage-services/service/pnp/bbc/0200/0210/0217f_150px.jpg#h=150&w=70\"/>"
            ],
            "text/plain": [
              "<IPython.core.display.Image object>"
            ]
          },
          "metadata": {}
        },
        {
          "output_type": "stream",
          "name": "stdout",
          "text": [
            "\n",
            " \n",
            "\n",
            "Index: 124 \n",
            " Title: [Egyptian Healey, Indianapolis Hoosiers, baseball card portrait] \n",
            " Other Title: ['Old Judge (N172)'] \n",
            " Contributor: ['goodwin & co.'] \n",
            " Date: 1887-01-01 \n",
            "\n"
          ]
        },
        {
          "output_type": "display_data",
          "data": {
            "text/html": [
              "<img src=\"https://tile.loc.gov/storage-services/service/pnp/bbc/0200/0210/0218f_150px.jpg#h=150&w=81\"/>"
            ],
            "text/plain": [
              "<IPython.core.display.Image object>"
            ]
          },
          "metadata": {}
        },
        {
          "output_type": "stream",
          "name": "stdout",
          "text": [
            "\n",
            " \n",
            "\n",
            "Index: 125 \n",
            " Title: [Egyptian Healey, Indianapolis Hoosiers, baseball card portrait] \n",
            " Other Title: ['Old Judge (N172)'] \n",
            " Contributor: ['goodwin & co.'] \n",
            " Date: 1887-01-01 \n",
            "\n"
          ]
        },
        {
          "output_type": "display_data",
          "data": {
            "text/html": [
              "<img src=\"https://tile.loc.gov/storage-services/service/pnp/bbc/0200/0210/0219f_150px.jpg#h=150&w=82\"/>"
            ],
            "text/plain": [
              "<IPython.core.display.Image object>"
            ]
          },
          "metadata": {}
        },
        {
          "output_type": "stream",
          "name": "stdout",
          "text": [
            "\n",
            " \n",
            "\n",
            "Index: 126 \n",
            " Title: [Jack McGeachy, Indianapolis Hoosiers, baseball card portrait] \n",
            " Other Title: ['Old Judge (N172)'] \n",
            " Contributor: ['goodwin & co.'] \n",
            " Date: 1887-01-01 \n",
            "\n"
          ]
        },
        {
          "output_type": "display_data",
          "data": {
            "text/html": [
              "<img src=\"https://tile.loc.gov/storage-services/service/pnp/bbc/0200/0220/0220f_150px.jpg#h=150&w=80\"/>"
            ],
            "text/plain": [
              "<IPython.core.display.Image object>"
            ]
          },
          "metadata": {}
        },
        {
          "output_type": "stream",
          "name": "stdout",
          "text": [
            "\n",
            " \n",
            "\n",
            "Index: 127 \n",
            " Title: [Jack McGeachy, Indianapolis Hoosiers, baseball card portrait] \n",
            " Other Title: ['Old Judge (N172)'] \n",
            " Contributor: ['goodwin & co.'] \n",
            " Date: 1887-01-01 \n",
            "\n"
          ]
        },
        {
          "output_type": "display_data",
          "data": {
            "text/html": [
              "<img src=\"https://tile.loc.gov/storage-services/service/pnp/bbc/0200/0220/0221f_150px.jpg#h=150&w=82\"/>"
            ],
            "text/plain": [
              "<IPython.core.display.Image object>"
            ]
          },
          "metadata": {}
        },
        {
          "output_type": "stream",
          "name": "stdout",
          "text": [
            "\n",
            " \n",
            "\n",
            "Index: 128 \n",
            " Title: [Tom O'Rourke, Boston Beaneaters, baseball card portrait] \n",
            " Other Title: ['Old Judge (N172)'] \n",
            " Contributor: ['goodwin & co.'] \n",
            " Date: 1887-01-01 \n",
            "\n"
          ]
        },
        {
          "output_type": "display_data",
          "data": {
            "text/html": [
              "<img src=\"https://tile.loc.gov/storage-services/service/pnp/bbc/0000/0080/0087f_150px.jpg#h=150&w=86\"/>"
            ],
            "text/plain": [
              "<IPython.core.display.Image object>"
            ]
          },
          "metadata": {}
        },
        {
          "output_type": "stream",
          "name": "stdout",
          "text": [
            "\n",
            " \n",
            "\n",
            "Index: 129 \n",
            " Title: [George Myers, Indianapolis Hoosiers, baseball card portrait] \n",
            " Other Title: ['Old Judge (N172)'] \n",
            " Contributor: ['goodwin & co.'] \n",
            " Date: 1887-01-01 \n",
            "\n"
          ]
        },
        {
          "output_type": "display_data",
          "data": {
            "text/html": [
              "<img src=\"https://tile.loc.gov/storage-services/service/pnp/bbc/0200/0220/0222f_150px.jpg#h=150&w=82\"/>"
            ],
            "text/plain": [
              "<IPython.core.display.Image object>"
            ]
          },
          "metadata": {}
        },
        {
          "output_type": "stream",
          "name": "stdout",
          "text": [
            "\n",
            " \n",
            "\n",
            "Index: 130 \n",
            " Title: [George Myers, Indianapolis Hoosiers, baseball card portrait] \n",
            " Other Title: ['Old Judge (N172)'] \n",
            " Contributor: ['goodwin & co.'] \n",
            " Date: 1887-01-01 \n",
            "\n"
          ]
        },
        {
          "output_type": "display_data",
          "data": {
            "text/html": [
              "<img src=\"https://tile.loc.gov/storage-services/service/pnp/bbc/0200/0220/0223f_150px.jpg#h=150&w=85\"/>"
            ],
            "text/plain": [
              "<IPython.core.display.Image object>"
            ]
          },
          "metadata": {}
        },
        {
          "output_type": "stream",
          "name": "stdout",
          "text": [
            "\n",
            " \n",
            "\n",
            "Index: 131 \n",
            " Title: [Schomberg, Indianapolis Hoosiers, baseball card portrait] \n",
            " Other Title: ['Old Judge (N172)'] \n",
            " Contributor: ['goodwin & co.'] \n",
            " Date: 1887-01-01 \n",
            "\n"
          ]
        },
        {
          "output_type": "display_data",
          "data": {
            "text/html": [
              "<img src=\"https://tile.loc.gov/storage-services/service/pnp/bbc/0200/0220/0224f_150px.jpg#h=150&w=86\"/>"
            ],
            "text/plain": [
              "<IPython.core.display.Image object>"
            ]
          },
          "metadata": {}
        },
        {
          "output_type": "stream",
          "name": "stdout",
          "text": [
            "\n",
            " \n",
            "\n",
            "Index: 132 \n",
            " Title: [Emmett Seery, Indianapolis Hoosiers, baseball card portrait] \n",
            " Other Title: ['Old Judge (N172)'] \n",
            " Contributor: ['goodwin & co.'] \n",
            " Date: 1887-01-01 \n",
            "\n"
          ]
        },
        {
          "output_type": "display_data",
          "data": {
            "text/html": [
              "<img src=\"https://tile.loc.gov/storage-services/service/pnp/bbc/0200/0220/0225f_150px.jpg#h=150&w=87\"/>"
            ],
            "text/plain": [
              "<IPython.core.display.Image object>"
            ]
          },
          "metadata": {}
        },
        {
          "output_type": "stream",
          "name": "stdout",
          "text": [
            "\n",
            " \n",
            "\n",
            "Index: 133 \n",
            " Title: [Emmett Seery, Indianapolis Hoosiers, baseball card portrait] \n",
            " Other Title: ['Old Judge (N172)'] \n",
            " Contributor: ['goodwin & co.'] \n",
            " Date: 1887-01-01 \n",
            "\n"
          ]
        },
        {
          "output_type": "display_data",
          "data": {
            "text/html": [
              "<img src=\"https://tile.loc.gov/storage-services/service/pnp/bbc/0200/0220/0226f_150px.jpg#h=150&w=84\"/>"
            ],
            "text/plain": [
              "<IPython.core.display.Image object>"
            ]
          },
          "metadata": {}
        },
        {
          "output_type": "stream",
          "name": "stdout",
          "text": [
            "\n",
            " \n",
            "\n",
            "Index: 134 \n",
            " Title: [Lev Shreve, Indianapolis Hoosiers, baseball card portrait] \n",
            " Other Title: ['Old Judge (N172)'] \n",
            " Contributor: ['goodwin & co.'] \n",
            " Date: 1887-01-01 \n",
            "\n"
          ]
        },
        {
          "output_type": "display_data",
          "data": {
            "text/html": [
              "<img src=\"https://tile.loc.gov/storage-services/service/pnp/bbc/0200/0220/0227f_150px.jpg#h=150&w=84\"/>"
            ],
            "text/plain": [
              "<IPython.core.display.Image object>"
            ]
          },
          "metadata": {}
        },
        {
          "output_type": "stream",
          "name": "stdout",
          "text": [
            "\n",
            " \n",
            "\n",
            "Index: 135 \n",
            " Title: [Lev Shreve, Indianapolis Hoosiers, baseball card portrait] \n",
            " Other Title: ['Old Judge (N172)'] \n",
            " Contributor: ['goodwin & co.'] \n",
            " Date: 1887-01-01 \n",
            "\n"
          ]
        },
        {
          "output_type": "display_data",
          "data": {
            "text/html": [
              "<img src=\"https://tile.loc.gov/storage-services/service/pnp/bbc/0200/0220/0228f_150px.jpg#h=150&w=84\"/>"
            ],
            "text/plain": [
              "<IPython.core.display.Image object>"
            ]
          },
          "metadata": {}
        },
        {
          "output_type": "stream",
          "name": "stdout",
          "text": [
            "\n",
            " \n",
            "\n",
            "Index: 136 \n",
            " Title: [Willard Brown, New York Giants, baseball card portrait] \n",
            " Other Title: ['Old Judge (N172)'] \n",
            " Contributor: ['goodwin & co.'] \n",
            " Date: 1887-01-01 \n",
            "\n"
          ]
        },
        {
          "output_type": "display_data",
          "data": {
            "text/html": [
              "<img src=\"https://tile.loc.gov/storage-services/service/pnp/bbc/0200/0220/0229f_150px.jpg#h=150&w=79\"/>"
            ],
            "text/plain": [
              "<IPython.core.display.Image object>"
            ]
          },
          "metadata": {}
        },
        {
          "output_type": "stream",
          "name": "stdout",
          "text": [
            "\n",
            " \n",
            "\n",
            "Index: 137 \n",
            " Title: [Willard Brown, New York Giants, baseball card portrait] \n",
            " Other Title: ['Old Judge (N172)'] \n",
            " Contributor: ['goodwin & co.'] \n",
            " Date: 1887-01-01 \n",
            "\n"
          ]
        },
        {
          "output_type": "display_data",
          "data": {
            "text/html": [
              "<img src=\"https://tile.loc.gov/storage-services/service/pnp/bbc/0200/0230/0230ft.gif#h=150&w=86\"/>"
            ],
            "text/plain": [
              "<IPython.core.display.Image object>"
            ]
          },
          "metadata": {}
        },
        {
          "output_type": "stream",
          "name": "stdout",
          "text": [
            "\n",
            " \n",
            "\n",
            "Index: 138 \n",
            " Title: [Elmer Cleveland, New York Giants, baseball card portrait] \n",
            " Other Title: ['Old Judge (N172)'] \n",
            " Contributor: ['goodwin & co.'] \n",
            " Date: 1887-01-01 \n",
            "\n"
          ]
        },
        {
          "output_type": "display_data",
          "data": {
            "text/html": [
              "<img src=\"https://tile.loc.gov/storage-services/service/pnp/bbc/0200/0230/0231f_150px.jpg#h=150&w=93\"/>"
            ],
            "text/plain": [
              "<IPython.core.display.Image object>"
            ]
          },
          "metadata": {}
        },
        {
          "output_type": "stream",
          "name": "stdout",
          "text": [
            "\n",
            " \n",
            "\n",
            "Index: 139 \n",
            " Title: [Old Hoss Radbourn, Boston Beaneaters, baseball card portrait] \n",
            " Other Title: ['Old Judge (N172)'] \n",
            " Contributor: ['goodwin & co.'] \n",
            " Date: 1887-01-01 \n",
            "\n"
          ]
        },
        {
          "output_type": "display_data",
          "data": {
            "text/html": [
              "<img src=\"https://tile.loc.gov/storage-services/service/pnp/bbc/0000/0080/0088f_150px.jpg#h=150&w=87\"/>"
            ],
            "text/plain": [
              "<IPython.core.display.Image object>"
            ]
          },
          "metadata": {}
        },
        {
          "output_type": "stream",
          "name": "stdout",
          "text": [
            "\n",
            " \n",
            "\n",
            "Index: 140 \n",
            " Title: [Hugh Collins, New York Giants, baseball card portrait] \n",
            " Other Title: ['Old Judge (N172)'] \n",
            " Contributor: ['goodwin & co.'] \n",
            " Date: 1887-01-01 \n",
            "\n"
          ]
        },
        {
          "output_type": "display_data",
          "data": {
            "text/html": [
              "<img src=\"https://tile.loc.gov/storage-services/service/pnp/bbc/0200/0230/0232f_150px.jpg#h=150&w=83\"/>"
            ],
            "text/plain": [
              "<IPython.core.display.Image object>"
            ]
          },
          "metadata": {}
        },
        {
          "output_type": "stream",
          "name": "stdout",
          "text": [
            "\n",
            " \n",
            "\n",
            "Index: 141 \n",
            " Title: [Roger Connor, New York Giants, baseball card portrait] \n",
            " Other Title: ['Old Judge (N172)'] \n",
            " Contributor: ['goodwin & co.'] \n",
            " Date: 1887-01-01 \n",
            "\n"
          ]
        },
        {
          "output_type": "display_data",
          "data": {
            "text/html": [
              "<img src=\"https://tile.loc.gov/storage-services/service/pnp/bbc/0200/0230/0233ft.gif#h=150&w=84\"/>"
            ],
            "text/plain": [
              "<IPython.core.display.Image object>"
            ]
          },
          "metadata": {}
        },
        {
          "output_type": "stream",
          "name": "stdout",
          "text": [
            "\n",
            " \n",
            "\n",
            "Index: 142 \n",
            " Title: [Roger Connor, New York Giants, baseball card portrait] \n",
            " Other Title: ['Old Judge (N172)'] \n",
            " Contributor: ['goodwin & co.'] \n",
            " Date: 1887-01-01 \n",
            "\n"
          ]
        },
        {
          "output_type": "display_data",
          "data": {
            "text/html": [
              "<img src=\"https://tile.loc.gov/storage-services/service/pnp/bbc/0200/0230/0234f_150px.jpg#h=150&w=93\"/>"
            ],
            "text/plain": [
              "<IPython.core.display.Image object>"
            ]
          },
          "metadata": {}
        },
        {
          "output_type": "stream",
          "name": "stdout",
          "text": [
            "\n",
            " \n",
            "\n",
            "Index: 143 \n",
            " Title: [Roger Connor, New York Giants, baseball card portrait] \n",
            " Other Title: ['Old Judge (N172)'] \n",
            " Contributor: ['goodwin & co.'] \n",
            " Date: 1887-01-01 \n",
            "\n"
          ]
        },
        {
          "output_type": "display_data",
          "data": {
            "text/html": [
              "<img src=\"https://tile.loc.gov/storage-services/service/pnp/bbc/0200/0230/0235f_150px.jpg#h=150&w=82\"/>"
            ],
            "text/plain": [
              "<IPython.core.display.Image object>"
            ]
          },
          "metadata": {}
        },
        {
          "output_type": "stream",
          "name": "stdout",
          "text": [
            "\n",
            " \n",
            "\n",
            "Index: 144 \n",
            " Title: [Roger Connor, New York Giants, baseball card portrait] \n",
            " Other Title: ['Old Judge (N172)'] \n",
            " Contributor: ['goodwin & co.'] \n",
            " Date: 1887-01-01 \n",
            "\n"
          ]
        },
        {
          "output_type": "display_data",
          "data": {
            "text/html": [
              "<img src=\"https://tile.loc.gov/storage-services/service/pnp/bbc/0200/0230/0236f_150px.jpg#h=150&w=85\"/>"
            ],
            "text/plain": [
              "<IPython.core.display.Image object>"
            ]
          },
          "metadata": {}
        },
        {
          "output_type": "stream",
          "name": "stdout",
          "text": [
            "\n",
            " \n",
            "\n",
            "Index: 145 \n",
            " Title: [Cannonball Crane, New York Giants, baseball card portrait] \n",
            " Other Title: ['Old Judge (N172)'] \n",
            " Contributor: ['goodwin & co.'] \n",
            " Date: 1887-01-01 \n",
            "\n"
          ]
        },
        {
          "output_type": "display_data",
          "data": {
            "text/html": [
              "<img src=\"https://tile.loc.gov/storage-services/service/pnp/bbc/0200/0230/0237f_150px.jpg#h=150&w=81\"/>"
            ],
            "text/plain": [
              "<IPython.core.display.Image object>"
            ]
          },
          "metadata": {}
        },
        {
          "output_type": "stream",
          "name": "stdout",
          "text": [
            "\n",
            " \n",
            "\n",
            "Index: 146 \n",
            " Title: [Pat Deasley, New York Giants, baseball card portrait] \n",
            " Other Title: ['Old Judge (N172)'] \n",
            " Contributor: ['goodwin & co.'] \n",
            " Date: 1887-01-01 \n",
            "\n"
          ]
        },
        {
          "output_type": "display_data",
          "data": {
            "text/html": [
              "<img src=\"https://tile.loc.gov/storage-services/service/pnp/bbc/0200/0230/0238f_150px.jpg#h=150&w=82\"/>"
            ],
            "text/plain": [
              "<IPython.core.display.Image object>"
            ]
          },
          "metadata": {}
        },
        {
          "output_type": "stream",
          "name": "stdout",
          "text": [
            "\n",
            " \n",
            "\n",
            "Index: 147 \n",
            " Title: [Pat Deasley, New York Giants, baseball card portrait] \n",
            " Other Title: ['Old Judge (N172)'] \n",
            " Contributor: ['goodwin & co.'] \n",
            " Date: 1887-01-01 \n",
            "\n"
          ]
        },
        {
          "output_type": "display_data",
          "data": {
            "text/html": [
              "<img src=\"https://tile.loc.gov/storage-services/service/pnp/bbc/0200/0230/0239f_150px.jpg#h=150&w=85\"/>"
            ],
            "text/plain": [
              "<IPython.core.display.Image object>"
            ]
          },
          "metadata": {}
        },
        {
          "output_type": "stream",
          "name": "stdout",
          "text": [
            "\n",
            " \n",
            "\n",
            "Index: 148 \n",
            " Title: [Pat Deasley, New York Giants, baseball card portrait] \n",
            " Other Title: ['Old Judge (N172)'] \n",
            " Contributor: ['goodwin & co.'] \n",
            " Date: 1887-01-01 \n",
            "\n"
          ]
        },
        {
          "output_type": "display_data",
          "data": {
            "text/html": [
              "<img src=\"https://tile.loc.gov/storage-services/service/pnp/bbc/0200/0240/0240f_150px.jpg#h=150&w=82\"/>"
            ],
            "text/plain": [
              "<IPython.core.display.Image object>"
            ]
          },
          "metadata": {}
        },
        {
          "output_type": "stream",
          "name": "stdout",
          "text": [
            "\n",
            " \n",
            "\n",
            "Index: 149 \n",
            " Title: [Pat Deasley, New York Giants, baseball card portrait] \n",
            " Other Title: ['Old Judge (N172)'] \n",
            " Contributor: ['goodwin & co.'] \n",
            " Date: 1887-01-01 \n",
            "\n"
          ]
        },
        {
          "output_type": "display_data",
          "data": {
            "text/html": [
              "<img src=\"https://tile.loc.gov/storage-services/service/pnp/bbc/0200/0240/0241f_150px.jpg#h=150&w=85\"/>"
            ],
            "text/plain": [
              "<IPython.core.display.Image object>"
            ]
          },
          "metadata": {}
        },
        {
          "output_type": "stream",
          "name": "stdout",
          "text": [
            "\n",
            " \n",
            "\n",
            "Index: 150 \n",
            " Title: [Hardy Richardson, Boston Beaneaters, baseball card portrait] \n",
            " Other Title: ['Old Judge (N172)'] \n",
            " Contributor: ['goodwin & co.'] \n",
            " Date: 1887-01-01 \n",
            "\n"
          ]
        },
        {
          "output_type": "display_data",
          "data": {
            "text/html": [
              "<img src=\"https://tile.loc.gov/storage-services/service/pnp/bbc/0000/0080/0089f_150px.jpg#h=150&w=78\"/>"
            ],
            "text/plain": [
              "<IPython.core.display.Image object>"
            ]
          },
          "metadata": {}
        },
        {
          "output_type": "stream",
          "name": "stdout",
          "text": [
            "\n",
            " \n",
            "\n",
            "Index: 151 \n",
            " Title: [Pat Deasley, New York Giants, baseball card portrait] \n",
            " Other Title: ['Old Judge (N172)'] \n",
            " Contributor: ['goodwin & co.'] \n",
            " Date: 1887-01-01 \n",
            "\n"
          ]
        },
        {
          "output_type": "display_data",
          "data": {
            "text/html": [
              "<img src=\"https://tile.loc.gov/storage-services/service/pnp/bbc/0200/0240/0242f_150px.jpg#h=150&w=87\"/>"
            ],
            "text/plain": [
              "<IPython.core.display.Image object>"
            ]
          },
          "metadata": {}
        },
        {
          "output_type": "stream",
          "name": "stdout",
          "text": [
            "\n",
            " \n",
            "\n",
            "Index: 152 \n",
            " Title: [Pat Deasley, New York Giants, baseball card portrait] \n",
            " Other Title: ['Old Judge (N172)'] \n",
            " Contributor: ['goodwin & co.'] \n",
            " Date: 1887-01-01 \n",
            "\n"
          ]
        },
        {
          "output_type": "display_data",
          "data": {
            "text/html": [
              "<img src=\"https://tile.loc.gov/storage-services/service/pnp/bbc/0200/0240/0243f_150px.jpg#h=150&w=82\"/>"
            ],
            "text/plain": [
              "<IPython.core.display.Image object>"
            ]
          },
          "metadata": {}
        },
        {
          "output_type": "stream",
          "name": "stdout",
          "text": [
            "\n",
            " \n",
            "\n",
            "Index: 153 \n",
            " Title: [Mike Dorgan, New York Giants, baseball card portrait] \n",
            " Other Title: ['Old Judge (N172)'] \n",
            " Contributor: ['goodwin & co.'] \n",
            " Date: 1887-01-01 \n",
            "\n"
          ]
        },
        {
          "output_type": "display_data",
          "data": {
            "text/html": [
              "<img src=\"https://tile.loc.gov/storage-services/service/pnp/bbc/0200/0240/0244f_150px.jpg#h=150&w=87\"/>"
            ],
            "text/plain": [
              "<IPython.core.display.Image object>"
            ]
          },
          "metadata": {}
        },
        {
          "output_type": "stream",
          "name": "stdout",
          "text": [
            "\n",
            " \n",
            "\n",
            "Index: 154 \n",
            " Title: [Mike Dorgan, New York Giants, baseball card portrait] \n",
            " Other Title: ['Old Judge (N172)'] \n",
            " Contributor: ['goodwin & co.'] \n",
            " Date: 1887-01-01 \n",
            "\n"
          ]
        },
        {
          "output_type": "display_data",
          "data": {
            "text/html": [
              "<img src=\"https://tile.loc.gov/storage-services/service/pnp/bbc/0200/0240/0245f_150px.jpg#h=150&w=86\"/>"
            ],
            "text/plain": [
              "<IPython.core.display.Image object>"
            ]
          },
          "metadata": {}
        },
        {
          "output_type": "stream",
          "name": "stdout",
          "text": [
            "\n",
            " \n",
            "\n",
            "Index: 155 \n",
            " Title: [Mike Dorgan, New York Giants, baseball card portrait] \n",
            " Other Title: ['Old Judge (N172)'] \n",
            " Contributor: ['goodwin & co.'] \n",
            " Date: 1887-01-01 \n",
            "\n"
          ]
        },
        {
          "output_type": "display_data",
          "data": {
            "text/html": [
              "<img src=\"https://tile.loc.gov/storage-services/service/pnp/bbc/0200/0240/0246f_150px.jpg#h=150&w=95\"/>"
            ],
            "text/plain": [
              "<IPython.core.display.Image object>"
            ]
          },
          "metadata": {}
        },
        {
          "output_type": "stream",
          "name": "stdout",
          "text": [
            "\n",
            " \n",
            "\n",
            "Index: 156 \n",
            " Title: [Mike Dorgan, New York Giants, baseball card portrait] \n",
            " Other Title: ['Old Judge (N172)'] \n",
            " Contributor: ['goodwin & co.'] \n",
            " Date: 1887-01-01 \n",
            "\n"
          ]
        },
        {
          "output_type": "display_data",
          "data": {
            "text/html": [
              "<img src=\"https://tile.loc.gov/storage-services/service/pnp/bbc/0200/0240/0247f_150px.jpg#h=150&w=86\"/>"
            ],
            "text/plain": [
              "<IPython.core.display.Image object>"
            ]
          },
          "metadata": {}
        },
        {
          "output_type": "stream",
          "name": "stdout",
          "text": [
            "\n",
            " \n",
            "\n",
            "Index: 157 \n",
            " Title: [Mike Dorgan, New York Giants, baseball card portrait] \n",
            " Other Title: ['Old Judge (N172)'] \n",
            " Contributor: ['goodwin & co.'] \n",
            " Date: 1887-01-01 \n",
            "\n"
          ]
        },
        {
          "output_type": "display_data",
          "data": {
            "text/html": [
              "<img src=\"https://tile.loc.gov/storage-services/service/pnp/bbc/0200/0240/0248f_150px.jpg#h=150&w=87\"/>"
            ],
            "text/plain": [
              "<IPython.core.display.Image object>"
            ]
          },
          "metadata": {}
        },
        {
          "output_type": "stream",
          "name": "stdout",
          "text": [
            "\n",
            " \n",
            "\n",
            "Index: 158 \n",
            " Title: [Mike Dorgan, New York Giants, baseball card portrait] \n",
            " Other Title: ['Old Judge (N172)'] \n",
            " Contributor: ['goodwin & co.'] \n",
            " Date: 1887-01-01 \n",
            "\n"
          ]
        },
        {
          "output_type": "display_data",
          "data": {
            "text/html": [
              "<img src=\"https://tile.loc.gov/storage-services/service/pnp/bbc/0200/0240/0249f_150px.jpg#h=85&w=150\"/>"
            ],
            "text/plain": [
              "<IPython.core.display.Image object>"
            ]
          },
          "metadata": {}
        },
        {
          "output_type": "stream",
          "name": "stdout",
          "text": [
            "\n",
            " \n",
            "\n",
            "Index: 159 \n",
            " Title: [Mike Dorgan, New York Giants, baseball card portrait] \n",
            " Other Title: ['Old Judge (N172)'] \n",
            " Contributor: ['goodwin & co.'] \n",
            " Date: 1887-01-01 \n",
            "\n"
          ]
        },
        {
          "output_type": "display_data",
          "data": {
            "text/html": [
              "<img src=\"https://tile.loc.gov/storage-services/service/pnp/bbc/0200/0250/0250f_150px.jpg#h=150&w=84\"/>"
            ],
            "text/plain": [
              "<IPython.core.display.Image object>"
            ]
          },
          "metadata": {}
        },
        {
          "output_type": "stream",
          "name": "stdout",
          "text": [
            "\n",
            " \n",
            "\n",
            "Index: 160 \n",
            " Title: [Buck Ewing, New York Giants, baseball card portrait] \n",
            " Other Title: ['Old Judge (N172)'] \n",
            " Contributor: ['goodwin & co.'] \n",
            " Date: 1887-01-01 \n",
            "\n"
          ]
        },
        {
          "output_type": "display_data",
          "data": {
            "text/html": [
              "<img src=\"https://tile.loc.gov/storage-services/service/pnp/bbc/0200/0250/0251f_150px.jpg#h=81&w=150\"/>"
            ],
            "text/plain": [
              "<IPython.core.display.Image object>"
            ]
          },
          "metadata": {}
        },
        {
          "output_type": "stream",
          "name": "stdout",
          "text": [
            "\n",
            " \n",
            "\n",
            "Index: 161 \n",
            " Title: [William Sowders, Boston Beaneaters, baseball card portrait] \n",
            " Other Title: ['Old Judge (N172)'] \n",
            " Contributor: ['goodwin & co.'] \n",
            " Date: 1887-01-01 \n",
            "\n"
          ]
        },
        {
          "output_type": "display_data",
          "data": {
            "text/html": [
              "<img src=\"https://tile.loc.gov/storage-services/service/pnp/bbc/0000/0090/0090f_150px.jpg#h=150&w=85\"/>"
            ],
            "text/plain": [
              "<IPython.core.display.Image object>"
            ]
          },
          "metadata": {}
        },
        {
          "output_type": "stream",
          "name": "stdout",
          "text": [
            "\n",
            " \n",
            "\n",
            "Index: 162 \n",
            " Title: [Buck Ewing, New York Giants, baseball card portrait] \n",
            " Other Title: ['Old Judge (N172)'] \n",
            " Contributor: ['goodwin & co.'] \n",
            " Date: 1887-01-01 \n",
            "\n"
          ]
        },
        {
          "output_type": "display_data",
          "data": {
            "text/html": [
              "<img src=\"https://tile.loc.gov/storage-services/service/pnp/bbc/0200/0250/0252f_150px.jpg#h=150&w=83\"/>"
            ],
            "text/plain": [
              "<IPython.core.display.Image object>"
            ]
          },
          "metadata": {}
        },
        {
          "output_type": "stream",
          "name": "stdout",
          "text": [
            "\n",
            " \n",
            "\n",
            "Index: 163 \n",
            " Title: [Buck Ewing, New York Giants, baseball card portrait] \n",
            " Other Title: ['Old Judge (N172)'] \n",
            " Contributor: ['goodwin & co.'] \n",
            " Date: 1887-01-01 \n",
            "\n"
          ]
        },
        {
          "output_type": "display_data",
          "data": {
            "text/html": [
              "<img src=\"https://tile.loc.gov/storage-services/service/pnp/bbc/0200/0250/0253f_150px.jpg#h=150&w=80\"/>"
            ],
            "text/plain": [
              "<IPython.core.display.Image object>"
            ]
          },
          "metadata": {}
        },
        {
          "output_type": "stream",
          "name": "stdout",
          "text": [
            "\n",
            " \n",
            "\n",
            "Index: 164 \n",
            " Title: [Buck Ewing, New York Giants, baseball card portrait] \n",
            " Other Title: ['Old Judge (N172)'] \n",
            " Contributor: ['goodwin & co.'] \n",
            " Date: 1887-01-01 \n",
            "\n"
          ]
        },
        {
          "output_type": "display_data",
          "data": {
            "text/html": [
              "<img src=\"https://tile.loc.gov/storage-services/service/pnp/bbc/0200/0250/0254f_150px.jpg#h=150&w=80\"/>"
            ],
            "text/plain": [
              "<IPython.core.display.Image object>"
            ]
          },
          "metadata": {}
        },
        {
          "output_type": "stream",
          "name": "stdout",
          "text": [
            "\n",
            " \n",
            "\n",
            "Index: 165 \n",
            " Title: [Bill George, New York Giants, baseball card portrait] \n",
            " Other Title: ['Old Judge (N172)'] \n",
            " Contributor: ['goodwin & co.'] \n",
            " Date: 1887-01-01 \n",
            "\n"
          ]
        },
        {
          "output_type": "display_data",
          "data": {
            "text/html": [
              "<img src=\"https://tile.loc.gov/storage-services/service/pnp/bbc/0200/0250/0255f_150px.jpg#h=150&w=80\"/>"
            ],
            "text/plain": [
              "<IPython.core.display.Image object>"
            ]
          },
          "metadata": {}
        },
        {
          "output_type": "stream",
          "name": "stdout",
          "text": [
            "\n",
            " \n",
            "\n",
            "Index: 166 \n",
            " Title: [Bill George, New York Giants, baseball card portrait] \n",
            " Other Title: ['Old Judge (N172)'] \n",
            " Contributor: ['goodwin & co.'] \n",
            " Date: 1887-01-01 \n",
            "\n"
          ]
        },
        {
          "output_type": "display_data",
          "data": {
            "text/html": [
              "<img src=\"https://tile.loc.gov/storage-services/service/pnp/bbc/0200/0250/0256f_150px.jpg#h=150&w=79\"/>"
            ],
            "text/plain": [
              "<IPython.core.display.Image object>"
            ]
          },
          "metadata": {}
        },
        {
          "output_type": "stream",
          "name": "stdout",
          "text": [
            "\n",
            " \n",
            "\n",
            "Index: 167 \n",
            " Title: [Bill George, New York Giants, baseball card portrait] \n",
            " Other Title: ['Old Judge (N172)'] \n",
            " Contributor: ['goodwin & co.'] \n",
            " Date: 1887-01-01 \n",
            "\n"
          ]
        },
        {
          "output_type": "display_data",
          "data": {
            "text/html": [
              "<img src=\"https://tile.loc.gov/storage-services/service/pnp/bbc/0200/0250/0257f_150px.jpg#h=150&w=85\"/>"
            ],
            "text/plain": [
              "<IPython.core.display.Image object>"
            ]
          },
          "metadata": {}
        },
        {
          "output_type": "stream",
          "name": "stdout",
          "text": [
            "\n",
            " \n",
            "\n",
            "Index: 168 \n",
            " Title: [Bill George, New York Giants, baseball card portrait] \n",
            " Other Title: ['Old Judge (N172)'] \n",
            " Contributor: ['goodwin & co.'] \n",
            " Date: 1887-01-01 \n",
            "\n"
          ]
        },
        {
          "output_type": "display_data",
          "data": {
            "text/html": [
              "<img src=\"https://tile.loc.gov/storage-services/service/pnp/bbc/0200/0250/0258ft.gif#h=150&w=91\"/>"
            ],
            "text/plain": [
              "<IPython.core.display.Image object>"
            ]
          },
          "metadata": {}
        },
        {
          "output_type": "stream",
          "name": "stdout",
          "text": [
            "\n",
            " \n",
            "\n",
            "Index: 169 \n",
            " Title: [Bill George, New York Giants, baseball card portrait] \n",
            " Other Title: ['Old Judge (N172)'] \n",
            " Contributor: ['goodwin & co.'] \n",
            " Date: 1887-01-01 \n",
            "\n"
          ]
        },
        {
          "output_type": "display_data",
          "data": {
            "text/html": [
              "<img src=\"https://tile.loc.gov/storage-services/service/pnp/bbc/0200/0250/0259f_150px.jpg#h=150&w=87\"/>"
            ],
            "text/plain": [
              "<IPython.core.display.Image object>"
            ]
          },
          "metadata": {}
        },
        {
          "output_type": "stream",
          "name": "stdout",
          "text": [
            "\n",
            " \n",
            "\n",
            "Index: 170 \n",
            " Title: [Bill George, New York Giants, baseball card portrait] \n",
            " Other Title: ['Old Judge (N172)'] \n",
            " Contributor: ['goodwin & co.'] \n",
            " Date: 1887-01-01 \n",
            "\n"
          ]
        },
        {
          "output_type": "display_data",
          "data": {
            "text/html": [
              "<img src=\"https://tile.loc.gov/storage-services/service/pnp/bbc/0200/0260/0260f_150px.jpg#h=150&w=81\"/>"
            ],
            "text/plain": [
              "<IPython.core.display.Image object>"
            ]
          },
          "metadata": {}
        },
        {
          "output_type": "stream",
          "name": "stdout",
          "text": [
            "\n",
            " \n",
            "\n",
            "Index: 171 \n",
            " Title: [Pete Gillespie, New York Giants, baseball card portrait] \n",
            " Other Title: ['Old Judge (N172)'] \n",
            " Contributor: ['goodwin & co.'] \n",
            " Date: 1887-01-01 \n",
            "\n"
          ]
        },
        {
          "output_type": "display_data",
          "data": {
            "text/html": [
              "<img src=\"https://tile.loc.gov/storage-services/service/pnp/bbc/0200/0260/0261f_150px.jpg#h=150&w=84\"/>"
            ],
            "text/plain": [
              "<IPython.core.display.Image object>"
            ]
          },
          "metadata": {}
        },
        {
          "output_type": "stream",
          "name": "stdout",
          "text": [
            "\n",
            " \n",
            "\n",
            "Index: 172 \n",
            " Title: [William Sowders, Boston Beaneaters, baseball card portrait] \n",
            " Other Title: ['Old Judge (N172)'] \n",
            " Contributor: ['goodwin & co.'] \n",
            " Date: 1887-01-01 \n",
            "\n"
          ]
        },
        {
          "output_type": "display_data",
          "data": {
            "text/html": [
              "<img src=\"https://tile.loc.gov/storage-services/service/pnp/bbc/0000/0090/0091f_150px.jpg#h=150&w=78\"/>"
            ],
            "text/plain": [
              "<IPython.core.display.Image object>"
            ]
          },
          "metadata": {}
        },
        {
          "output_type": "stream",
          "name": "stdout",
          "text": [
            "\n",
            " \n",
            "\n",
            "Index: 173 \n",
            " Title: [Pete Gillespie, New York Giants, baseball card portrait] \n",
            " Other Title: ['Old Judge (N172)'] \n",
            " Contributor: ['goodwin & co.'] \n",
            " Date: 1887-01-01 \n",
            "\n"
          ]
        },
        {
          "output_type": "display_data",
          "data": {
            "text/html": [
              "<img src=\"https://tile.loc.gov/storage-services/service/pnp/bbc/0200/0260/0262f_150px.jpg#h=150&w=81\"/>"
            ],
            "text/plain": [
              "<IPython.core.display.Image object>"
            ]
          },
          "metadata": {}
        },
        {
          "output_type": "stream",
          "name": "stdout",
          "text": [
            "\n",
            " \n",
            "\n",
            "Index: 174 \n",
            " Title: [George Gore, New York Giants, baseball card portrait] \n",
            " Other Title: ['Old Judge (N172)'] \n",
            " Contributor: ['goodwin & co.'] \n",
            " Date: 1887-01-01 \n",
            "\n"
          ]
        },
        {
          "output_type": "display_data",
          "data": {
            "text/html": [
              "<img src=\"https://tile.loc.gov/storage-services/service/pnp/bbc/0200/0260/0263f_150px.jpg#h=150&w=84\"/>"
            ],
            "text/plain": [
              "<IPython.core.display.Image object>"
            ]
          },
          "metadata": {}
        },
        {
          "output_type": "stream",
          "name": "stdout",
          "text": [
            "\n",
            " \n",
            "\n",
            "Index: 175 \n",
            " Title: [George Gore, New York Giants, baseball card portrait] \n",
            " Other Title: ['Old Judge (N172)'] \n",
            " Contributor: ['goodwin & co.'] \n",
            " Date: 1887-01-01 \n",
            "\n"
          ]
        },
        {
          "output_type": "display_data",
          "data": {
            "text/html": [
              "<img src=\"https://tile.loc.gov/storage-services/service/pnp/bbc/0200/0260/0264f_150px.jpg#h=150&w=83\"/>"
            ],
            "text/plain": [
              "<IPython.core.display.Image object>"
            ]
          },
          "metadata": {}
        },
        {
          "output_type": "stream",
          "name": "stdout",
          "text": [
            "\n",
            " \n",
            "\n",
            "Index: 176 \n",
            " Title: [Gill Hatfield, New York Giants, baseball card portrait] \n",
            " Other Title: ['Old Judge (N172)'] \n",
            " Contributor: ['goodwin & co.'] \n",
            " Date: 1887-01-01 \n",
            "\n"
          ]
        },
        {
          "output_type": "display_data",
          "data": {
            "text/html": [
              "<img src=\"https://tile.loc.gov/storage-services/service/pnp/bbc/0200/0260/0265f_150px.jpg#h=150&w=84\"/>"
            ],
            "text/plain": [
              "<IPython.core.display.Image object>"
            ]
          },
          "metadata": {}
        },
        {
          "output_type": "stream",
          "name": "stdout",
          "text": [
            "\n",
            " \n",
            "\n",
            "Index: 177 \n",
            " Title: [Tim Keefe, New York Giants, baseball card portrait] \n",
            " Other Title: ['Old Judge (N172)'] \n",
            " Contributor: ['goodwin & co.'] \n",
            " Date: 1887-01-01 \n",
            "\n"
          ]
        },
        {
          "output_type": "display_data",
          "data": {
            "text/html": [
              "<img src=\"https://tile.loc.gov/storage-services/service/pnp/bbc/0200/0260/0266f_150px.jpg#h=150&w=81\"/>"
            ],
            "text/plain": [
              "<IPython.core.display.Image object>"
            ]
          },
          "metadata": {}
        },
        {
          "output_type": "stream",
          "name": "stdout",
          "text": [
            "\n",
            " \n",
            "\n",
            "Index: 178 \n",
            " Title: [Tim Keefe, New York Giants, baseball card portrait] \n",
            " Other Title: ['Old Judge (N172)'] \n",
            " Contributor: ['goodwin & co.'] \n",
            " Date: 1887-01-01 \n",
            "\n"
          ]
        },
        {
          "output_type": "display_data",
          "data": {
            "text/html": [
              "<img src=\"https://tile.loc.gov/storage-services/service/pnp/bbc/0200/0260/0267f_150px.jpg#h=150&w=81\"/>"
            ],
            "text/plain": [
              "<IPython.core.display.Image object>"
            ]
          },
          "metadata": {}
        },
        {
          "output_type": "stream",
          "name": "stdout",
          "text": [
            "\n",
            " \n",
            "\n",
            "Index: 179 \n",
            " Title: [Mike Mattimore, New York Giants, baseball card portrait] \n",
            " Other Title: ['Old Judge (N172)'] \n",
            " Contributor: ['goodwin & co.'] \n",
            " Date: 1887-01-01 \n",
            "\n"
          ]
        },
        {
          "output_type": "display_data",
          "data": {
            "text/html": [
              "<img src=\"https://tile.loc.gov/storage-services/service/pnp/bbc/0200/0260/0268f_150px.jpg#h=150&w=81\"/>"
            ],
            "text/plain": [
              "<IPython.core.display.Image object>"
            ]
          },
          "metadata": {}
        },
        {
          "output_type": "stream",
          "name": "stdout",
          "text": [
            "\n",
            " \n",
            "\n",
            "Index: 180 \n",
            " Title: [Mike Mattimore, New York Giants, baseball card portrait] \n",
            " Other Title: ['Old Judge (N172)'] \n",
            " Contributor: ['goodwin & co.'] \n",
            " Date: 1887-01-01 \n",
            "\n"
          ]
        },
        {
          "output_type": "display_data",
          "data": {
            "text/html": [
              "<img src=\"https://tile.loc.gov/storage-services/service/pnp/bbc/0200/0260/0269f_150px.jpg#h=150&w=85\"/>"
            ],
            "text/plain": [
              "<IPython.core.display.Image object>"
            ]
          },
          "metadata": {}
        },
        {
          "output_type": "stream",
          "name": "stdout",
          "text": [
            "\n",
            " \n",
            "\n",
            "Index: 181 \n",
            " Title: [Mike Mattimore, New York Giants, baseball card portrait] \n",
            " Other Title: ['Old Judge (N172)'] \n",
            " Contributor: ['goodwin & co.'] \n",
            " Date: 1887-01-01 \n",
            "\n"
          ]
        },
        {
          "output_type": "display_data",
          "data": {
            "text/html": [
              "<img src=\"https://tile.loc.gov/storage-services/service/pnp/bbc/0200/0270/0270f_150px.jpg#h=150&w=86\"/>"
            ],
            "text/plain": [
              "<IPython.core.display.Image object>"
            ]
          },
          "metadata": {}
        },
        {
          "output_type": "stream",
          "name": "stdout",
          "text": [
            "\n",
            " \n",
            "\n",
            "Index: 182 \n",
            " Title: [P. J. Murphy, New York Giants, baseball card portrait] \n",
            " Other Title: ['Old Judge (N172)'] \n",
            " Contributor: ['goodwin & co.'] \n",
            " Date: 1887-01-01 \n",
            "\n"
          ]
        },
        {
          "output_type": "display_data",
          "data": {
            "text/html": [
              "<img src=\"https://tile.loc.gov/storage-services/service/pnp/bbc/0200/0270/0271f_150px.jpg#h=150&w=82\"/>"
            ],
            "text/plain": [
              "<IPython.core.display.Image object>"
            ]
          },
          "metadata": {}
        },
        {
          "output_type": "stream",
          "name": "stdout",
          "text": [
            "\n",
            " \n",
            "\n",
            "Index: 183 \n",
            " Title: [Black Jack Burdock, Boston Beaneaters, baseball card portrait] \n",
            " Other Title: ['Old Judge (N172)'] \n",
            " Contributor: ['goodwin & co.'] \n",
            " Date: 1887-01-01 \n",
            "\n"
          ]
        },
        {
          "output_type": "display_data",
          "data": {
            "text/html": [
              "<img src=\"https://tile.loc.gov/storage-services/service/pnp/bbc/0000/0070/0074f_150px.jpg#h=150&w=82\"/>"
            ],
            "text/plain": [
              "<IPython.core.display.Image object>"
            ]
          },
          "metadata": {}
        },
        {
          "output_type": "stream",
          "name": "stdout",
          "text": [
            "\n",
            " \n",
            "\n",
            "Index: 184 \n",
            " Title: [Bill Stemmeyer, Boston Beaneaters, baseball card portrait] \n",
            " Other Title: ['Old Judge (N172)'] \n",
            " Contributor: ['goodwin & co.'] \n",
            " Date: 1887-01-01 \n",
            "\n"
          ]
        },
        {
          "output_type": "display_data",
          "data": {
            "text/html": [
              "<img src=\"https://tile.loc.gov/storage-services/service/pnp/bbc/0000/0090/0092f_150px.jpg#h=150&w=86\"/>"
            ],
            "text/plain": [
              "<IPython.core.display.Image object>"
            ]
          },
          "metadata": {}
        },
        {
          "output_type": "stream",
          "name": "stdout",
          "text": [
            "\n",
            " \n",
            "\n",
            "Index: 185 \n",
            " Title: [P. J. Murphy, New York Giants, baseball card portrait] \n",
            " Other Title: ['Old Judge (N172)'] \n",
            " Contributor: ['goodwin & co.'] \n",
            " Date: 1887-01-01 \n",
            "\n"
          ]
        },
        {
          "output_type": "display_data",
          "data": {
            "text/html": [
              "<img src=\"https://tile.loc.gov/storage-services/service/pnp/bbc/0200/0270/0272f_150px.jpg#h=150&w=76\"/>"
            ],
            "text/plain": [
              "<IPython.core.display.Image object>"
            ]
          },
          "metadata": {}
        },
        {
          "output_type": "stream",
          "name": "stdout",
          "text": [
            "\n",
            " \n",
            "\n",
            "Index: 186 \n",
            " Title: [Jim Mutrie, New York Giants, baseball card portrait] \n",
            " Other Title: ['Old Judge (N172)'] \n",
            " Contributor: ['goodwin & co.'] \n",
            " Date: 1887-01-01 \n",
            "\n"
          ]
        },
        {
          "output_type": "display_data",
          "data": {
            "text/html": [
              "<img src=\"https://tile.loc.gov/storage-services/service/pnp/bbc/0200/0270/0273f_150px.jpg#h=150&w=79\"/>"
            ],
            "text/plain": [
              "<IPython.core.display.Image object>"
            ]
          },
          "metadata": {}
        },
        {
          "output_type": "stream",
          "name": "stdout",
          "text": [
            "\n",
            " \n",
            "\n",
            "Index: 187 \n",
            " Title: [Jim Mutrie, New York Giants, baseball card portrait] \n",
            " Other Title: ['Old Judge (N172)'] \n",
            " Contributor: ['goodwin & co.'] \n",
            " Date: 1887-01-01 \n",
            "\n"
          ]
        },
        {
          "output_type": "display_data",
          "data": {
            "text/html": [
              "<img src=\"https://tile.loc.gov/storage-services/service/pnp/bbc/0200/0270/0274f_150px.jpg#h=150&w=83\"/>"
            ],
            "text/plain": [
              "<IPython.core.display.Image object>"
            ]
          },
          "metadata": {}
        },
        {
          "output_type": "stream",
          "name": "stdout",
          "text": [
            "\n",
            " \n",
            "\n",
            "Index: 188 \n",
            " Title: [Jim O'Rourke, New York Giants, baseball card portrait] \n",
            " Other Title: ['Old Judge (N172)'] \n",
            " Contributor: ['goodwin & co.'] \n",
            " Date: 1887-01-01 \n",
            "\n"
          ]
        },
        {
          "output_type": "display_data",
          "data": {
            "text/html": [
              "<img src=\"https://tile.loc.gov/storage-services/service/pnp/bbc/0200/0270/0275f_150px.jpg#h=150&w=81\"/>"
            ],
            "text/plain": [
              "<IPython.core.display.Image object>"
            ]
          },
          "metadata": {}
        },
        {
          "output_type": "stream",
          "name": "stdout",
          "text": [
            "\n",
            " \n",
            "\n",
            "Index: 189 \n",
            " Title: [Jim O'Rourke, New York Giants, baseball card portrait] \n",
            " Other Title: ['Old Judge (N172)'] \n",
            " Contributor: ['goodwin & co.'] \n",
            " Date: 1887-01-01 \n",
            "\n"
          ]
        },
        {
          "output_type": "display_data",
          "data": {
            "text/html": [
              "<img src=\"https://tile.loc.gov/storage-services/service/pnp/bbc/0200/0270/0276f_150px.jpg#h=150&w=85\"/>"
            ],
            "text/plain": [
              "<IPython.core.display.Image object>"
            ]
          },
          "metadata": {}
        },
        {
          "output_type": "stream",
          "name": "stdout",
          "text": [
            "\n",
            " \n",
            "\n",
            "Index: 190 \n",
            " Title: [Jim O'Rourke, New York Giants, baseball card portrait] \n",
            " Other Title: ['Old Judge (N172)'] \n",
            " Contributor: ['goodwin & co.'] \n",
            " Date: 1887-01-01 \n",
            "\n"
          ]
        },
        {
          "output_type": "display_data",
          "data": {
            "text/html": [
              "<img src=\"https://tile.loc.gov/storage-services/service/pnp/bbc/0200/0270/0277f_150px.jpg#h=150&w=83\"/>"
            ],
            "text/plain": [
              "<IPython.core.display.Image object>"
            ]
          },
          "metadata": {}
        },
        {
          "output_type": "stream",
          "name": "stdout",
          "text": [
            "\n",
            " \n",
            "\n",
            "Index: 191 \n",
            " Title: [Danny Richardson, New York Giants, baseball card portrait] \n",
            " Other Title: ['Old Judge (N172)'] \n",
            " Contributor: ['goodwin & co.'] \n",
            " Date: 1887-01-01 \n",
            "\n"
          ]
        },
        {
          "output_type": "display_data",
          "data": {
            "text/html": [
              "<img src=\"https://tile.loc.gov/storage-services/service/pnp/bbc/0200/0270/0278f_150px.jpg#h=150&w=86\"/>"
            ],
            "text/plain": [
              "<IPython.core.display.Image object>"
            ]
          },
          "metadata": {}
        },
        {
          "output_type": "stream",
          "name": "stdout",
          "text": [
            "\n",
            " \n",
            "\n",
            "Index: 192 \n",
            " Title: [Danny Richardson, New York Giants, baseball card portrait] \n",
            " Other Title: ['Old Judge (N172)'] \n",
            " Contributor: ['goodwin & co.'] \n",
            " Date: 1887-01-01 \n",
            "\n"
          ]
        },
        {
          "output_type": "display_data",
          "data": {
            "text/html": [
              "<img src=\"https://tile.loc.gov/storage-services/service/pnp/bbc/0200/0270/0279f_150px.jpg#h=150&w=83\"/>"
            ],
            "text/plain": [
              "<IPython.core.display.Image object>"
            ]
          },
          "metadata": {}
        },
        {
          "output_type": "stream",
          "name": "stdout",
          "text": [
            "\n",
            " \n",
            "\n",
            "Index: 193 \n",
            " Title: [Danny Richardson, New York Giants, baseball card portrait] \n",
            " Other Title: ['Old Judge (N172)'] \n",
            " Contributor: ['goodwin & co.'] \n",
            " Date: 1887-01-01 \n",
            "\n"
          ]
        },
        {
          "output_type": "display_data",
          "data": {
            "text/html": [
              "<img src=\"https://tile.loc.gov/storage-services/service/pnp/bbc/0200/0280/0280f_150px.jpg#h=150&w=79\"/>"
            ],
            "text/plain": [
              "<IPython.core.display.Image object>"
            ]
          },
          "metadata": {}
        },
        {
          "output_type": "stream",
          "name": "stdout",
          "text": [
            "\n",
            " \n",
            "\n",
            "Index: 194 \n",
            " Title: [John Roach, New York Giants, baseball card portrait] \n",
            " Other Title: ['Old Judge (N172)'] \n",
            " Contributor: ['goodwin & co.'] \n",
            " Date: 1887-01-01 \n",
            "\n"
          ]
        },
        {
          "output_type": "display_data",
          "data": {
            "text/html": [
              "<img src=\"https://tile.loc.gov/storage-services/service/pnp/bbc/0200/0280/0281f_150px.jpg#h=150&w=82\"/>"
            ],
            "text/plain": [
              "<IPython.core.display.Image object>"
            ]
          },
          "metadata": {}
        },
        {
          "output_type": "stream",
          "name": "stdout",
          "text": [
            "\n",
            " \n",
            "\n",
            "Index: 195 \n",
            " Title: [Stemmeyer, Boston Beaneaters, baseball card portrait] \n",
            " Other Title: ['Old Judge (N172)'] \n",
            " Contributor: ['goodwin & co.'] \n",
            " Date: 1887-01-01 \n",
            "\n"
          ]
        },
        {
          "output_type": "display_data",
          "data": {
            "text/html": [
              "<img src=\"https://tile.loc.gov/storage-services/service/pnp/bbc/0000/0090/0093f_150px.jpg#h=150&w=84\"/>"
            ],
            "text/plain": [
              "<IPython.core.display.Image object>"
            ]
          },
          "metadata": {}
        },
        {
          "output_type": "stream",
          "name": "stdout",
          "text": [
            "\n",
            " \n",
            "\n",
            "Index: 196 \n",
            " Title: [John Roach, New York Giants, baseball card portrait] \n",
            " Other Title: ['Old Judge (N172)'] \n",
            " Contributor: ['goodwin & co.'] \n",
            " Date: 1887-01-01 \n",
            "\n"
          ]
        },
        {
          "output_type": "display_data",
          "data": {
            "text/html": [
              "<img src=\"https://tile.loc.gov/storage-services/service/pnp/bbc/0200/0280/0282f_150px.jpg#h=150&w=83\"/>"
            ],
            "text/plain": [
              "<IPython.core.display.Image object>"
            ]
          },
          "metadata": {}
        },
        {
          "output_type": "stream",
          "name": "stdout",
          "text": [
            "\n",
            " \n",
            "\n",
            "Index: 197 \n",
            " Title: [Mike Slattery, New York Giants, baseball card portrait] \n",
            " Other Title: ['Old Judge (N172)'] \n",
            " Contributor: ['goodwin & co.'] \n",
            " Date: 1887-01-01 \n",
            "\n"
          ]
        },
        {
          "output_type": "display_data",
          "data": {
            "text/html": [
              "<img src=\"https://tile.loc.gov/storage-services/service/pnp/bbc/0200/0280/0283f_150px.jpg#h=150&w=79\"/>"
            ],
            "text/plain": [
              "<IPython.core.display.Image object>"
            ]
          },
          "metadata": {}
        },
        {
          "output_type": "stream",
          "name": "stdout",
          "text": [
            "\n",
            " \n",
            "\n",
            "Index: 198 \n",
            " Title: [Mike Tiernan, New York Giants, baseball card portrait] \n",
            " Other Title: ['Old Judge (N172)'] \n",
            " Contributor: ['goodwin & co.'] \n",
            " Date: 1887-01-01 \n",
            "\n"
          ]
        },
        {
          "output_type": "display_data",
          "data": {
            "text/html": [
              "<img src=\"https://tile.loc.gov/storage-services/service/pnp/bbc/0200/0280/0284f_150px.jpg#h=150&w=86\"/>"
            ],
            "text/plain": [
              "<IPython.core.display.Image object>"
            ]
          },
          "metadata": {}
        },
        {
          "output_type": "stream",
          "name": "stdout",
          "text": [
            "\n",
            " \n",
            "\n",
            "Index: 199 \n",
            " Title: [Mike Tiernan, New York Giants, baseball card portrait] \n",
            " Other Title: ['Old Judge (N172)'] \n",
            " Contributor: ['goodwin & co.'] \n",
            " Date: 1887-01-01 \n",
            "\n"
          ]
        },
        {
          "output_type": "display_data",
          "data": {
            "text/html": [
              "<img src=\"https://tile.loc.gov/storage-services/service/pnp/bbc/0200/0280/0285f_150px.jpg#h=150&w=90\"/>"
            ],
            "text/plain": [
              "<IPython.core.display.Image object>"
            ]
          },
          "metadata": {}
        },
        {
          "output_type": "stream",
          "name": "stdout",
          "text": [
            "\n",
            " \n",
            "\n",
            "Index: 200 \n",
            " Title: [Mike Tiernan, New York Giants, baseball card portrait] \n",
            " Other Title: ['Old Judge (N172)'] \n",
            " Contributor: ['goodwin & co.'] \n",
            " Date: 1887-01-01 \n",
            "\n"
          ]
        },
        {
          "output_type": "display_data",
          "data": {
            "text/html": [
              "<img src=\"https://tile.loc.gov/storage-services/service/pnp/bbc/0200/0280/0286f_150px.jpg#h=150&w=79\"/>"
            ],
            "text/plain": [
              "<IPython.core.display.Image object>"
            ]
          },
          "metadata": {}
        },
        {
          "output_type": "stream",
          "name": "stdout",
          "text": [
            "\n",
            " \n",
            "\n"
          ]
        }
      ]
    },
    {
      "cell_type": "markdown",
      "source": [
        "As seen above, the information is shown for the first 200 items in the collection(25 items per page, 8 pages).\n",
        "\n",
        "This provides a brief summary of some of the collection items along with the corresponding image to match the information."
      ],
      "metadata": {
        "id": "JCxRu1bab5qy"
      }
    }
  ]
}
