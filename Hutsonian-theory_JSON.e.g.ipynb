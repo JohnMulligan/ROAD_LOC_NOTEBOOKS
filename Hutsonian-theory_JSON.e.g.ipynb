{
  "nbformat": 4,
  "nbformat_minor": 0,
  "metadata": {
    "colab": {
      "provenance": []
    },
    "kernelspec": {
      "name": "python3",
      "display_name": "Python 3"
    },
    "language_info": {
      "name": "python"
    }
  },
  "cells": [
    {
      "cell_type": "markdown",
      "source": [
        "## African American Photographs Assembled for 1900 Paris Exposition.\n",
        "Below are various code sets which i would have ran to execute specific outcomes outside and within my collection. This collection however only has printed images, articles and essays so the code reflects that.\n",
        "The code starts with the general Library of Congress main interface then gradually focuses on the American American Photographs Assembled for 1900 Paris Exposition."
      ],
      "metadata": {
        "id": "oj_dMMnKX0aT"
      }
    },
    {
      "cell_type": "markdown",
      "source": [
        "The code below starts with a list of the first 40 titles.The African American Photographs Assembled for 1900 Paris Exposition is number 11. Therefore, \"pagination\" is not needed."
      ],
      "metadata": {
        "id": "wzY5mlQCa4wX"
      }
    },
    {
      "cell_type": "code",
      "source": [
        "collections_json = requests.get(\"https://www.loc.gov/collections/?fo=json\").json()\n",
        "\n",
        "for collection in collections_json[\"results\"]:\n",
        "    print(collection[\"title\"])\n",
        "\n",
        "\n",
        "\n"
      ],
      "metadata": {
        "colab": {
          "base_uri": "https://localhost:8080/"
        },
        "id": "gkehfzd31tvV",
        "outputId": "e2f1bba0-65bc-475c-d598-89d2fbb231e2"
      },
      "execution_count": null,
      "outputs": [
        {
          "output_type": "stream",
          "name": "stdout",
          "text": [
            "10th-16th Century Liturgical Chants\n",
            "A.P. Schmidt Company archives, 1869-1958\n",
            "Aaron Copland Collection\n",
            "Abdul Hamid II Collection\n",
            "Abdul-Hamid II Collection of Books and Serials Gifted to the Library of Congress\n",
            "Abraham Lincoln Papers at the Library of Congress\n",
            "Afghanistan Web Archive\n",
            "Afghanistan, Iran, Pakistan and Tajikistan Government Web Archive\n",
            "Afghanistan, Iran, Pakistan, and Tajikistan Elections Web Archive\n",
            "African American Perspectives: Materials Selected from the Rare Book Collection\n",
            "African American Photographs Assembled for 1900 Paris Exposition\n",
            "African Government Web Archive\n",
            "African-American Band Music & Recordings, 1883-1923\n",
            "Africana Historic Postcard Collection\n",
            "After the Day of Infamy: \"Man-on-the-Street\" Interviews Following the Attack on Pearl Harbor\n",
            "Ainu and Ezochi Rare Collection\n",
            "Alan Lomax Collection\n",
            "Alan Lomax Collection of Michigan and Wisconsin Recordings\n",
            "Albert Schatz Collection\n",
            "Alexander Graham Bell Family Papers at the Library of Congress\n",
            "Alexander Hamilton Papers\n",
            "Alexander Hamilton Stephens Papers\n",
            "The Alfred Whital Stern Collection of Lincolniana\n",
            "Amazing Grace\n",
            "America at Work, America at Leisure: Motion Pictures from 1894-1915\n",
            "America Singing: Nineteenth-Century Song Sheets\n",
            "An American Ballroom Companion: Dance Instruction Manuals, ca. 1490-1920\n",
            "American Choral Music\n",
            "American Civil War Sesquicentennial Web Archive\n",
            "American Colony in Jerusalem, 1870-2006\n",
            "American English Dialect Recordings: The Center for Applied Linguistics Collection\n",
            "American Federation of Labor Records\n",
            "American Leaders Speak: Recordings from World War I\n",
            "American Life Histories: Manuscripts from the Federal Writers' Project, 1936-1940\n",
            "American Music Creators Web Archive\n",
            "American Music Industry Web Archive\n",
            "American Notes: Travels in America, 1750-1920\n",
            "American Revolution and Its Era: Maps and Charts of North America and the West Indies, 1750-1789\n",
            "American Variety Stage: Vaudeville and Popular Entertainment, 1870-1920\n",
            "Ancestral Voices\n"
          ]
        }
      ]
    },
    {
      "cell_type": "markdown",
      "source": [
        "Additionally, the code below shows the Image URL for the same first 40 collections."
      ],
      "metadata": {
        "id": "I1Uw4weXbcwu"
      }
    },
    {
      "cell_type": "code",
      "source": [
        "import requests\n",
        "\n",
        "collections_json = requests.get(\"https://www.loc.gov/collections/?fo=json\").json()\n",
        "\n",
        "for collection in collections_json[\"results\"]:\n",
        "    print(collection['image_url'])\n",
        "\n"
      ],
      "metadata": {
        "colab": {
          "base_uri": "https://localhost:8080/"
        },
        "id": "kWy8NW-C1Zch",
        "outputId": "190f9f30-7e88-4595-d04b-5df449a88256"
      },
      "execution_count": null,
      "outputs": [
        {
          "output_type": "stream",
          "name": "stdout",
          "text": [
            "['https://www.loc.gov/static/collections/tenth-to-sixteenth-century-liturgical-chants/500_500.jpg']\n",
            "['https://www.loc.gov/static/collections/a-p-schmidt-collection/500_500.jpg']\n",
            "['https://www.loc.gov/static/collections/aaron-copland/500_500.jpg']\n",
            "['https://www.loc.gov/static/collections/abdul-hamid-ii/500_500.jpg']\n",
            "['https://www.loc.gov/static/collections/abdul-hamid-ii-books/500_500.jpg']\n",
            "['https://www.loc.gov/static/collections/abraham-lincoln-papers/500_500.jpg']\n",
            "['https://www.loc.gov/static/collections/afghanistan-web-archive/500_500.jpg']\n",
            "['https://www.loc.gov/static/collections/afghanistan-iran-pakistan-and-tajikistan-government-web-archive/500_500.jpg']\n",
            "['https://www.loc.gov/static/collections/afghanistan-iran-pakistan-and-tajikistan-elections-web-archive/500_500.jpg']\n",
            "['https://www.loc.gov/static/collections/african-american-perspectives-rare-books/500_500.jpg']\n",
            "['https://www.loc.gov/static/collections/african-american-photographs-1900-paris-exposition/500_500.jpg']\n",
            "['https://www.loc.gov/static/collections/african-government-web-archive/500_500.jpg']\n",
            "['https://www.loc.gov/static/collections/african-american-band-music/500_500.jpg']\n",
            "['https://www.loc.gov/static/collections/africana-historic-postcard-collection/500_500.jpg']\n",
            "['https://www.loc.gov/static/collections/interviews-following-the-attack-on-pearl-harbor/500_500.jpg']\n",
            "['https://www.loc.gov/static/collections/ainu-and-ezochi-rare-collection/500_500.jpg']\n",
            "['https://www.loc.gov/static/collections/alan-lomax-manuscripts/500_500.jpg']\n",
            "['https://www.loc.gov/static/collections/alan-lomax-in-michigan/500_500.jpg']\n",
            "['https://www.loc.gov/static/collections/albert-schatz/500_500.jpg']\n",
            "['https://www.loc.gov/static/collections/alexander-graham-bell-papers/500_500.jpg']\n",
            "['https://www.loc.gov/static/collections/alexander-hamilton-papers/500_500.jpg']\n",
            "['https://www.loc.gov/static/collections/alexander-hamilton-stephens-papers/500_500.jpg']\n",
            "['https://www.loc.gov/static/collections/alfred-whital-stern-lincolniana/500_500.jpg']\n",
            "['https://www.loc.gov/static/collections/amazing-grace/500_500.jpg']\n",
            "['https://www.loc.gov/static/collections/america-at-work-and-leisure-1894-to-1915/500_500.jpg']\n",
            "['https://www.loc.gov/static/collections/nineteenth-century-song-sheets/500_500.jpg']\n",
            "['https://www.loc.gov/static/collections/dance-instruction-manuals-from-1490-to-1920/500_500.jpg']\n",
            "['https://www.loc.gov/static/collections/american-choral-music/500_500.jpg']\n",
            "['https://www.loc.gov/static/collections/american-civil-war-sesquicentennial-web-archive/500_500.jpg']\n",
            "['https://www.loc.gov/static/collections/american-colony-in-jerusalem/500_500.jpg']\n",
            "['https://www.loc.gov/static/collections/american-english-dialect-recordings-from-the-center-for-applied-linguistics/500_500.jpg']\n",
            "['https://www.loc.gov/static/collections/american-federation-of-labor-records/500_500.jpg']\n",
            "['https://www.loc.gov/static/collections/world-war-i-and-1920-election-recordings/500_500.jpg']\n",
            "['https://www.loc.gov/static/collections/federal-writers-project/500_500.jpg']\n",
            "['https://www.loc.gov/static/collections/american-music-creators-web-archive/500_500.jpg']\n",
            "['https://www.loc.gov/static/collections/american-music-industry-web-archive/500_500.jpg']\n",
            "['https://www.loc.gov/static/collections/travels-in-america-1750-to-1920/500_500.jpg']\n",
            "['https://www.loc.gov/static/collections/american-revolutionary-war-maps/500_500.jpg']\n",
            "['https://www.loc.gov/static/collections/vaudeville-and-popular-entertainment/500_500.jpg']\n",
            "['https://www.loc.gov/static/collections/ancestral-voices/500_500.jpg']\n"
          ]
        }
      ]
    },
    {
      "cell_type": "markdown",
      "source": [
        "This code shows the index number for the first 40 collections"
      ],
      "metadata": {
        "id": "4W6V60sYqEZx"
      }
    },
    {
      "cell_type": "code",
      "source": [
        "import requests\n",
        "\n",
        "collections_json = requests.get(\"https://www.loc.gov/collections/?fo=json\").json()\n",
        "\n",
        "for collection in collections_json[\"results\"]:\n",
        "    print(collection[\"index\"])\n",
        "\n",
        "\n",
        "\n"
      ],
      "metadata": {
        "colab": {
          "base_uri": "https://localhost:8080/"
        },
        "outputId": "ab0798fd-1015-4674-9168-6e6ae473a902",
        "id": "b3DNyjUDaHyR"
      },
      "execution_count": null,
      "outputs": [
        {
          "output_type": "stream",
          "name": "stdout",
          "text": [
            "1\n",
            "2\n",
            "3\n",
            "4\n",
            "5\n",
            "6\n",
            "7\n",
            "8\n",
            "9\n",
            "10\n",
            "11\n",
            "12\n",
            "13\n",
            "14\n",
            "15\n",
            "16\n",
            "17\n",
            "18\n",
            "19\n",
            "20\n",
            "21\n",
            "22\n",
            "23\n",
            "24\n",
            "25\n",
            "26\n",
            "27\n",
            "28\n",
            "29\n",
            "30\n",
            "31\n",
            "32\n",
            "33\n",
            "34\n",
            "35\n",
            "36\n",
            "37\n",
            "38\n",
            "39\n",
            "40\n"
          ]
        }
      ]
    },
    {
      "cell_type": "markdown",
      "source": [
        "This section has been specifically coded to look through the African American Photographs collection. It has brought up several Image URL's within the collection."
      ],
      "metadata": {
        "id": "ChmPr3BJqWnU"
      }
    },
    {
      "cell_type": "code",
      "source": [
        "import requests\n",
        "\n",
        "collections_json = requests.get(\"https://www.loc.gov/collections/african-american-photographs-1900-paris-exposition/?fo=json\").json()\n",
        "\n",
        "for collection in collections_json[\"results\"]:\n",
        "    print(collection['image_url'])"
      ],
      "metadata": {
        "colab": {
          "base_uri": "https://localhost:8080/"
        },
        "id": "NIf-c22wqpgq",
        "outputId": "7109d688-58a0-4cff-9dbd-546ba074805c"
      },
      "execution_count": null,
      "outputs": [
        {
          "output_type": "stream",
          "name": "stdout",
          "text": [
            "['https://tile.loc.gov/storage-services/service/pnp/cph/3c10000/3c17000/3c17800/3c17838_150px.jpg#h=150&w=120', 'https://tile.loc.gov/storage-services/service/pnp/cph/3c10000/3c17000/3c17800/3c17838t.gif#h=150&w=120', 'https://tile.loc.gov/storage-services/service/pnp/cph/3c10000/3c17000/3c17800/3c17838r.jpg#h=640&w=514', 'https://tile.loc.gov/storage-services/service/pnp/cph/3c10000/3c17000/3c17800/3c17838v.jpg#h=1024&w=822']\n",
            "['https://tile.loc.gov/storage-services/service/pnp/cph/3b40000/3b43000/3b43200/3b43269_150px.jpg#h=110&w=150', 'https://tile.loc.gov/storage-services/service/pnp/cph/3b40000/3b43000/3b43200/3b43269t.gif#h=110&w=150', 'https://tile.loc.gov/storage-services/service/pnp/cph/3b40000/3b43000/3b43200/3b43269r.jpg#h=470&w=640']\n",
            "['https://tile.loc.gov/storage-services/service/pnp/cph/3b40000/3b41000/3b41500/3b41599_150px.jpg#h=108&w=150', 'https://tile.loc.gov/storage-services/service/pnp/cph/3b40000/3b41000/3b41500/3b41599t.gif#h=108&w=150', 'https://tile.loc.gov/storage-services/service/pnp/cph/3b40000/3b41000/3b41500/3b41599r.jpg#h=460&w=640']\n",
            "['https://tile.loc.gov/storage-services/service/pnp/ppmsca/38300/38386_150px.jpg#h=118&w=150', 'https://tile.loc.gov/storage-services/service/pnp/ppmsca/38300/38386r.jpg#h=503&w=640', 'https://tile.loc.gov/storage-services/service/pnp/ppmsca/38300/38386v.jpg#h=805&w=1024']\n",
            "['https://tile.loc.gov/storage-services/service/pnp/cph/3a40000/3a40000/3a40800/3a40804_150px.jpg#h=115&w=150', 'https://tile.loc.gov/storage-services/service/pnp/cph/3a40000/3a40000/3a40800/3a40804t.gif#h=115&w=150', 'https://tile.loc.gov/storage-services/service/pnp/cph/3a40000/3a40000/3a40800/3a40804r.jpg#h=489&w=640']\n",
            "['https://tile.loc.gov/storage-services/service/pnp/cph/3a40000/3a40000/3a40800/3a40805_150px.jpg#h=113&w=150', 'https://tile.loc.gov/storage-services/service/pnp/cph/3a40000/3a40000/3a40800/3a40805t.gif#h=114&w=150', 'https://tile.loc.gov/storage-services/service/pnp/cph/3a40000/3a40000/3a40800/3a40805r.jpg#h=483&w=640', 'https://tile.loc.gov/storage-services/service/pnp/cph/3a40000/3a40000/3a40800/3a40805v.jpg#h=773&w=1024']\n",
            "['https://tile.loc.gov/storage-services/service/pnp/cph/3a40000/3a40000/3a40800/3a40806_150px.jpg#h=117&w=150', 'https://tile.loc.gov/storage-services/service/pnp/cph/3a40000/3a40000/3a40800/3a40806t.gif#h=117&w=150', 'https://tile.loc.gov/storage-services/service/pnp/cph/3a40000/3a40000/3a40800/3a40806r.jpg#h=500&w=640']\n",
            "['https://tile.loc.gov/storage-services/service/pnp/cph/3a40000/3a40000/3a40800/3a40807_150px.jpg#h=116&w=150', 'https://tile.loc.gov/storage-services/service/pnp/cph/3a40000/3a40000/3a40800/3a40807t.gif#h=116&w=150', 'https://tile.loc.gov/storage-services/service/pnp/cph/3a40000/3a40000/3a40800/3a40807r.jpg#h=496&w=640']\n",
            "['https://tile.loc.gov/storage-services/service/pnp/cph/3a40000/3a40000/3a40800/3a40808_150px.jpg#h=114&w=150', 'https://tile.loc.gov/storage-services/service/pnp/cph/3a40000/3a40000/3a40800/3a40808t.gif#h=114&w=150', 'https://tile.loc.gov/storage-services/service/pnp/cph/3a40000/3a40000/3a40800/3a40808r.jpg#h=488&w=640']\n",
            "['https://tile.loc.gov/storage-services/service/pnp/cph/3a40000/3a40000/3a40800/3a40809_150px.jpg#h=117&w=150', 'https://tile.loc.gov/storage-services/service/pnp/cph/3a40000/3a40000/3a40800/3a40809t.gif#h=117&w=150', 'https://tile.loc.gov/storage-services/service/pnp/cph/3a40000/3a40000/3a40800/3a40809r.jpg#h=500&w=640']\n",
            "['https://tile.loc.gov/storage-services/service/pnp/cph/3a40000/3a40000/3a40800/3a40810_150px.jpg#h=116&w=150', 'https://tile.loc.gov/storage-services/service/pnp/cph/3a40000/3a40000/3a40800/3a40810t.gif#h=115&w=150', 'https://tile.loc.gov/storage-services/service/pnp/cph/3a40000/3a40000/3a40800/3a40810r.jpg#h=495&w=640', 'https://tile.loc.gov/storage-services/service/pnp/cph/3a40000/3a40000/3a40800/3a40810v.jpg#h=792&w=1024']\n",
            "['https://tile.loc.gov/storage-services/service/pnp/cph/3a40000/3a46000/3a46600/3a46649_150px.jpg#h=116&w=150', 'https://tile.loc.gov/storage-services/service/pnp/cph/3a40000/3a46000/3a46600/3a46649t.gif#h=116&w=150', 'https://tile.loc.gov/storage-services/service/pnp/cph/3a40000/3a46000/3a46600/3a46649r.jpg#h=494&w=640']\n",
            "['https://tile.loc.gov/storage-services/service/pnp/cph/3a30000/3a36000/3a36100/3a36171_150px.jpg#h=115&w=150', 'https://tile.loc.gov/storage-services/service/pnp/cph/3a30000/3a36000/3a36100/3a36171t.gif#h=115&w=150', 'https://tile.loc.gov/storage-services/service/pnp/cph/3a30000/3a36000/3a36100/3a36171r.jpg#h=489&w=640']\n",
            "['https://tile.loc.gov/storage-services/service/pnp/cph/3a30000/3a36000/3a36100/3a36172_150px.jpg#h=119&w=150', 'https://tile.loc.gov/storage-services/service/pnp/cph/3a30000/3a36000/3a36100/3a36172t.gif#h=118&w=150', 'https://tile.loc.gov/storage-services/service/pnp/cph/3a30000/3a36000/3a36100/3a36172r.jpg#h=507&w=640', 'https://tile.loc.gov/storage-services/service/pnp/cph/3a30000/3a36000/3a36100/3a36172v.jpg#h=811&w=1024']\n",
            "['https://tile.loc.gov/storage-services/service/pnp/cph/3b40000/3b44000/3b44500/3b44533_150px.jpg#h=110&w=150', 'https://tile.loc.gov/storage-services/service/pnp/cph/3b40000/3b44000/3b44500/3b44533t.gif#h=110&w=150', 'https://tile.loc.gov/storage-services/service/pnp/cph/3b40000/3b44000/3b44500/3b44533r.jpg#h=470&w=640']\n",
            "['https://tile.loc.gov/storage-services/service/pnp/cph/3b40000/3b45000/3b45100/3b45127_150px.jpg#h=109&w=150', 'https://tile.loc.gov/storage-services/service/pnp/cph/3b40000/3b45000/3b45100/3b45127t.gif#h=109&w=150', 'https://tile.loc.gov/storage-services/service/pnp/cph/3b40000/3b45000/3b45100/3b45127r.jpg#h=467&w=640', 'https://tile.loc.gov/storage-services/service/pnp/cph/3b40000/3b45000/3b45100/3b45127v.jpg#h=747&w=1024']\n",
            "['https://tile.loc.gov/storage-services/service/pnp/cph/3b40000/3b45000/3b45100/3b45128_150px.jpg#h=111&w=150', 'https://tile.loc.gov/storage-services/service/pnp/cph/3b40000/3b45000/3b45100/3b45128t.gif#h=111&w=150', 'https://tile.loc.gov/storage-services/service/pnp/cph/3b40000/3b45000/3b45100/3b45128r.jpg#h=474&w=640', 'https://tile.loc.gov/storage-services/service/pnp/cph/3b40000/3b45000/3b45100/3b45128v.jpg#h=759&w=1024']\n",
            "['https://tile.loc.gov/storage-services/service/pnp/cph/3b40000/3b45000/3b45100/3b45129_150px.jpg#h=150&w=118', 'https://tile.loc.gov/storage-services/service/pnp/cph/3b40000/3b45000/3b45100/3b45129t.gif#h=150&w=118', 'https://tile.loc.gov/storage-services/service/pnp/cph/3b40000/3b45000/3b45100/3b45129r.jpg#h=640&w=503', 'https://tile.loc.gov/storage-services/service/pnp/cph/3b40000/3b45000/3b45100/3b45129v.jpg#h=1024&w=805']\n",
            "['https://tile.loc.gov/storage-services/service/pnp/ppmsca/09900/09902_150px.jpg#h=117&w=150', 'https://tile.loc.gov/storage-services/service/pnp/ppmsca/09900/09902t.gif#h=117&w=150', 'https://tile.loc.gov/storage-services/service/pnp/ppmsca/09900/09902r.jpg#h=500&w=640', 'https://tile.loc.gov/storage-services/service/pnp/ppmsca/09900/09902v.jpg#h=800&w=1024']\n",
            "['https://tile.loc.gov/storage-services/service/pnp/cph/3c10000/3c18000/3c18000/3c18032_150px.jpg#h=150&w=120', 'https://tile.loc.gov/storage-services/service/pnp/cph/3c10000/3c18000/3c18000/3c18032t.gif#h=150&w=120', 'https://tile.loc.gov/storage-services/service/pnp/cph/3c10000/3c18000/3c18000/3c18032r.jpg#h=640&w=511', 'https://tile.loc.gov/storage-services/service/pnp/cph/3c10000/3c18000/3c18000/3c18032v.jpg#h=1024&w=818']\n",
            "['https://tile.loc.gov/storage-services/service/pnp/cph/3c10000/3c18000/3c18000/3c18030_150px.jpg#h=120&w=150', 'https://tile.loc.gov/storage-services/service/pnp/cph/3c10000/3c18000/3c18000/3c18030t.gif#h=120&w=150', 'https://tile.loc.gov/storage-services/service/pnp/cph/3c10000/3c18000/3c18000/3c18030r.jpg#h=512&w=640', 'https://tile.loc.gov/storage-services/service/pnp/cph/3c10000/3c18000/3c18000/3c18030v.jpg#h=820&w=1024']\n",
            "['https://tile.loc.gov/storage-services/service/pnp/cph/3c10000/3c18000/3c18000/3c18028_150px.jpg#h=119&w=150', 'https://tile.loc.gov/storage-services/service/pnp/cph/3c10000/3c18000/3c18000/3c18028t.gif#h=120&w=150', 'https://tile.loc.gov/storage-services/service/pnp/cph/3c10000/3c18000/3c18000/3c18028r.jpg#h=510&w=640', 'https://tile.loc.gov/storage-services/service/pnp/cph/3c10000/3c18000/3c18000/3c18028v.jpg#h=816&w=1024']\n",
            "['https://tile.loc.gov/storage-services/service/pnp/cph/3c10000/3c18000/3c18900/3c18916_150px.jpg#h=120&w=150', 'https://tile.loc.gov/storage-services/service/pnp/cph/3c10000/3c18000/3c18900/3c18916t.gif#h=120&w=150', 'https://tile.loc.gov/storage-services/service/pnp/cph/3c10000/3c18000/3c18900/3c18916r.jpg#h=511&w=640', 'https://tile.loc.gov/storage-services/service/pnp/cph/3c10000/3c18000/3c18900/3c18916v.jpg#h=818&w=1024']\n",
            "['https://tile.loc.gov/storage-services/service/pnp/cph/3c10000/3c18000/3c18900/3c18917_150px.jpg#h=120&w=150', 'https://tile.loc.gov/storage-services/service/pnp/cph/3c10000/3c18000/3c18900/3c18917t.gif#h=120&w=150', 'https://tile.loc.gov/storage-services/service/pnp/cph/3c10000/3c18000/3c18900/3c18917r.jpg#h=511&w=640', 'https://tile.loc.gov/storage-services/service/pnp/cph/3c10000/3c18000/3c18900/3c18917v.jpg#h=818&w=1024']\n",
            "['https://tile.loc.gov/storage-services/service/pnp/cph/3a40000/3a42000/3a42400/3a42415_150px.jpg#h=108&w=150', 'https://tile.loc.gov/storage-services/service/pnp/cph/3a40000/3a42000/3a42400/3a42415t.gif#h=108&w=150', 'https://tile.loc.gov/storage-services/service/pnp/cph/3a40000/3a42000/3a42400/3a42415r.jpg#h=462&w=640']\n"
          ]
        }
      ]
    },
    {
      "cell_type": "markdown",
      "source": [
        "Continuing from where we left off. Below code shows the description of the 40 images from the previous image url code."
      ],
      "metadata": {
        "id": "iIILbQ6HssN6"
      }
    },
    {
      "cell_type": "code",
      "source": [
        "import requests\n",
        "\n",
        "collections_json = requests.get(\"https://www.loc.gov/collections/african-american-photographs-1900-paris-exposition/?fo=json\").json()\n",
        "\n",
        "for collection in collections_json[\"results\"]:\n",
        "    print(collection[\"description\"])\n",
        "\n"
      ],
      "metadata": {
        "colab": {
          "base_uri": "https://localhost:8080/"
        },
        "id": "9-eBTv1hqwB6",
        "outputId": "a342eb9c-2465-4a50-9771-26b350b2176d"
      },
      "execution_count": null,
      "outputs": [
        {
          "output_type": "stream",
          "name": "stdout",
          "text": [
            "['1 photographic print. | 15 views of Tuskegee Institute, Alabama, showing activities of students, including cabinet making, sewing, and millinery.']\n",
            "['1 photographic print.']\n",
            "['1 photographic print. | Twelve African-American men and women posed outside.']\n",
            "['1 photographic print : mounted on layered paper ; photo 26.2 x 33.4 cm, mount 35.6 x 45.7 cm. | Sixteen African-American law students standing on steps of building, wearing formal attire, some holding top hats.']\n",
            "['1 photographic print.']\n",
            "['1 photographic print.']\n",
            "['1 photographic print.']\n",
            "['1 photographic print.']\n",
            "['1 photographic print. | Seven males - print rev.']\n",
            "['1 photographic print.']\n",
            "['1 photographic print.']\n",
            "['1 photographic print. | African American and Asian children, ages 6-10, doing calisthenics outside school building.']\n",
            "['1 photographic print.']\n",
            "['1 photographic print.']\n",
            "['1 photographic print. | Group of blacks outside drugstore.']\n",
            "['1 photographic print. | Two horse-drawn wagons and group of black people in front of laundry.']\n",
            "['1 photographic print. | Mail carrier and six other men posed standing at entrance to shop.']\n",
            "['1 photographic print.']\n",
            "['1 photographic print.']\n",
            "['1 photographic print.']\n",
            "['1 photographic print.']\n",
            "['1 photographic print.']\n",
            "['1 photographic print. | Young women sewing with machines and by hand in the sewing class at the Agricultural and Mechanical College, Greensboro, N.C.']\n",
            "['1 photographic print. | Young women cutting and fitting clothing in class at Agricultural and Mechanical College, Greensboro, N.C.']\n",
            "['1 photographic print. | African American \"waitresses\" standing by tables.']\n"
          ]
        }
      ]
    }
  ]
}